{
  "nbformat": 4,
  "nbformat_minor": 0,
  "metadata": {
    "colab": {
      "name": "topic_2_cnn_1step_version.ipynb",
      "provenance": [],
      "collapsed_sections": [],
      "include_colab_link": true
    },
    "kernelspec": {
      "name": "python3",
      "display_name": "Python 3"
    },
    "accelerator": "GPU",
    "widgets": {
      "application/vnd.jupyter.widget-state+json": {
        "adca55f29e06441a955cd6d8dc901f09": {
          "model_module": "@jupyter-widgets/controls",
          "model_name": "HBoxModel",
          "state": {
            "_view_name": "HBoxView",
            "_dom_classes": [],
            "_model_name": "HBoxModel",
            "_view_module": "@jupyter-widgets/controls",
            "_model_module_version": "1.5.0",
            "_view_count": null,
            "_view_module_version": "1.5.0",
            "box_style": "",
            "layout": "IPY_MODEL_48cc29b1b5c342a0b5702fc2a03cc738",
            "_model_module": "@jupyter-widgets/controls",
            "children": [
              "IPY_MODEL_51323d4c77fe4a3b8d792629d802c36d",
              "IPY_MODEL_d0487a3c4c65458197384479163b0c0e"
            ]
          }
        },
        "48cc29b1b5c342a0b5702fc2a03cc738": {
          "model_module": "@jupyter-widgets/base",
          "model_name": "LayoutModel",
          "state": {
            "_view_name": "LayoutView",
            "grid_template_rows": null,
            "right": null,
            "justify_content": null,
            "_view_module": "@jupyter-widgets/base",
            "overflow": null,
            "_model_module_version": "1.2.0",
            "_view_count": null,
            "flex_flow": null,
            "width": null,
            "min_width": null,
            "border": null,
            "align_items": null,
            "bottom": null,
            "_model_module": "@jupyter-widgets/base",
            "top": null,
            "grid_column": null,
            "overflow_y": null,
            "overflow_x": null,
            "grid_auto_flow": null,
            "grid_area": null,
            "grid_template_columns": null,
            "flex": null,
            "_model_name": "LayoutModel",
            "justify_items": null,
            "grid_row": null,
            "max_height": null,
            "align_content": null,
            "visibility": null,
            "align_self": null,
            "height": null,
            "min_height": null,
            "padding": null,
            "grid_auto_rows": null,
            "grid_gap": null,
            "max_width": null,
            "order": null,
            "_view_module_version": "1.2.0",
            "grid_template_areas": null,
            "object_position": null,
            "object_fit": null,
            "grid_auto_columns": null,
            "margin": null,
            "display": null,
            "left": null
          }
        },
        "51323d4c77fe4a3b8d792629d802c36d": {
          "model_module": "@jupyter-widgets/controls",
          "model_name": "FloatProgressModel",
          "state": {
            "_view_name": "ProgressView",
            "style": "IPY_MODEL_1990f6d36c4d41f2b0387b5725e48c7d",
            "_dom_classes": [],
            "description": "100%",
            "_model_name": "FloatProgressModel",
            "bar_style": "success",
            "max": 38,
            "_view_module": "@jupyter-widgets/controls",
            "_model_module_version": "1.5.0",
            "value": 38,
            "_view_count": null,
            "_view_module_version": "1.5.0",
            "orientation": "horizontal",
            "min": 0,
            "description_tooltip": null,
            "_model_module": "@jupyter-widgets/controls",
            "layout": "IPY_MODEL_16ea67eb1b49497290cbc0f493d3d55f"
          }
        },
        "d0487a3c4c65458197384479163b0c0e": {
          "model_module": "@jupyter-widgets/controls",
          "model_name": "HTMLModel",
          "state": {
            "_view_name": "HTMLView",
            "style": "IPY_MODEL_263c03a7967a4d34981b236b235bf471",
            "_dom_classes": [],
            "description": "",
            "_model_name": "HTMLModel",
            "placeholder": "​",
            "_view_module": "@jupyter-widgets/controls",
            "_model_module_version": "1.5.0",
            "value": " 38/38 [00:02&lt;00:00, 13.00it/s]",
            "_view_count": null,
            "_view_module_version": "1.5.0",
            "description_tooltip": null,
            "_model_module": "@jupyter-widgets/controls",
            "layout": "IPY_MODEL_b6506c9be10a4655bf022a3769ae06c5"
          }
        },
        "1990f6d36c4d41f2b0387b5725e48c7d": {
          "model_module": "@jupyter-widgets/controls",
          "model_name": "ProgressStyleModel",
          "state": {
            "_view_name": "StyleView",
            "_model_name": "ProgressStyleModel",
            "description_width": "initial",
            "_view_module": "@jupyter-widgets/base",
            "_model_module_version": "1.5.0",
            "_view_count": null,
            "_view_module_version": "1.2.0",
            "bar_color": null,
            "_model_module": "@jupyter-widgets/controls"
          }
        },
        "16ea67eb1b49497290cbc0f493d3d55f": {
          "model_module": "@jupyter-widgets/base",
          "model_name": "LayoutModel",
          "state": {
            "_view_name": "LayoutView",
            "grid_template_rows": null,
            "right": null,
            "justify_content": null,
            "_view_module": "@jupyter-widgets/base",
            "overflow": null,
            "_model_module_version": "1.2.0",
            "_view_count": null,
            "flex_flow": null,
            "width": null,
            "min_width": null,
            "border": null,
            "align_items": null,
            "bottom": null,
            "_model_module": "@jupyter-widgets/base",
            "top": null,
            "grid_column": null,
            "overflow_y": null,
            "overflow_x": null,
            "grid_auto_flow": null,
            "grid_area": null,
            "grid_template_columns": null,
            "flex": null,
            "_model_name": "LayoutModel",
            "justify_items": null,
            "grid_row": null,
            "max_height": null,
            "align_content": null,
            "visibility": null,
            "align_self": null,
            "height": null,
            "min_height": null,
            "padding": null,
            "grid_auto_rows": null,
            "grid_gap": null,
            "max_width": null,
            "order": null,
            "_view_module_version": "1.2.0",
            "grid_template_areas": null,
            "object_position": null,
            "object_fit": null,
            "grid_auto_columns": null,
            "margin": null,
            "display": null,
            "left": null
          }
        },
        "263c03a7967a4d34981b236b235bf471": {
          "model_module": "@jupyter-widgets/controls",
          "model_name": "DescriptionStyleModel",
          "state": {
            "_view_name": "StyleView",
            "_model_name": "DescriptionStyleModel",
            "description_width": "",
            "_view_module": "@jupyter-widgets/base",
            "_model_module_version": "1.5.0",
            "_view_count": null,
            "_view_module_version": "1.2.0",
            "_model_module": "@jupyter-widgets/controls"
          }
        },
        "b6506c9be10a4655bf022a3769ae06c5": {
          "model_module": "@jupyter-widgets/base",
          "model_name": "LayoutModel",
          "state": {
            "_view_name": "LayoutView",
            "grid_template_rows": null,
            "right": null,
            "justify_content": null,
            "_view_module": "@jupyter-widgets/base",
            "overflow": null,
            "_model_module_version": "1.2.0",
            "_view_count": null,
            "flex_flow": null,
            "width": null,
            "min_width": null,
            "border": null,
            "align_items": null,
            "bottom": null,
            "_model_module": "@jupyter-widgets/base",
            "top": null,
            "grid_column": null,
            "overflow_y": null,
            "overflow_x": null,
            "grid_auto_flow": null,
            "grid_area": null,
            "grid_template_columns": null,
            "flex": null,
            "_model_name": "LayoutModel",
            "justify_items": null,
            "grid_row": null,
            "max_height": null,
            "align_content": null,
            "visibility": null,
            "align_self": null,
            "height": null,
            "min_height": null,
            "padding": null,
            "grid_auto_rows": null,
            "grid_gap": null,
            "max_width": null,
            "order": null,
            "_view_module_version": "1.2.0",
            "grid_template_areas": null,
            "object_position": null,
            "object_fit": null,
            "grid_auto_columns": null,
            "margin": null,
            "display": null,
            "left": null
          }
        }
      }
    }
  },
  "cells": [
    {
      "cell_type": "markdown",
      "metadata": {
        "id": "view-in-github",
        "colab_type": "text"
      },
      "source": [
        "<a href=\"https://colab.research.google.com/github/HyeongChanHam/hand_project/blob/master/topic_2_cnn_1step_with_holdout_validation.ipynb\" target=\"_parent\"><img src=\"https://colab.research.google.com/assets/colab-badge.svg\" alt=\"Open In Colab\"/></a>"
      ]
    },
    {
      "cell_type": "code",
      "metadata": {
        "colab": {
          "base_uri": "https://localhost:8080/"
        },
        "id": "z6cYTDhzbS24",
        "outputId": "ed344121-3af6-4a26-aa19-0b49a57e296b"
      },
      "source": [
        "env = 'colab'\n",
        "if env=='colab':\n",
        "    from google.colab import drive\n",
        "    drive.mount('/content/drive')\n",
        "    from tqdm.notebook import tqdm\n",
        "else:\n",
        "    from tqdm import tqdm"
      ],
      "execution_count": 1,
      "outputs": [
        {
          "output_type": "stream",
          "text": [
            "Drive already mounted at /content/drive; to attempt to forcibly remount, call drive.mount(\"/content/drive\", force_remount=True).\n"
          ],
          "name": "stdout"
        }
      ]
    },
    {
      "cell_type": "code",
      "metadata": {
        "id": "4z1SQOkebZW8"
      },
      "source": [
        "import os\n",
        "import torch\n",
        "import numpy as np\n",
        "import torchvision\n",
        "from torch.utils.data import Dataset\n",
        "from torch.utils.data import DataLoader\n",
        "import cv2\n",
        "import matplotlib.pyplot as plt\n",
        "import math\n",
        "from sklearn.metrics import confusion_matrix\n",
        "import matplotlib.pyplot as plt\n",
        "from sklearn import svm, metrics\n",
        "import torch.nn as nn\n",
        "import torch\n",
        "import torch.nn.functional as F"
      ],
      "execution_count": 2,
      "outputs": []
    },
    {
      "cell_type": "code",
      "metadata": {
        "id": "OzJRnu82bmWu"
      },
      "source": [
        "from glob import glob\n",
        "import pandas"
      ],
      "execution_count": 3,
      "outputs": []
    },
    {
      "cell_type": "code",
      "metadata": {
        "id": "jCuiQJyCbogS"
      },
      "source": [
        "device = 'cuda:0' if torch.cuda.is_available() else 'cpu'\n",
        "num_joints = 21"
      ],
      "execution_count": 4,
      "outputs": []
    },
    {
      "cell_type": "code",
      "metadata": {
        "id": "1T4IH6JTbq_z"
      },
      "source": [
        "# 2d pose estimator - pretrained\n",
        "class CPM2DPose(nn.Module):\n",
        "    def __init__(self):\n",
        "        super(CPM2DPose, self).__init__()\n",
        "        \n",
        "        self.scoremap_list = []\n",
        "        self.layers_per_block = [2, 2, 4, 2]\n",
        "        self.out_chan_list = [64, 128, 256, 512]\n",
        "        self.pool_list = [True, True, True, False]\n",
        "\n",
        "        self.relu = F.leaky_relu\n",
        "        self.conv1_1 = nn.Conv2d(3, 64, kernel_size=3, stride=1, padding=1, bias=True)  # conv0_1\n",
        "        self.conv1_2 = nn.Conv2d(64, 64, kernel_size=3, stride=1, padding=1, bias=True)  # conv0_2\n",
        "        self.conv2_1 = nn.Conv2d(64, 128, kernel_size=3, stride=1, padding=1, bias=True)  # conv0_2\n",
        "        self.conv2_2 = nn.Conv2d(128, 128, kernel_size=3, stride=1, padding=1, bias=True)  # conv0_2\n",
        "        self.conv3_1 = nn.Conv2d(128, 256, kernel_size=3, stride=1, padding=1, bias=True)  # conv0_2\n",
        "        self.conv3_2 = nn.Conv2d(256, 256, kernel_size=3, stride=1, padding=1, bias=True)  # conv0_2\n",
        "        self.conv3_3 = nn.Conv2d(256, 256, kernel_size=3, stride=1, padding=1, bias=True)  # conv0_2\n",
        "        self.conv3_4 = nn.Conv2d(256, 256, kernel_size=3, stride=1, padding=1, bias=True)  # conv0_2\n",
        "        self.conv4_1 = nn.Conv2d(256, 512, kernel_size=3, stride=1, padding=1, bias=True)  # conv0_2\n",
        "        self.conv4_2 = nn.Conv2d(512, 512, kernel_size=3, stride=1, padding=1, bias=True)  # conv0_2\n",
        "        self.conv4_3 = nn.Conv2d(512, 256, kernel_size=3, stride=1, padding=1, bias=True)  # conv0_2\n",
        "        self.conv4_4 = nn.Conv2d(256, 256, kernel_size=3, stride=1, padding=1, bias=True)  # conv0_2\n",
        "        self.conv4_5 = nn.Conv2d(256, 256, kernel_size=3, stride=1, padding=1, bias=True)  # conv0_2\n",
        "        self.conv4_6 = nn.Conv2d(256, 256, kernel_size=3, stride=1, padding=1, bias=True)  # conv0_2\n",
        "        self.conv4_7 = nn.Conv2d(256, 128, kernel_size=3, stride=1, padding=1, bias=True)  # conv0_2\n",
        "        self.conv5_1 = nn.Conv2d(128, 512, kernel_size=1, stride=1, padding=0, bias=True)  # conv0_2\n",
        "        self.conv5_2 = nn.Conv2d(512, 21, kernel_size=1, stride=1, padding=0, bias=True)  # conv0_2\n",
        "        self.conv6_1 = nn.Conv2d(149, 128, kernel_size=7, stride=1, padding=3, bias=True)  # conv0_2\n",
        "        self.conv6_2 = nn.Conv2d(128, 128, kernel_size=7, stride=1, padding=3, bias=True)  # conv0_2\n",
        "        self.conv6_3 = nn.Conv2d(128, 128, kernel_size=7, stride=1, padding=3, bias=True)  # conv0_2\n",
        "        self.conv6_4 = nn.Conv2d(128, 128, kernel_size=7, stride=1, padding=3, bias=True)  # conv0_2\n",
        "        self.conv6_5 = nn.Conv2d(128, 128, kernel_size=7, stride=1, padding=3, bias=True)  # conv0_2\n",
        "        self.conv6_6 = nn.Conv2d(128, 128, kernel_size=1, stride=1, padding=0, bias=True)  # conv0_2\n",
        "        self.conv6_7 = nn.Conv2d(128, 21, kernel_size=1, stride=1, padding=0, bias=True)  # conv0_2\n",
        "        self.conv7_1 = nn.Conv2d(149, 128, kernel_size=7, stride=1, padding=3, bias=True)  # conv0_2\n",
        "        self.conv7_2 = nn.Conv2d(128, 128, kernel_size=7, stride=1, padding=3, bias=True)  # conv0_2\n",
        "        self.conv7_3 = nn.Conv2d(128, 128, kernel_size=7, stride=1, padding=3, bias=True)  # conv0_2\n",
        "        self.conv7_4 = nn.Conv2d(128, 128, kernel_size=7, stride=1, padding=3, bias=True)  # conv0_2\n",
        "        self.conv7_5 = nn.Conv2d(128, 128, kernel_size=7, stride=1, padding=3, bias=True)  # conv0_2\n",
        "        self.conv7_6 = nn.Conv2d(128, 128, kernel_size=1, stride=1, padding=0, bias=True)  # conv0_2\n",
        "        self.conv7_7 = nn.Conv2d(128, 21, kernel_size=1, stride=1, padding=0, bias=True)  # conv0_2\n",
        "        self.maxpool = nn.MaxPool2d(kernel_size=2, stride=2, padding=0)\n",
        "        self.fc_layer = nn.Sequential( # image -> semantic class로 나오도록\n",
        "            nn.Linear(21*32*32,256),\n",
        "            nn.ReLU(),\n",
        "            nn.Linear(256,3)\n",
        "        )\n",
        "        \n",
        "\n",
        "    def _make_layer(self, block, planes, blocks, stride=1):\n",
        "        downsample = None\n",
        "        if stride != 1 or self.inplanes != planes * block.expansion:\n",
        "            downsample = nn.Sequential(\n",
        "                nn.Conv2d(self.inplanes, planes * block.expansion,\n",
        "                          kernel_size=1, stride=stride, bias=False),\n",
        "                nn.BatchNorm2d(planes * block.expansion),\n",
        "            )\n",
        "\n",
        "        layers = []\n",
        "        layers.append(block(self.inplanes, planes, stride, downsample))\n",
        "        self.inplanes = planes * block.expansion\n",
        "        for i in range(1, blocks):\n",
        "            layers.append(block(self.inplanes, planes))\n",
        "\n",
        "        return nn.Sequential(*layers)\n",
        "\n",
        "    def forward(self, x):\n",
        "        x = self.relu(self.conv1_1(x))\n",
        "        x = self.relu(self.conv1_2(x))\n",
        "        x = self.maxpool(x)\n",
        "        x = self.relu(self.conv2_1(x))\n",
        "        x = self.relu(self.conv2_2(x))\n",
        "        x = self.maxpool(x)\n",
        "        x = self.relu(self.conv3_1(x))\n",
        "        x = self.relu(self.conv3_2(x))\n",
        "        x = self.relu(self.conv3_3(x))\n",
        "        x = self.relu(self.conv3_4(x))\n",
        "        x = self.maxpool(x)\n",
        "        x = self.relu(self.conv4_1(x))\n",
        "        x = self.relu(self.conv4_2(x))\n",
        "        x = self.relu(self.conv4_3(x))\n",
        "        x = self.relu(self.conv4_4(x))\n",
        "        x = self.relu(self.conv4_5(x))\n",
        "        x = self.relu(self.conv4_6(x))\n",
        "        encoding = self.relu(self.conv4_7(x))\n",
        "        x = self.relu(self.conv5_1(encoding))\n",
        "        scoremap = self.conv5_2(x)\n",
        "\n",
        "        x = torch.cat([scoremap, encoding], 1)\n",
        "        x = self.relu(self.conv6_1(x))\n",
        "        x = self.relu(self.conv6_2(x))\n",
        "        x = self.relu(self.conv6_3(x))\n",
        "        x = self.relu(self.conv6_4(x))\n",
        "        x = self.relu(self.conv6_5(x))\n",
        "        x = self.relu(self.conv6_6(x))\n",
        "        scoremap = self.conv6_7(x)\n",
        "        x = torch.cat([scoremap, encoding], 1)\n",
        "        x = self.relu(self.conv7_1(x))\n",
        "        x = self.relu(self.conv7_2(x))\n",
        "        x = self.relu(self.conv7_3(x))\n",
        "        x = self.relu(self.conv7_4(x))\n",
        "        x = self.relu(self.conv7_5(x))\n",
        "        x = self.relu(self.conv7_6(x))\n",
        "        x = self.conv7_7(x)\n",
        "        x = torch.flatten(x,1)\n",
        "        x = self.fc_layer(x)\n",
        "        return x\n"
      ],
      "execution_count": 5,
      "outputs": []
    },
    {
      "cell_type": "code",
      "metadata": {
        "id": "hlrtaX_dbviv"
      },
      "source": [
        "train_img_len = 400\n",
        "val_img_len = 150\n",
        "test_img_len = 200\n",
        "\n",
        "class HandDataset(Dataset):\n",
        "    def __init__(self, method=None):\n",
        "        self.x_data = []\n",
        "        self.y_data = []\n",
        "        self.z_data = []\n",
        "        self.root = '/content/drive/My Drive/hand_posture_data'\n",
        "        self.weight_root = self.root\n",
        "\n",
        "        if method == 'train':\n",
        "            self.root = self.root + '/train/' # self.root = drive/My Drive/hand_posture_data/train/\n",
        "\n",
        "        elif method == 'val':\n",
        "            self.root = self.root + '/val/' # self.root = drive/My Drive/hand_posture_data/train/\n",
        "\n",
        "        else:\n",
        "            self.root = self.root + '/test/' # self.root = drive/My Drive/hand_posture_data/test/\n",
        "\n",
        "        rock_path = self.root + 'rock/'\n",
        "        scissors_path = self.root + 'scissors/'\n",
        "        paper_path = self.root + 'paper/'\n",
        "\n",
        "        self.rock_img_path = sorted(glob(rock_path + 'rgb/*.jpg'))\n",
        "        self.scissors_img_path = sorted(glob(scissors_path + 'rgb/*.jpg'))\n",
        "        self.paper_img_path = sorted(glob(paper_path + 'rgb/*.jpg'))\n",
        "\n",
        "        self.img_path = self.rock_img_path + self.scissors_img_path + self.paper_img_path\n",
        "\n",
        "        length = 0\n",
        "        if method == 'train':\n",
        "          length = train_img_len\n",
        "        \n",
        "        elif method == 'val':\n",
        "          length = val_img_len\n",
        "\n",
        "        elif method == 'test':\n",
        "          length = test_img_len\n",
        "\n",
        "        for i in range(3):  # rock = 0, scissors = 1, paper = 2\n",
        "          for j in range(length):\n",
        "            self.z_data.append(i)\n",
        "\n",
        "    def __len__(self):\n",
        "        return len(self.img_path)\n",
        "\n",
        "    def __getitem__(self, idx):\n",
        "        img = cv2.imread(self.img_path[idx], cv2.IMREAD_COLOR)\n",
        "        b, g, r = cv2.split(img)\n",
        "        img = cv2.merge([r, g, b])\n",
        "\n",
        "        transform1 = torchvision.transforms.ToTensor()\n",
        "        new_x_data = transform1(img)\n",
        "\n",
        "        return new_x_data, self.z_data[idx]\n",
        "    "
      ],
      "execution_count": 6,
      "outputs": []
    },
    {
      "cell_type": "code",
      "metadata": {
        "id": "NjcO7nT8DwBM"
      },
      "source": [
        "class Trainer(object):\n",
        "    def __init__(self, epochs, batch_size, lr):\n",
        "        self.epochs = epochs\n",
        "        self.batch_size = batch_size\n",
        "        self.learning_rate = lr\n",
        "        dataset = HandDataset(method='train')\n",
        "        val_dataset = HandDataset(method='val')\n",
        "        self.weight_root = dataset.weight_root # weight_root = drive/My Drive/hand_posture_data\n",
        "        self._build_model()\n",
        "        self.root = dataset.root # self.root = drive/My Drive/hand_posture_data/train/\n",
        "        self.dataloader = DataLoader(dataset, batch_size=self.batch_size, shuffle=True, num_workers=2)\n",
        "        self.val_dataloader = DataLoader(val_dataset, batch_size=self.batch_size, shuffle=True, num_workers=2)\n",
        "\n",
        "        print(\"Training...\")\n",
        "\n",
        "    def _build_model(self):\n",
        "        # 2d pose estimator\n",
        "        poseNet = CPM2DPose()\n",
        "        self.poseNet = poseNet.to(device)\n",
        "        self.poseNet.train() # train 모드 명시\n",
        "        self.poseNet.load_state_dict(torch.load(self.weight_root+'/pretrained_weight.pth'), strict=False)\n",
        "        for param in self.poseNet.parameters():\n",
        "          param.required_grad = True\n",
        "        print('Finish build model.')\n",
        "\n",
        "    def skeleton2heatmap(self, _heatmap, keypoint_targets):\n",
        "        heatmap_gt = torch.zeros_like(_heatmap, device=_heatmap.device) \n",
        "        # _heatmap은 ground_truth heatmap만들때 dimension 같게 해주려고 참고하는 용도로만 사용\n",
        "\n",
        "        keypoint_targets = (((keypoint_targets)) // 8)\n",
        "        for i in range(keypoint_targets.shape[0]):\n",
        "            for j in range(21):\n",
        "                x = int(keypoint_targets[i, j, 0])\n",
        "                y = int(keypoint_targets[i, j, 1])\n",
        "                heatmap_gt[i, j, x, y] = 1\n",
        "\n",
        "        heatmap_gt = heatmap_gt.detach().cpu().numpy()\n",
        "        for i in range(keypoint_targets.shape[0]):\n",
        "            for j in range(21):\n",
        "                heatmap_gt[i, j, :, :] = cv2.GaussianBlur(heatmap_gt[i, j, :, :], ksize=(3, 3), sigmaX=2, sigmaY=2) * 9 / 1.1772\n",
        "        heatmap_gt = torch.FloatTensor(heatmap_gt).to(device)\n",
        "        return heatmap_gt # ground truth heatmap\n",
        "\n",
        "\n",
        "    def heatmap2skeleton(self, heatmapsPoseNet):\n",
        "        skeletons = np.zeros((heatmapsPoseNet.shape[0], heatmapsPoseNet.shape[1], 2))\n",
        "        for m in range(heatmapsPoseNet.shape[0]):\n",
        "            for i in range(heatmapsPoseNet.shape[1]):\n",
        "                u, v = np.unravel_index(np.argmax(heatmapsPoseNet[m][i]), (32, 32))\n",
        "                skeletons[m, i, 0] = u * 8\n",
        "                skeletons[m, i, 1] = v * 8\n",
        "        return skeletons\n",
        "\n",
        "\n",
        "    def train(self):\n",
        "        self.losses = list()\n",
        "        self.val_losses = list()\n",
        "        loss_func = torch.nn.CrossEntropyLoss()\n",
        "        optimizer = torch.optim.SGD(self.poseNet.parameters(), self.learning_rate)\n",
        "        \n",
        "\n",
        "        for epoch in tqdm(range(self.epochs + 1)):\n",
        "            print(\"epoch \",epoch)\n",
        "            \"\"\"\n",
        "            train\n",
        "            \"\"\"\n",
        "            train_loss = 0\n",
        "            for batch_idx, samples in enumerate(self.dataloader):\n",
        "                optimizer.zero_grad()\n",
        "                x_train, z_train = samples #z_train은 semantic class정보(rock=0/scissors=1/paper=2)\n",
        "\n",
        "                x_train, z_train = x_train.to(device), z_train.to(device)\n",
        "\n",
        "                pred = self.poseNet(x_train)\n",
        "\n",
        "                loss = loss_func(pred, z_train)\n",
        "                train_loss += loss.item()\n",
        "                loss.backward()  # backpropagation\n",
        "                optimizer.step() # update parameters\n",
        "\n",
        "            print('training loss: ', train_loss/batch_idx)\n",
        "            self.losses.append(train_loss/batch_idx)\n",
        "\n",
        "            \"\"\"\n",
        "            validation\n",
        "            \"\"\"\n",
        "            val_loss = 0\n",
        "            for batch_idx, samples in enumerate(self.val_dataloader):\n",
        "                x_train, z_train = samples #z_train은 semantic class정보(rock=0/scissors=1/paper=2)\n",
        "\n",
        "                x_train, z_train = x_train.to(device), z_train.to(device)\n",
        "\n",
        "                pred = self.poseNet(x_train)\n",
        "\n",
        "                loss = loss_func(pred, z_train)\n",
        "                val_loss += loss.item()\n",
        "\n",
        "            print('val loss: ', val_loss/batch_idx)\n",
        "            self.val_losses.append(val_loss/batch_idx)\n",
        "\n",
        "\n",
        "        torch.save(self.poseNet.state_dict(), self.weight_root+'/{}_pretrained_weight.pth'.format(epoch))\n",
        "        \n",
        "        print('Finish training.')\n"
      ],
      "execution_count": 7,
      "outputs": []
    },
    {
      "cell_type": "code",
      "metadata": {
        "id": "ekXz9CMgRlmr"
      },
      "source": [
        "categories = ['rock', 'scissors', 'paper']\n",
        "\n",
        "class Tester(object):\n",
        "    def __init__(self, batch_size):\n",
        "\n",
        "        self.batch_size = batch_size\n",
        "        dataset = HandDataset(method='test')\n",
        "        self.CPM_weight_root = dataset.weight_root + '/20_pretrained_weight.pth'\n",
        "        self._build_model()\n",
        "        self.root = dataset.root # self.root = drive/My Drive/hand_posture_data/test/\n",
        "        self.dataloader = DataLoader(dataset, batch_size=self.batch_size, shuffle=True, num_workers=2)\n",
        "\n",
        "        self.datalen = dataset.__len__()\n",
        "\n",
        "        print(\"Testing...\")\n",
        "\n",
        "    def _build_model(self):\n",
        "        # 2d pose estimator\n",
        "        poseNet = CPM2DPose()\n",
        "        self.poseNet = poseNet.to(device)\n",
        "        self.poseNet.load_state_dict(torch.load(self.CPM_weight_root))\n",
        "\n",
        "    def skeleton2heatmap(self, _heatmap, keypoint_targets):\n",
        "        heatmap_gt = torch.zeros_like(_heatmap, device=_heatmap.device) \n",
        "\n",
        "        keypoint_targets = (((keypoint_targets)) // 8)\n",
        "        for i in range(keypoint_targets.shape[0]):\n",
        "            for j in range(21):\n",
        "                x = int(keypoint_targets[i, j, 0])\n",
        "                y = int(keypoint_targets[i, j, 1])\n",
        "                heatmap_gt[i, j, x, y] = 1\n",
        "\n",
        "        heatmap_gt = heatmap_gt.detach().cpu().numpy()\n",
        "        for i in range(keypoint_targets.shape[0]):\n",
        "            for j in range(21):\n",
        "                heatmap_gt[i, j, :, :] = cv2.GaussianBlur(heatmap_gt[i, j, :, :], ksize=(3, 3), sigmaX=2, sigmaY=2) * 9 / 1.1772\n",
        "        heatmap_gt = torch.FloatTensor(heatmap_gt).to(device)\n",
        "        return heatmap_gt \n",
        "\n",
        "    def test(self):\n",
        "        correct = 0\n",
        "        total = 0\n",
        "        my_pred = []\n",
        "        gt = []\n",
        "\n",
        "        for batch_idx, samples in tqdm(enumerate(self.dataloader), total=len(self.dataloader)): \n",
        "            x_test, z_test = samples\n",
        "            x_test, z_test = x_test.to(device), z_test.to(device)\n",
        "\n",
        "            pred = self.poseNet(x_test)\n",
        "            my_pred+=pred.argmax(dim=1).tolist()\n",
        "            gt+=z_test.tolist()\n",
        "            correct+=torch.sum(pred.argmax(dim=1)==z_test).item()\n",
        "            total+=batch_idx\n",
        "        # now to get confusion matrix one can use the confusion_matrix\n",
        "        # utility provided by sklearn\n",
        "        conf_mat = confusion_matrix(gt, my_pred)\n",
        "\n",
        "        # now it's time to plot the matrix\n",
        "        # some standard matplotlib code\n",
        "        # add a subplot\n",
        "        fig = plt.figure()\n",
        "        ax = fig.add_subplot(111)\n",
        "\n",
        "        # plot the matrix\n",
        "        cax = ax.matshow(conf_mat, cmap=plt.cm.Blues)\n",
        "\n",
        "        # add colorbar for reference\n",
        "        fig.colorbar(cax)\n",
        "\n",
        "        plt.xticks(np.arange(len(categories)), categories)\n",
        "        plt.yticks(np.arange(len(categories)), categories)\n",
        "\n",
        "        fmt = 'd'\n",
        "        thresh = conf_mat.max() / 2.\n",
        "        for i, j in itertools.product(range(conf_mat.shape[0]), range(conf_mat.shape[1])):\n",
        "            plt.text(j, i, format(conf_mat[i, j], fmt),\n",
        "                    horizontalalignment=\"center\",\n",
        "                    color=\"white\" if conf_mat[i, j] > thresh else \"black\")\n",
        "\n",
        "        # add labels to plot\n",
        "        plt.xlabel(\"Predicted\")\n",
        "        plt.ylabel(\"True\")\n",
        "        plt.savefig(\"Conf_Mat.jpg\")\n",
        "        plt.show()\n",
        "        \n",
        "\n",
        "        print('Overall Accuracy: ', correct/total)\n",
        "        self.overall_accuracy = correct/total\n",
        "\n"
      ],
      "execution_count": 22,
      "outputs": []
    },
    {
      "cell_type": "code",
      "metadata": {
        "id": "sZhFNxC5gLxb"
      },
      "source": [
        "epochs = 20\r\n",
        "batchSize = 16\r\n",
        "learningRate = 1e-3"
      ],
      "execution_count": 9,
      "outputs": []
    },
    {
      "cell_type": "code",
      "metadata": {
        "id": "HEJFfWpJnVJl"
      },
      "source": [
        "trainer = Trainer(epochs, batchSize, learningRate)\n",
        "trainer.train()"
      ],
      "execution_count": null,
      "outputs": []
    },
    {
      "cell_type": "code",
      "metadata": {
        "id": "EcM0qFVTip38"
      },
      "source": [
        "import itertools"
      ],
      "execution_count": 15,
      "outputs": []
    },
    {
      "cell_type": "code",
      "metadata": {
        "colab": {
          "base_uri": "https://localhost:8080/",
          "height": 365,
          "referenced_widgets": [
            "adca55f29e06441a955cd6d8dc901f09",
            "48cc29b1b5c342a0b5702fc2a03cc738",
            "51323d4c77fe4a3b8d792629d802c36d",
            "d0487a3c4c65458197384479163b0c0e",
            "1990f6d36c4d41f2b0387b5725e48c7d",
            "16ea67eb1b49497290cbc0f493d3d55f",
            "263c03a7967a4d34981b236b235bf471",
            "b6506c9be10a4655bf022a3769ae06c5"
          ]
        },
        "id": "K-Nq45dkeHXU",
        "outputId": "c6d03d72-89a1-4fc5-d7c9-b79bfeacde43"
      },
      "source": [
        "tester = Tester(batchSize)\r\n",
        "tester.test()"
      ],
      "execution_count": 23,
      "outputs": [
        {
          "output_type": "stream",
          "text": [
            "Testing...\n"
          ],
          "name": "stdout"
        },
        {
          "output_type": "display_data",
          "data": {
            "application/vnd.jupyter.widget-view+json": {
              "model_id": "adca55f29e06441a955cd6d8dc901f09",
              "version_minor": 0,
              "version_major": 2
            },
            "text/plain": [
              "HBox(children=(FloatProgress(value=0.0, max=38.0), HTML(value='')))"
            ]
          },
          "metadata": {
            "tags": []
          }
        },
        {
          "output_type": "stream",
          "text": [
            "\n"
          ],
          "name": "stdout"
        },
        {
          "output_type": "display_data",
          "data": {
            "image/png": "[encoded data removed]",
            "text/plain": [
              "<Figure size 432x288 with 2 Axes>"
            ]
          },
          "metadata": {
            "tags": [],
            "needs_background": "light"
          }
        },
        {
          "output_type": "stream",
          "text": [
            "Overall Accuracy:  0.6870554765291608\n"
          ],
          "name": "stdout"
        }
      ]
    },
    {
      "cell_type": "code",
      "metadata": {
        "colab": {
          "base_uri": "https://localhost:8080/"
        },
        "id": "V2N0BIsYgP2J",
        "outputId": "a4772475-c827-48b6-b831-2449df020072"
      },
      "source": [
        "tester.poseNet()"
      ],
      "execution_count": 19,
      "outputs": [
        {
          "output_type": "execute_result",
          "data": {
            "text/plain": [
              "38"
            ]
          },
          "metadata": {
            "tags": []
          },
          "execution_count": 19
        }
      ]
    }
  ]
}