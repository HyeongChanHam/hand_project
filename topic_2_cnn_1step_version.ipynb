{
  "nbformat": 4,
  "nbformat_minor": 0,
  "metadata": {
    "colab": {
      "name": "topic_2_cnn_1step_version.ipynb",
      "provenance": [],
      "collapsed_sections": []
    },
    "kernelspec": {
      "name": "python3",
      "display_name": "Python 3"
    },
    "accelerator": "GPU"
  },
  "cells": [
    {
      "cell_type": "code",
      "metadata": {
        "colab": {
          "base_uri": "https://localhost:8080/"
        },
        "id": "z6cYTDhzbS24",
        "outputId": "f63d3d21-5c6d-488b-d2d3-fcddf9f833ae"
      },
      "source": [
        "from google.colab import drive\n",
        "from google.colab.patches import cv2_imshow\n",
        "from torchvision import transforms\n",
        "drive.mount(('/content/drive/'))"
      ],
      "execution_count": 1,
      "outputs": [
        {
          "output_type": "stream",
          "text": [
            "Drive already mounted at /content/drive/; to attempt to forcibly remount, call drive.mount(\"/content/drive/\", force_remount=True).\n"
          ],
          "name": "stdout"
        }
      ]
    },
    {
      "cell_type": "code",
      "metadata": {
        "id": "4z1SQOkebZW8"
      },
      "source": [
        "import os\n",
        "import torch\n",
        "import numpy as np\n",
        "import torchvision\n",
        "import tqdm\n",
        "from torch.utils.data import Dataset\n",
        "from torch.utils.data import DataLoader\n",
        "import cv2\n",
        "import matplotlib.pyplot as plt\n",
        "import math\n",
        "from sklearn.metrics import confusion_matrix\n",
        "import matplotlib.pyplot as plt\n",
        "from sklearn import svm, metrics"
      ],
      "execution_count": 2,
      "outputs": []
    },
    {
      "cell_type": "code",
      "metadata": {
        "id": "OzJRnu82bmWu"
      },
      "source": [
        "from glob import glob\n",
        "import pandas"
      ],
      "execution_count": 3,
      "outputs": []
    },
    {
      "cell_type": "code",
      "metadata": {
        "id": "jCuiQJyCbogS"
      },
      "source": [
        "device = 'cuda:0'\n",
        "num_joints = 21"
      ],
      "execution_count": 4,
      "outputs": []
    },
    {
      "cell_type": "code",
      "metadata": {
        "id": "1T4IH6JTbq_z"
      },
      "source": [
        "import torch.nn as nn\n",
        "import torch\n",
        "import torch.nn.functional as F\n",
        "\n",
        "device = 'cuda:0'\n",
        "\n",
        "\n",
        "# 2d pose estimator - pretrained\n",
        "class CPM2DPose(nn.Module):\n",
        "    def __init__(self):\n",
        "        super(CPM2DPose, self).__init__()\n",
        "        \n",
        "        self.scoremap_list = []\n",
        "        self.layers_per_block = [2, 2, 4, 2]\n",
        "        self.out_chan_list = [64, 128, 256, 512]\n",
        "        self.pool_list = [True, True, True, False]\n",
        "\n",
        "        self.relu = F.leaky_relu\n",
        "        self.conv1_1 = nn.Conv2d(3, 64, kernel_size=3, stride=1, padding=1, bias=True)  # conv0_1\n",
        "        self.conv1_2 = nn.Conv2d(64, 64, kernel_size=3, stride=1, padding=1, bias=True)  # conv0_2\n",
        "        self.conv2_1 = nn.Conv2d(64, 128, kernel_size=3, stride=1, padding=1, bias=True)  # conv0_2\n",
        "        self.conv2_2 = nn.Conv2d(128, 128, kernel_size=3, stride=1, padding=1, bias=True)  # conv0_2\n",
        "        self.conv3_1 = nn.Conv2d(128, 256, kernel_size=3, stride=1, padding=1, bias=True)  # conv0_2\n",
        "        self.conv3_2 = nn.Conv2d(256, 256, kernel_size=3, stride=1, padding=1, bias=True)  # conv0_2\n",
        "        self.conv3_3 = nn.Conv2d(256, 256, kernel_size=3, stride=1, padding=1, bias=True)  # conv0_2\n",
        "        self.conv3_4 = nn.Conv2d(256, 256, kernel_size=3, stride=1, padding=1, bias=True)  # conv0_2\n",
        "        self.conv4_1 = nn.Conv2d(256, 512, kernel_size=3, stride=1, padding=1, bias=True)  # conv0_2\n",
        "        self.conv4_2 = nn.Conv2d(512, 512, kernel_size=3, stride=1, padding=1, bias=True)  # conv0_2\n",
        "        self.conv4_3 = nn.Conv2d(512, 256, kernel_size=3, stride=1, padding=1, bias=True)  # conv0_2\n",
        "        self.conv4_4 = nn.Conv2d(256, 256, kernel_size=3, stride=1, padding=1, bias=True)  # conv0_2\n",
        "        self.conv4_5 = nn.Conv2d(256, 256, kernel_size=3, stride=1, padding=1, bias=True)  # conv0_2\n",
        "        self.conv4_6 = nn.Conv2d(256, 256, kernel_size=3, stride=1, padding=1, bias=True)  # conv0_2\n",
        "        self.conv4_7 = nn.Conv2d(256, 128, kernel_size=3, stride=1, padding=1, bias=True)  # conv0_2\n",
        "        self.conv5_1 = nn.Conv2d(128, 512, kernel_size=1, stride=1, padding=0, bias=True)  # conv0_2\n",
        "        self.conv5_2 = nn.Conv2d(512, 21, kernel_size=1, stride=1, padding=0, bias=True)  # conv0_2\n",
        "        self.conv6_1 = nn.Conv2d(149, 128, kernel_size=7, stride=1, padding=3, bias=True)  # conv0_2\n",
        "        self.conv6_2 = nn.Conv2d(128, 128, kernel_size=7, stride=1, padding=3, bias=True)  # conv0_2\n",
        "        self.conv6_3 = nn.Conv2d(128, 128, kernel_size=7, stride=1, padding=3, bias=True)  # conv0_2\n",
        "        self.conv6_4 = nn.Conv2d(128, 128, kernel_size=7, stride=1, padding=3, bias=True)  # conv0_2\n",
        "        self.conv6_5 = nn.Conv2d(128, 128, kernel_size=7, stride=1, padding=3, bias=True)  # conv0_2\n",
        "        self.conv6_6 = nn.Conv2d(128, 128, kernel_size=1, stride=1, padding=0, bias=True)  # conv0_2\n",
        "        self.conv6_7 = nn.Conv2d(128, 21, kernel_size=1, stride=1, padding=0, bias=True)  # conv0_2\n",
        "        self.conv7_1 = nn.Conv2d(149, 128, kernel_size=7, stride=1, padding=3, bias=True)  # conv0_2\n",
        "        self.conv7_2 = nn.Conv2d(128, 128, kernel_size=7, stride=1, padding=3, bias=True)  # conv0_2\n",
        "        self.conv7_3 = nn.Conv2d(128, 128, kernel_size=7, stride=1, padding=3, bias=True)  # conv0_2\n",
        "        self.conv7_4 = nn.Conv2d(128, 128, kernel_size=7, stride=1, padding=3, bias=True)  # conv0_2\n",
        "        self.conv7_5 = nn.Conv2d(128, 128, kernel_size=7, stride=1, padding=3, bias=True)  # conv0_2\n",
        "        self.conv7_6 = nn.Conv2d(128, 128, kernel_size=1, stride=1, padding=0, bias=True)  # conv0_2\n",
        "        self.conv7_7 = nn.Conv2d(128, 21, kernel_size=1, stride=1, padding=0, bias=True)  # conv0_2\n",
        "        self.maxpool = nn.MaxPool2d(kernel_size=2, stride=2, padding=0)\n",
        "        self.fc_layer = nn.Sequential( # image -> semantic class로 나오도록\n",
        "            nn.Linear(21*32*32,256),\n",
        "            nn.ReLU(),\n",
        "            nn.Linear(256,3)\n",
        "        )\n",
        "        \n",
        "\n",
        "    def _make_layer(self, block, planes, blocks, stride=1):\n",
        "        downsample = None\n",
        "        if stride != 1 or self.inplanes != planes * block.expansion:\n",
        "            downsample = nn.Sequential(\n",
        "                nn.Conv2d(self.inplanes, planes * block.expansion,\n",
        "                          kernel_size=1, stride=stride, bias=False),\n",
        "                nn.BatchNorm2d(planes * block.expansion),\n",
        "            )\n",
        "\n",
        "        layers = []\n",
        "        layers.append(block(self.inplanes, planes, stride, downsample))\n",
        "        self.inplanes = planes * block.expansion\n",
        "        for i in range(1, blocks):\n",
        "            layers.append(block(self.inplanes, planes))\n",
        "\n",
        "        return nn.Sequential(*layers)\n",
        "\n",
        "    def forward(self, x):\n",
        "        x = self.relu(self.conv1_1(x))\n",
        "        x = self.relu(self.conv1_2(x))\n",
        "        x = self.maxpool(x)\n",
        "        x = self.relu(self.conv2_1(x))\n",
        "        x = self.relu(self.conv2_2(x))\n",
        "        x = self.maxpool(x)\n",
        "        x = self.relu(self.conv3_1(x))\n",
        "        x = self.relu(self.conv3_2(x))\n",
        "        x = self.relu(self.conv3_3(x))\n",
        "        x = self.relu(self.conv3_4(x))\n",
        "        x = self.maxpool(x)\n",
        "        x = self.relu(self.conv4_1(x))\n",
        "        x = self.relu(self.conv4_2(x))\n",
        "        x = self.relu(self.conv4_3(x))\n",
        "        x = self.relu(self.conv4_4(x))\n",
        "        x = self.relu(self.conv4_5(x))\n",
        "        x = self.relu(self.conv4_6(x))\n",
        "        encoding = self.relu(self.conv4_7(x))\n",
        "        x = self.relu(self.conv5_1(encoding))\n",
        "        scoremap = self.conv5_2(x)\n",
        "\n",
        "        x = torch.cat([scoremap, encoding], 1)\n",
        "        x = self.relu(self.conv6_1(x))\n",
        "        x = self.relu(self.conv6_2(x))\n",
        "        x = self.relu(self.conv6_3(x))\n",
        "        x = self.relu(self.conv6_4(x))\n",
        "        x = self.relu(self.conv6_5(x))\n",
        "        x = self.relu(self.conv6_6(x))\n",
        "        scoremap = self.conv6_7(x)\n",
        "        x = torch.cat([scoremap, encoding], 1)\n",
        "        x = self.relu(self.conv7_1(x))\n",
        "        x = self.relu(self.conv7_2(x))\n",
        "        x = self.relu(self.conv7_3(x))\n",
        "        x = self.relu(self.conv7_4(x))\n",
        "        x = self.relu(self.conv7_5(x))\n",
        "        x = self.relu(self.conv7_6(x))\n",
        "        x = self.conv7_7(x)\n",
        "        x = torch.flatten(x,1)\n",
        "        x = self.fc_layer(x)\n",
        "        return x\n"
      ],
      "execution_count": 5,
      "outputs": []
    },
    {
      "cell_type": "code",
      "metadata": {
        "id": "5n8KhmbHkj4T",
        "colab": {
          "base_uri": "https://localhost:8080/",
          "height": 86
        },
        "outputId": "c62ced38-862e-4e38-9cb3-086f3ab3cb87"
      },
      "source": [
        "'''\n",
        "class Classifier(nn.Module):\n",
        "    def __init__(self, batch_size):\n",
        "        super(Classifier, self).__init__()\n",
        "        self.batch_size = batch_size\n",
        "\n",
        "        self.fc_layer = nn.Sequential(\n",
        "            nn.Linear(21*32*32,256),\n",
        "            nn.ReLU(),\n",
        "            nn.Linear(256,3)\n",
        "        )\n",
        "      \n",
        "    def forward(self, x):\n",
        "        x = x.view(self.batch_size, -1)\n",
        "        x = self.fc_layer(x)\n",
        "        return x\n",
        "'''"
      ],
      "execution_count": 6,
      "outputs": [
        {
          "output_type": "execute_result",
          "data": {
            "application/vnd.google.colaboratory.intrinsic+json": {
              "type": "string"
            },
            "text/plain": [
              "'\\nclass Classifier(nn.Module):\\n    def __init__(self, batch_size):\\n        super(Classifier, self).__init__()\\n        self.batch_size = batch_size\\n\\n        self.fc_layer = nn.Sequential(\\n            nn.Linear(21*32*32,256),\\n            nn.ReLU(),\\n            nn.Linear(256,3)\\n        )\\n      \\n    def forward(self, x):\\n        x = x.view(self.batch_size, -1)\\n        x = self.fc_layer(x)\\n        return x\\n'"
            ]
          },
          "metadata": {
            "tags": []
          },
          "execution_count": 6
        }
      ]
    },
    {
      "cell_type": "code",
      "metadata": {
        "id": "hlrtaX_dbviv"
      },
      "source": [
        "train_img_len = 100\n",
        "test_img_len = 10\n",
        "\n",
        "class HandDataset(Dataset):\n",
        "    def __init__(self, method=None):\n",
        "        self.x_data = []\n",
        "        self.y_data = []\n",
        "        self.z_data = []\n",
        "        self.root = '/content/drive/My Drive/hand_posture_data'\n",
        "        self.weight_root = self.root\n",
        "\n",
        "        if method == 'train':\n",
        "            self.root = self.root + '/train/' # self.root = drive/My Drive/hand_posture_data/train/\n",
        "            rock_path = self.root + 'rock/'\n",
        "            scissors_path = self.root + 'scissors/'\n",
        "            paper_path = self.root + 'paper/'\n",
        "\n",
        "            self.rock_img_path = sorted(glob(rock_path + 'rgb/*.jpg'))\n",
        "            self.scissors_img_path = sorted(glob(scissors_path + 'rgb/*.jpg'))\n",
        "            self.paper_img_path = sorted(glob(paper_path + 'rgb/*.jpg'))\n",
        "\n",
        "            self.img_path = self.rock_img_path + self.scissors_img_path + self.paper_img_path\n",
        "\n",
        "        elif method == 'test':\n",
        "            self.root = self.root + '/test/' # self.root = drive/My Drive/hand_posture_data/test/\n",
        "            rock_path = self.root + 'rock/'\n",
        "            scissors_path = self.root + 'scissors/'\n",
        "            paper_path = self.root + 'paper/'\n",
        "\n",
        "            self.rock_img_path = sorted(glob(rock_path + 'rgb/*.jpg'))\n",
        "            self.scissors_img_path = sorted(glob(scissors_path + 'rgb/*.jpg'))\n",
        "            self.paper_img_path = sorted(glob(paper_path + 'rgb/*.jpg'))\n",
        "\n",
        "            self.img_path = self.rock_img_path + self.scissors_img_path + self.paper_img_path\n",
        "\n",
        "        for i in tqdm.tqdm(range(len(self.img_path))):\n",
        "            img = cv2.imread(self.img_path[i], cv2.IMREAD_COLOR)\n",
        "            print(self.img_path[i])  \n",
        "            b, g, r = cv2.split(img)\n",
        "            img = cv2.merge([r, g, b])\n",
        "            self.x_data.append(img)\n",
        "\n",
        "            num = self.img_path[i].split('.')[0].split('/')[-1]\n",
        "            \n",
        "            if method == 'train':\n",
        "              if i in range (train_img_len):\n",
        "                img_pkl = self.root + 'rock/meta/' + str(num) + '.pkl'\n",
        "              elif i in range (1*train_img_len, 2*train_img_len):\n",
        "                img_pkl = self.root + 'scissors/meta/' + str(num) + '.pkl'\n",
        "              elif i in range(2*train_img_len, 3*train_img_len):\n",
        "                img_pkl = self.root + 'paper/meta/' + str(num) + '.pkl'\n",
        "\n",
        "            elif method == 'test':\n",
        "              if i in range(test_img_len):\n",
        "                img_pkl = self.root + 'rock/meta/' + str(num) + '.pkl'\n",
        "              elif i in range(test_img_len, 2*test_img_len):\n",
        "                img_pkl = self.root + 'scissors/meta/' + str(num) + '.pkl'\n",
        "              elif i in range(2*test_img_len, 3*test_img_len):\n",
        "                img_pkl = self.root + 'paper/meta/' + str(num) + '.pkl'\n",
        "\n",
        "            pkl = pandas.read_pickle(img_pkl)\n",
        "            coords_2d = pkl['coords_2d']\n",
        "            # coords_2d의 shape = 21*2\n",
        "            self.y_data.append(coords_2d)\n",
        "\n",
        "        length = 0\n",
        "        if method == 'train':\n",
        "          length = train_img_len\n",
        "        elif method == 'test':\n",
        "          length = test_img_len\n",
        "\n",
        "        for i in range(3):  # rock = 0, scissors = 1, paper = 2\n",
        "          for j in range(length):\n",
        "            self.z_data.append(i)\n",
        "\n",
        "    def __len__(self):\n",
        "        return len(self.img_path)\n",
        "\n",
        "    def __getitem__(self, idx):\n",
        "        transform1 = torchvision.transforms.ToTensor()\n",
        "        new_x_data = transform1(self.x_data[idx])\n",
        "\n",
        "        return new_x_data, self.y_data[idx], self.z_data[idx]\n",
        "    "
      ],
      "execution_count": 7,
      "outputs": []
    },
    {
      "cell_type": "code",
      "metadata": {
        "id": "NjcO7nT8DwBM"
      },
      "source": [
        "class Trainer(object):\n",
        "    def __init__(self, epochs, batch_size, lr):\n",
        "        self.epochs = epochs\n",
        "        self.batch_size = batch_size\n",
        "        self.learning_rate = lr\n",
        "        dataset = HandDataset(method='train')\n",
        "        self.weight_root = dataset.weight_root # weight_root = drive/My Drive/hand_posture_data\n",
        "        self._build_model()\n",
        "        self.root = dataset.root # self.root = drive/My Drive/hand_posture_data/train/\n",
        "        self.dataloader = DataLoader(dataset, batch_size=self.batch_size, shuffle=True, num_workers=2)\n",
        "\n",
        "        print(\"Training...\")\n",
        "\n",
        "    def _build_model(self):\n",
        "        # 2d pose estimator\n",
        "        poseNet = CPM2DPose()\n",
        "        self.poseNet = poseNet.to(device)\n",
        "        self.poseNet.train() # train 모드 명시\n",
        "        self.poseNet.load_state_dict(torch.load(self.weight_root+'/pretrained_weight.pth'), strict=False)\n",
        "\n",
        "        print('Finish build model.')\n",
        "\n",
        "    def skeleton2heatmap(self, _heatmap, keypoint_targets):\n",
        "        heatmap_gt = torch.zeros_like(_heatmap, device=_heatmap.device) \n",
        "        # _heatmap은 ground_truth heatmap만들때 dimension 같게 해주려고 참고하는 용도로만 사용\n",
        "\n",
        "        keypoint_targets = (((keypoint_targets)) // 8)\n",
        "        for i in range(keypoint_targets.shape[0]):\n",
        "            for j in range(21):\n",
        "                x = int(keypoint_targets[i, j, 0])\n",
        "                y = int(keypoint_targets[i, j, 1])\n",
        "                heatmap_gt[i, j, x, y] = 1\n",
        "\n",
        "        heatmap_gt = heatmap_gt.detach().cpu().numpy()\n",
        "        for i in range(keypoint_targets.shape[0]):\n",
        "            for j in range(21):\n",
        "                heatmap_gt[i, j, :, :] = cv2.GaussianBlur(heatmap_gt[i, j, :, :], ksize=(3, 3), sigmaX=2, sigmaY=2) * 9 / 1.1772\n",
        "        heatmap_gt = torch.FloatTensor(heatmap_gt).to(device)\n",
        "        return heatmap_gt # ground truth heatmap\n",
        "\n",
        "\n",
        "    def heatmap2skeleton(self, heatmapsPoseNet):\n",
        "        skeletons = np.zeros((heatmapsPoseNet.shape[0], heatmapsPoseNet.shape[1], 2))\n",
        "        for m in range(heatmapsPoseNet.shape[0]):\n",
        "            for i in range(heatmapsPoseNet.shape[1]):\n",
        "                u, v = np.unravel_index(np.argmax(heatmapsPoseNet[m][i]), (32, 32))\n",
        "                skeletons[m, i, 0] = u * 8\n",
        "                skeletons[m, i, 1] = v * 8\n",
        "        return skeletons\n",
        "\n",
        "\n",
        "    def train(self):\n",
        "        losses = []\n",
        "        loss_func = torch.nn.CrossEntropyLoss()\n",
        "        optimizer = torch.optim.SGD(self.poseNet.parameters(), self.learning_rate)\n",
        "\n",
        "        for param in self.poseNet.parameters():\n",
        "          param.required_grad = True\n",
        "        \n",
        "        for epoch in tqdm.tqdm(range(self.epochs + 1)):\n",
        "            loss = 0\n",
        "            for batch_idx, samples in enumerate(self.dataloader):\n",
        "                optimizer.zero_grad()\n",
        "                x_train, y_train, z_train = samples #z_train은 semantic class정보(rock=0/scissors=1/paper=2)\n",
        "\n",
        "                pred = self.poseNet(x_train.cuda())\n",
        "\n",
        "                loss = loss_func(pred, z_train.cuda())\n",
        "                loss += loss.item()\n",
        "                loss.backward()  # backpropagation\n",
        "                optimizer.step() # update parameters\n",
        "\n",
        "            print('training loss: ', loss)\n",
        "            losses.append(loss)\n",
        "\n",
        "            if epoch == self.epochs:\n",
        "               torch.save(self.poseNet.state_dict(), self.weight_root+'/pretrained_weight.pth')\n",
        "        \n",
        "\n",
        "        plt.plot(losses, color = 'r')\n",
        "        print('Finish training.')\n"
      ],
      "execution_count": 8,
      "outputs": []
    },
    {
      "cell_type": "code",
      "metadata": {
        "id": "ekXz9CMgRlmr"
      },
      "source": [
        "categories = ['rock', 'scissors', 'paper']\n",
        "\n",
        "class Tester(object):\n",
        "    def __init__(self, batch_size):\n",
        "\n",
        "        self.batch_size = batch_size\n",
        "        dataset = HandDataset(method='test')\n",
        "        self.CPM_weight_root = dataset.weight_root + '/pretrained_weight.pth'\n",
        "        self._build_model()\n",
        "        self.root = dataset.root # self.root = drive/My Drive/hand_posture_data/test/\n",
        "        self.dataloader = DataLoader(dataset, batch_size=self.batch_size, shuffle=True, num_workers=2)\n",
        "\n",
        "        self.datalen = dataset.__len__()\n",
        "\n",
        "        print(\"Testing...\")\n",
        "\n",
        "    def _build_model(self):\n",
        "        # 2d pose estimator\n",
        "        poseNet = CPM2DPose()\n",
        "        self.poseNet = poseNet.to(device)\n",
        "        self.poseNet.load_state_dict(torch.load(self.CPM_weight_root))\n",
        "\n",
        "    def skeleton2heatmap(self, _heatmap, keypoint_targets):\n",
        "        heatmap_gt = torch.zeros_like(_heatmap, device=_heatmap.device) \n",
        "\n",
        "        keypoint_targets = (((keypoint_targets)) // 8)\n",
        "        for i in range(keypoint_targets.shape[0]):\n",
        "            for j in range(21):\n",
        "                x = int(keypoint_targets[i, j, 0])\n",
        "                y = int(keypoint_targets[i, j, 1])\n",
        "                heatmap_gt[i, j, x, y] = 1\n",
        "\n",
        "        heatmap_gt = heatmap_gt.detach().cpu().numpy()\n",
        "        for i in range(keypoint_targets.shape[0]):\n",
        "            for j in range(21):\n",
        "                heatmap_gt[i, j, :, :] = cv2.GaussianBlur(heatmap_gt[i, j, :, :], ksize=(3, 3), sigmaX=2, sigmaY=2) * 9 / 1.1772\n",
        "        heatmap_gt = torch.FloatTensor(heatmap_gt).to(device)\n",
        "        return heatmap_gt \n",
        "\n",
        "    def test(self):\n",
        "        correct = 0\n",
        "        total = 0\n",
        "        my_pred = []\n",
        "        gt = []\n",
        "        for batch_idx, samples in enumerate(self.dataloader): \n",
        "            x_test, y_test, z_test = samples \n",
        "            pred = self.poseNet(x_test.cuda())\n",
        "\n",
        "            for k in range(self.batch_size):\n",
        "              total +=1\n",
        "              my_pred.append(np.argmax(pred[k].detach().cpu().numpy()))\n",
        "              gt.append(z_test[k])\n",
        "              if np.argmax(pred[k].detach().cpu().numpy()) == z_test[k]:\n",
        "                correct+=1\n",
        "        \n",
        "        # now to get confusion matrix one can use the confusion_matrix\n",
        "        # utility provided by sklearn\n",
        "        print(gt)\n",
        "        print(my_pred)\n",
        "        conf_mat = confusion_matrix(gt, my_pred)\n",
        "\n",
        "        # now it's time to plot the matrix\n",
        "        # some standard matplotlib code\n",
        "        # add a subplot\n",
        "        fig = plt.figure()\n",
        "        ax = fig.add_subplot(111)\n",
        "\n",
        "        # plot the matrix\n",
        "        cax = ax.matshow(conf_mat)\n",
        "\n",
        "        # add colorbar for reference\n",
        "        fig.colorbar(cax)\n",
        "\n",
        "        plt.xticks(np.arange(len(categories)), categories)\n",
        "        plt.yticks(np.arange(len(categories)), categories)\n",
        "\n",
        "        # add labels to plot\n",
        "        plt.xlabel(\"Predicted\")\n",
        "        plt.ylabel(\"True\")\n",
        "        plt.savefig(\"Conf_Mat.jpg\")\n",
        "        plt.show()\n",
        "        \n",
        "\n",
        "        print('Overall Accuracy: ', correct/total)\n",
        "        self.overall_accuracy = correct/total\n",
        "\n"
      ],
      "execution_count": 9,
      "outputs": []
    },
    {
      "cell_type": "code",
      "metadata": {
        "id": "HEJFfWpJnVJl",
        "colab": {
          "base_uri": "https://localhost:8080/",
          "height": 1000
        },
        "outputId": "81932db6-ca3f-4452-d733-169d2ca555c5"
      },
      "source": [
        "def main():\n",
        "    \n",
        "    epochs = 20\n",
        "    batchSize = 10\n",
        "    learningRate = 1e-2\n",
        "\n",
        "    trainer = Trainer(epochs, batchSize, learningRate)\n",
        "    trainer.train()\n",
        "\n",
        "    tester = Tester(batchSize)\n",
        "    tester.test()\n",
        "\n",
        "\n",
        "if __name__ == '__main__':\n",
        "    main()"
      ],
      "execution_count": 10,
      "outputs": [
        {
          "output_type": "stream",
          "text": [
            " 12%|█▏        | 37/300 [00:00<00:01, 180.62it/s]"
          ],
          "name": "stderr"
        },
        {
          "output_type": "stream",
          "text": [
            "/content/drive/My Drive/hand_posture_data/train/rock/rgb/00000000.jpg\n",
            "/content/drive/My Drive/hand_posture_data/train/rock/rgb/00000001.jpg\n",
            "/content/drive/My Drive/hand_posture_data/train/rock/rgb/00000002.jpg\n",
            "/content/drive/My Drive/hand_posture_data/train/rock/rgb/00000003.jpg\n",
            "/content/drive/My Drive/hand_posture_data/train/rock/rgb/00000004.jpg\n",
            "/content/drive/My Drive/hand_posture_data/train/rock/rgb/00000005.jpg\n",
            "/content/drive/My Drive/hand_posture_data/train/rock/rgb/00000006.jpg\n",
            "/content/drive/My Drive/hand_posture_data/train/rock/rgb/00000007.jpg\n",
            "/content/drive/My Drive/hand_posture_data/train/rock/rgb/00000008.jpg\n",
            "/content/drive/My Drive/hand_posture_data/train/rock/rgb/00000009.jpg\n",
            "/content/drive/My Drive/hand_posture_data/train/rock/rgb/00000010.jpg\n",
            "/content/drive/My Drive/hand_posture_data/train/rock/rgb/00000011.jpg\n",
            "/content/drive/My Drive/hand_posture_data/train/rock/rgb/00000012.jpg\n",
            "/content/drive/My Drive/hand_posture_data/train/rock/rgb/00000013.jpg\n",
            "/content/drive/My Drive/hand_posture_data/train/rock/rgb/00000014.jpg\n",
            "/content/drive/My Drive/hand_posture_data/train/rock/rgb/00000015.jpg\n",
            "/content/drive/My Drive/hand_posture_data/train/rock/rgb/00000016.jpg\n",
            "/content/drive/My Drive/hand_posture_data/train/rock/rgb/00000017.jpg\n",
            "/content/drive/My Drive/hand_posture_data/train/rock/rgb/00000018.jpg\n",
            "/content/drive/My Drive/hand_posture_data/train/rock/rgb/00000019.jpg\n",
            "/content/drive/My Drive/hand_posture_data/train/rock/rgb/00000020.jpg\n",
            "/content/drive/My Drive/hand_posture_data/train/rock/rgb/00000021.jpg\n",
            "/content/drive/My Drive/hand_posture_data/train/rock/rgb/00000022.jpg\n",
            "/content/drive/My Drive/hand_posture_data/train/rock/rgb/00000023.jpg\n",
            "/content/drive/My Drive/hand_posture_data/train/rock/rgb/00000024.jpg\n",
            "/content/drive/My Drive/hand_posture_data/train/rock/rgb/00000025.jpg\n",
            "/content/drive/My Drive/hand_posture_data/train/rock/rgb/00000026.jpg\n",
            "/content/drive/My Drive/hand_posture_data/train/rock/rgb/00000027.jpg\n",
            "/content/drive/My Drive/hand_posture_data/train/rock/rgb/00000028.jpg\n",
            "/content/drive/My Drive/hand_posture_data/train/rock/rgb/00000029.jpg\n",
            "/content/drive/My Drive/hand_posture_data/train/rock/rgb/00000030.jpg\n",
            "/content/drive/My Drive/hand_posture_data/train/rock/rgb/00000031.jpg\n",
            "/content/drive/My Drive/hand_posture_data/train/rock/rgb/00000032.jpg\n",
            "/content/drive/My Drive/hand_posture_data/train/rock/rgb/00000033.jpg\n",
            "/content/drive/My Drive/hand_posture_data/train/rock/rgb/00000034.jpg\n",
            "/content/drive/My Drive/hand_posture_data/train/rock/rgb/00000035.jpg\n",
            "/content/drive/My Drive/hand_posture_data/train/rock/rgb/00000036.jpg\n"
          ],
          "name": "stdout"
        },
        {
          "output_type": "stream",
          "text": [
            " 24%|██▍       | 73/300 [00:00<00:01, 176.84it/s]"
          ],
          "name": "stderr"
        },
        {
          "output_type": "stream",
          "text": [
            "/content/drive/My Drive/hand_posture_data/train/rock/rgb/00000037.jpg\n",
            "/content/drive/My Drive/hand_posture_data/train/rock/rgb/00000038.jpg\n",
            "/content/drive/My Drive/hand_posture_data/train/rock/rgb/00000039.jpg\n",
            "/content/drive/My Drive/hand_posture_data/train/rock/rgb/00000040.jpg\n",
            "/content/drive/My Drive/hand_posture_data/train/rock/rgb/00000041.jpg\n",
            "/content/drive/My Drive/hand_posture_data/train/rock/rgb/00000042.jpg\n",
            "/content/drive/My Drive/hand_posture_data/train/rock/rgb/00000043.jpg\n",
            "/content/drive/My Drive/hand_posture_data/train/rock/rgb/00000044.jpg\n",
            "/content/drive/My Drive/hand_posture_data/train/rock/rgb/00000045.jpg\n",
            "/content/drive/My Drive/hand_posture_data/train/rock/rgb/00000046.jpg\n",
            "/content/drive/My Drive/hand_posture_data/train/rock/rgb/00000047.jpg\n",
            "/content/drive/My Drive/hand_posture_data/train/rock/rgb/00000048.jpg\n",
            "/content/drive/My Drive/hand_posture_data/train/rock/rgb/00000049.jpg\n",
            "/content/drive/My Drive/hand_posture_data/train/rock/rgb/00000050.jpg\n",
            "/content/drive/My Drive/hand_posture_data/train/rock/rgb/00000051.jpg\n",
            "/content/drive/My Drive/hand_posture_data/train/rock/rgb/00000052.jpg\n",
            "/content/drive/My Drive/hand_posture_data/train/rock/rgb/00000053.jpg\n",
            "/content/drive/My Drive/hand_posture_data/train/rock/rgb/00000054.jpg\n",
            "/content/drive/My Drive/hand_posture_data/train/rock/rgb/00000055.jpg\n",
            "/content/drive/My Drive/hand_posture_data/train/rock/rgb/00000056.jpg\n",
            "/content/drive/My Drive/hand_posture_data/train/rock/rgb/00000057.jpg\n",
            "/content/drive/My Drive/hand_posture_data/train/rock/rgb/00000058.jpg\n",
            "/content/drive/My Drive/hand_posture_data/train/rock/rgb/00000059.jpg\n",
            "/content/drive/My Drive/hand_posture_data/train/rock/rgb/00000060.jpg\n",
            "/content/drive/My Drive/hand_posture_data/train/rock/rgb/00000061.jpg\n",
            "/content/drive/My Drive/hand_posture_data/train/rock/rgb/00000062.jpg\n",
            "/content/drive/My Drive/hand_posture_data/train/rock/rgb/00000063.jpg\n",
            "/content/drive/My Drive/hand_posture_data/train/rock/rgb/00000064.jpg\n",
            "/content/drive/My Drive/hand_posture_data/train/rock/rgb/00000065.jpg\n",
            "/content/drive/My Drive/hand_posture_data/train/rock/rgb/00000066.jpg\n",
            "/content/drive/My Drive/hand_posture_data/train/rock/rgb/00000067.jpg\n",
            "/content/drive/My Drive/hand_posture_data/train/rock/rgb/00000068.jpg\n",
            "/content/drive/My Drive/hand_posture_data/train/rock/rgb/00000069.jpg\n",
            "/content/drive/My Drive/hand_posture_data/train/rock/rgb/00000070.jpg\n",
            "/content/drive/My Drive/hand_posture_data/train/rock/rgb/00000071.jpg\n",
            "/content/drive/My Drive/hand_posture_data/train/rock/rgb/00000072.jpg\n"
          ],
          "name": "stdout"
        },
        {
          "output_type": "stream",
          "text": [
            " 37%|███▋      | 110/300 [00:00<00:01, 178.44it/s]"
          ],
          "name": "stderr"
        },
        {
          "output_type": "stream",
          "text": [
            "/content/drive/My Drive/hand_posture_data/train/rock/rgb/00000073.jpg\n",
            "/content/drive/My Drive/hand_posture_data/train/rock/rgb/00000074.jpg\n",
            "/content/drive/My Drive/hand_posture_data/train/rock/rgb/00000075.jpg\n",
            "/content/drive/My Drive/hand_posture_data/train/rock/rgb/00000076.jpg\n",
            "/content/drive/My Drive/hand_posture_data/train/rock/rgb/00000077.jpg\n",
            "/content/drive/My Drive/hand_posture_data/train/rock/rgb/00000078.jpg\n",
            "/content/drive/My Drive/hand_posture_data/train/rock/rgb/00000079.jpg\n",
            "/content/drive/My Drive/hand_posture_data/train/rock/rgb/00000080.jpg\n",
            "/content/drive/My Drive/hand_posture_data/train/rock/rgb/00000081.jpg\n",
            "/content/drive/My Drive/hand_posture_data/train/rock/rgb/00000082.jpg\n",
            "/content/drive/My Drive/hand_posture_data/train/rock/rgb/00000083.jpg\n",
            "/content/drive/My Drive/hand_posture_data/train/rock/rgb/00000084.jpg\n",
            "/content/drive/My Drive/hand_posture_data/train/rock/rgb/00000085.jpg\n",
            "/content/drive/My Drive/hand_posture_data/train/rock/rgb/00000086.jpg\n",
            "/content/drive/My Drive/hand_posture_data/train/rock/rgb/00000087.jpg\n",
            "/content/drive/My Drive/hand_posture_data/train/rock/rgb/00000088.jpg\n",
            "/content/drive/My Drive/hand_posture_data/train/rock/rgb/00000089.jpg\n",
            "/content/drive/My Drive/hand_posture_data/train/rock/rgb/00000090.jpg\n",
            "/content/drive/My Drive/hand_posture_data/train/rock/rgb/00000091.jpg\n",
            "/content/drive/My Drive/hand_posture_data/train/rock/rgb/00000092.jpg\n",
            "/content/drive/My Drive/hand_posture_data/train/rock/rgb/00000093.jpg\n",
            "/content/drive/My Drive/hand_posture_data/train/rock/rgb/00000094.jpg\n",
            "/content/drive/My Drive/hand_posture_data/train/rock/rgb/00000095.jpg\n",
            "/content/drive/My Drive/hand_posture_data/train/rock/rgb/00000096.jpg\n",
            "/content/drive/My Drive/hand_posture_data/train/rock/rgb/00000097.jpg\n",
            "/content/drive/My Drive/hand_posture_data/train/rock/rgb/00000098.jpg\n",
            "/content/drive/My Drive/hand_posture_data/train/rock/rgb/00000099.jpg\n",
            "/content/drive/My Drive/hand_posture_data/train/scissors/rgb/00000000.jpg\n",
            "/content/drive/My Drive/hand_posture_data/train/scissors/rgb/00000001.jpg\n",
            "/content/drive/My Drive/hand_posture_data/train/scissors/rgb/00000002.jpg\n",
            "/content/drive/My Drive/hand_posture_data/train/scissors/rgb/00000003.jpg\n",
            "/content/drive/My Drive/hand_posture_data/train/scissors/rgb/00000004.jpg\n",
            "/content/drive/My Drive/hand_posture_data/train/scissors/rgb/00000005.jpg\n",
            "/content/drive/My Drive/hand_posture_data/train/scissors/rgb/00000006.jpg\n",
            "/content/drive/My Drive/hand_posture_data/train/scissors/rgb/00000007.jpg\n",
            "/content/drive/My Drive/hand_posture_data/train/scissors/rgb/00000008.jpg\n",
            "/content/drive/My Drive/hand_posture_data/train/scissors/rgb/00000009.jpg\n"
          ],
          "name": "stdout"
        },
        {
          "output_type": "stream",
          "text": [
            " 49%|████▊     | 146/300 [00:00<00:00, 176.76it/s]"
          ],
          "name": "stderr"
        },
        {
          "output_type": "stream",
          "text": [
            "/content/drive/My Drive/hand_posture_data/train/scissors/rgb/00000010.jpg\n",
            "/content/drive/My Drive/hand_posture_data/train/scissors/rgb/00000011.jpg\n",
            "/content/drive/My Drive/hand_posture_data/train/scissors/rgb/00000012.jpg\n",
            "/content/drive/My Drive/hand_posture_data/train/scissors/rgb/00000013.jpg\n",
            "/content/drive/My Drive/hand_posture_data/train/scissors/rgb/00000014.jpg\n",
            "/content/drive/My Drive/hand_posture_data/train/scissors/rgb/00000015.jpg\n",
            "/content/drive/My Drive/hand_posture_data/train/scissors/rgb/00000016.jpg\n",
            "/content/drive/My Drive/hand_posture_data/train/scissors/rgb/00000017.jpg\n",
            "/content/drive/My Drive/hand_posture_data/train/scissors/rgb/00000018.jpg\n",
            "/content/drive/My Drive/hand_posture_data/train/scissors/rgb/00000019.jpg\n",
            "/content/drive/My Drive/hand_posture_data/train/scissors/rgb/00000020.jpg\n",
            "/content/drive/My Drive/hand_posture_data/train/scissors/rgb/00000021.jpg\n",
            "/content/drive/My Drive/hand_posture_data/train/scissors/rgb/00000022.jpg\n",
            "/content/drive/My Drive/hand_posture_data/train/scissors/rgb/00000023.jpg\n",
            "/content/drive/My Drive/hand_posture_data/train/scissors/rgb/00000024.jpg\n",
            "/content/drive/My Drive/hand_posture_data/train/scissors/rgb/00000025.jpg\n",
            "/content/drive/My Drive/hand_posture_data/train/scissors/rgb/00000026.jpg\n",
            "/content/drive/My Drive/hand_posture_data/train/scissors/rgb/00000027.jpg\n",
            "/content/drive/My Drive/hand_posture_data/train/scissors/rgb/00000028.jpg\n",
            "/content/drive/My Drive/hand_posture_data/train/scissors/rgb/00000029.jpg\n",
            "/content/drive/My Drive/hand_posture_data/train/scissors/rgb/00000030.jpg\n",
            "/content/drive/My Drive/hand_posture_data/train/scissors/rgb/00000031.jpg\n",
            "/content/drive/My Drive/hand_posture_data/train/scissors/rgb/00000032.jpg\n",
            "/content/drive/My Drive/hand_posture_data/train/scissors/rgb/00000033.jpg\n",
            "/content/drive/My Drive/hand_posture_data/train/scissors/rgb/00000034.jpg\n",
            "/content/drive/My Drive/hand_posture_data/train/scissors/rgb/00000035.jpg\n",
            "/content/drive/My Drive/hand_posture_data/train/scissors/rgb/00000036.jpg\n",
            "/content/drive/My Drive/hand_posture_data/train/scissors/rgb/00000037.jpg\n",
            "/content/drive/My Drive/hand_posture_data/train/scissors/rgb/00000038.jpg\n",
            "/content/drive/My Drive/hand_posture_data/train/scissors/rgb/00000039.jpg\n",
            "/content/drive/My Drive/hand_posture_data/train/scissors/rgb/00000040.jpg\n",
            "/content/drive/My Drive/hand_posture_data/train/scissors/rgb/00000041.jpg\n",
            "/content/drive/My Drive/hand_posture_data/train/scissors/rgb/00000042.jpg\n",
            "/content/drive/My Drive/hand_posture_data/train/scissors/rgb/00000043.jpg\n",
            "/content/drive/My Drive/hand_posture_data/train/scissors/rgb/00000044.jpg\n",
            "/content/drive/My Drive/hand_posture_data/train/scissors/rgb/00000045.jpg\n"
          ],
          "name": "stdout"
        },
        {
          "output_type": "stream",
          "text": [
            "\r 55%|█████▍    | 164/300 [00:00<00:00, 175.34it/s]"
          ],
          "name": "stderr"
        },
        {
          "output_type": "stream",
          "text": [
            "/content/drive/My Drive/hand_posture_data/train/scissors/rgb/00000046.jpg\n",
            "/content/drive/My Drive/hand_posture_data/train/scissors/rgb/00000047.jpg\n",
            "/content/drive/My Drive/hand_posture_data/train/scissors/rgb/00000048.jpg\n",
            "/content/drive/My Drive/hand_posture_data/train/scissors/rgb/00000049.jpg\n",
            "/content/drive/My Drive/hand_posture_data/train/scissors/rgb/00000050.jpg\n",
            "/content/drive/My Drive/hand_posture_data/train/scissors/rgb/00000051.jpg\n",
            "/content/drive/My Drive/hand_posture_data/train/scissors/rgb/00000052.jpg\n",
            "/content/drive/My Drive/hand_posture_data/train/scissors/rgb/00000053.jpg\n",
            "/content/drive/My Drive/hand_posture_data/train/scissors/rgb/00000054.jpg\n",
            "/content/drive/My Drive/hand_posture_data/train/scissors/rgb/00000055.jpg\n",
            "/content/drive/My Drive/hand_posture_data/train/scissors/rgb/00000056.jpg\n",
            "/content/drive/My Drive/hand_posture_data/train/scissors/rgb/00000057.jpg\n",
            "/content/drive/My Drive/hand_posture_data/train/scissors/rgb/00000058.jpg\n",
            "/content/drive/My Drive/hand_posture_data/train/scissors/rgb/00000059.jpg\n",
            "/content/drive/My Drive/hand_posture_data/train/scissors/rgb/00000060.jpg\n",
            "/content/drive/My Drive/hand_posture_data/train/scissors/rgb/00000061.jpg\n",
            "/content/drive/My Drive/hand_posture_data/train/scissors/rgb/00000062.jpg\n",
            "/content/drive/My Drive/hand_posture_data/train/scissors/rgb/00000063.jpg\n",
            "/content/drive/My Drive/hand_posture_data/train/scissors/rgb/00000064.jpg\n",
            "/content/drive/My Drive/hand_posture_data/train/scissors/rgb/00000065.jpg\n",
            "/content/drive/My Drive/hand_posture_data/train/scissors/rgb/00000066.jpg\n",
            "/content/drive/My Drive/hand_posture_data/train/scissors/rgb/00000067.jpg\n",
            "/content/drive/My Drive/hand_posture_data/train/scissors/rgb/00000068.jpg\n",
            "/content/drive/My Drive/hand_posture_data/train/scissors/rgb/00000069.jpg\n",
            "/content/drive/My Drive/hand_posture_data/train/scissors/rgb/00000070.jpg\n",
            "/content/drive/My Drive/hand_posture_data/train/scissors/rgb/00000071.jpg\n",
            "/content/drive/My Drive/hand_posture_data/train/scissors/rgb/00000072.jpg\n",
            "/content/drive/My Drive/hand_posture_data/train/scissors/rgb/00000073.jpg\n",
            "/content/drive/My Drive/hand_posture_data/train/scissors/rgb/00000074.jpg\n",
            "/content/drive/My Drive/hand_posture_data/train/scissors/rgb/00000075.jpg\n",
            "/content/drive/My Drive/hand_posture_data/train/scissors/rgb/00000076.jpg\n",
            "/content/drive/My Drive/hand_posture_data/train/scissors/rgb/00000077.jpg\n",
            "/content/drive/My Drive/hand_posture_data/train/scissors/rgb/00000078.jpg\n",
            "/content/drive/My Drive/hand_posture_data/train/scissors/rgb/00000079.jpg\n",
            "/content/drive/My Drive/hand_posture_data/train/scissors/rgb/00000080.jpg\n"
          ],
          "name": "stdout"
        },
        {
          "output_type": "stream",
          "text": [
            " 73%|███████▎  | 219/300 [00:01<00:00, 177.68it/s]"
          ],
          "name": "stderr"
        },
        {
          "output_type": "stream",
          "text": [
            "/content/drive/My Drive/hand_posture_data/train/scissors/rgb/00000081.jpg\n",
            "/content/drive/My Drive/hand_posture_data/train/scissors/rgb/00000082.jpg\n",
            "/content/drive/My Drive/hand_posture_data/train/scissors/rgb/00000083.jpg\n",
            "/content/drive/My Drive/hand_posture_data/train/scissors/rgb/00000084.jpg\n",
            "/content/drive/My Drive/hand_posture_data/train/scissors/rgb/00000085.jpg\n",
            "/content/drive/My Drive/hand_posture_data/train/scissors/rgb/00000086.jpg\n",
            "/content/drive/My Drive/hand_posture_data/train/scissors/rgb/00000087.jpg\n",
            "/content/drive/My Drive/hand_posture_data/train/scissors/rgb/00000088.jpg\n",
            "/content/drive/My Drive/hand_posture_data/train/scissors/rgb/00000089.jpg\n",
            "/content/drive/My Drive/hand_posture_data/train/scissors/rgb/00000090.jpg\n",
            "/content/drive/My Drive/hand_posture_data/train/scissors/rgb/00000091.jpg\n",
            "/content/drive/My Drive/hand_posture_data/train/scissors/rgb/00000092.jpg\n",
            "/content/drive/My Drive/hand_posture_data/train/scissors/rgb/00000093.jpg\n",
            "/content/drive/My Drive/hand_posture_data/train/scissors/rgb/00000094.jpg\n",
            "/content/drive/My Drive/hand_posture_data/train/scissors/rgb/00000095.jpg\n",
            "/content/drive/My Drive/hand_posture_data/train/scissors/rgb/00000096.jpg\n",
            "/content/drive/My Drive/hand_posture_data/train/scissors/rgb/00000097.jpg\n",
            "/content/drive/My Drive/hand_posture_data/train/scissors/rgb/00000098.jpg\n",
            "/content/drive/My Drive/hand_posture_data/train/scissors/rgb/00000099.jpg\n",
            "/content/drive/My Drive/hand_posture_data/train/paper/rgb/00000000.jpg\n",
            "/content/drive/My Drive/hand_posture_data/train/paper/rgb/00000001.jpg\n",
            "/content/drive/My Drive/hand_posture_data/train/paper/rgb/00000002.jpg\n",
            "/content/drive/My Drive/hand_posture_data/train/paper/rgb/00000003.jpg\n",
            "/content/drive/My Drive/hand_posture_data/train/paper/rgb/00000004.jpg\n",
            "/content/drive/My Drive/hand_posture_data/train/paper/rgb/00000005.jpg\n",
            "/content/drive/My Drive/hand_posture_data/train/paper/rgb/00000006.jpg\n",
            "/content/drive/My Drive/hand_posture_data/train/paper/rgb/00000007.jpg\n",
            "/content/drive/My Drive/hand_posture_data/train/paper/rgb/00000008.jpg\n",
            "/content/drive/My Drive/hand_posture_data/train/paper/rgb/00000009.jpg\n",
            "/content/drive/My Drive/hand_posture_data/train/paper/rgb/00000010.jpg\n",
            "/content/drive/My Drive/hand_posture_data/train/paper/rgb/00000011.jpg\n",
            "/content/drive/My Drive/hand_posture_data/train/paper/rgb/00000012.jpg\n",
            "/content/drive/My Drive/hand_posture_data/train/paper/rgb/00000013.jpg\n",
            "/content/drive/My Drive/hand_posture_data/train/paper/rgb/00000014.jpg\n",
            "/content/drive/My Drive/hand_posture_data/train/paper/rgb/00000015.jpg\n",
            "/content/drive/My Drive/hand_posture_data/train/paper/rgb/00000016.jpg\n",
            "/content/drive/My Drive/hand_posture_data/train/paper/rgb/00000017.jpg\n",
            "/content/drive/My Drive/hand_posture_data/train/paper/rgb/00000018.jpg\n"
          ],
          "name": "stdout"
        },
        {
          "output_type": "stream",
          "text": [
            "\r 79%|███████▉  | 237/300 [00:01<00:00, 174.53it/s]"
          ],
          "name": "stderr"
        },
        {
          "output_type": "stream",
          "text": [
            "/content/drive/My Drive/hand_posture_data/train/paper/rgb/00000019.jpg\n",
            "/content/drive/My Drive/hand_posture_data/train/paper/rgb/00000020.jpg\n",
            "/content/drive/My Drive/hand_posture_data/train/paper/rgb/00000021.jpg\n",
            "/content/drive/My Drive/hand_posture_data/train/paper/rgb/00000022.jpg\n",
            "/content/drive/My Drive/hand_posture_data/train/paper/rgb/00000023.jpg\n",
            "/content/drive/My Drive/hand_posture_data/train/paper/rgb/00000024.jpg\n",
            "/content/drive/My Drive/hand_posture_data/train/paper/rgb/00000025.jpg\n",
            "/content/drive/My Drive/hand_posture_data/train/paper/rgb/00000026.jpg\n",
            "/content/drive/My Drive/hand_posture_data/train/paper/rgb/00000027.jpg\n",
            "/content/drive/My Drive/hand_posture_data/train/paper/rgb/00000028.jpg\n",
            "/content/drive/My Drive/hand_posture_data/train/paper/rgb/00000029.jpg\n",
            "/content/drive/My Drive/hand_posture_data/train/paper/rgb/00000030.jpg\n",
            "/content/drive/My Drive/hand_posture_data/train/paper/rgb/00000031.jpg\n",
            "/content/drive/My Drive/hand_posture_data/train/paper/rgb/00000032.jpg\n",
            "/content/drive/My Drive/hand_posture_data/train/paper/rgb/00000033.jpg\n",
            "/content/drive/My Drive/hand_posture_data/train/paper/rgb/00000034.jpg\n",
            "/content/drive/My Drive/hand_posture_data/train/paper/rgb/00000035.jpg\n",
            "/content/drive/My Drive/hand_posture_data/train/paper/rgb/00000036.jpg\n",
            "/content/drive/My Drive/hand_posture_data/train/paper/rgb/00000037.jpg\n",
            "/content/drive/My Drive/hand_posture_data/train/paper/rgb/00000038.jpg\n",
            "/content/drive/My Drive/hand_posture_data/train/paper/rgb/00000039.jpg\n",
            "/content/drive/My Drive/hand_posture_data/train/paper/rgb/00000040.jpg\n",
            "/content/drive/My Drive/hand_posture_data/train/paper/rgb/00000041.jpg\n",
            "/content/drive/My Drive/hand_posture_data/train/paper/rgb/00000042.jpg\n",
            "/content/drive/My Drive/hand_posture_data/train/paper/rgb/00000043.jpg\n",
            "/content/drive/My Drive/hand_posture_data/train/paper/rgb/00000044.jpg\n",
            "/content/drive/My Drive/hand_posture_data/train/paper/rgb/00000045.jpg\n",
            "/content/drive/My Drive/hand_posture_data/train/paper/rgb/00000046.jpg\n",
            "/content/drive/My Drive/hand_posture_data/train/paper/rgb/00000047.jpg\n",
            "/content/drive/My Drive/hand_posture_data/train/paper/rgb/00000048.jpg\n",
            "/content/drive/My Drive/hand_posture_data/train/paper/rgb/00000049.jpg\n",
            "/content/drive/My Drive/hand_posture_data/train/paper/rgb/00000050.jpg\n",
            "/content/drive/My Drive/hand_posture_data/train/paper/rgb/00000051.jpg\n",
            "/content/drive/My Drive/hand_posture_data/train/paper/rgb/00000052.jpg\n",
            "/content/drive/My Drive/hand_posture_data/train/paper/rgb/00000053.jpg\n",
            "/content/drive/My Drive/hand_posture_data/train/paper/rgb/00000054.jpg\n"
          ],
          "name": "stdout"
        },
        {
          "output_type": "stream",
          "text": [
            " 97%|█████████▋| 291/300 [00:01<00:00, 176.08it/s]"
          ],
          "name": "stderr"
        },
        {
          "output_type": "stream",
          "text": [
            "/content/drive/My Drive/hand_posture_data/train/paper/rgb/00000055.jpg\n",
            "/content/drive/My Drive/hand_posture_data/train/paper/rgb/00000056.jpg\n",
            "/content/drive/My Drive/hand_posture_data/train/paper/rgb/00000057.jpg\n",
            "/content/drive/My Drive/hand_posture_data/train/paper/rgb/00000058.jpg\n",
            "/content/drive/My Drive/hand_posture_data/train/paper/rgb/00000059.jpg\n",
            "/content/drive/My Drive/hand_posture_data/train/paper/rgb/00000060.jpg\n",
            "/content/drive/My Drive/hand_posture_data/train/paper/rgb/00000061.jpg\n",
            "/content/drive/My Drive/hand_posture_data/train/paper/rgb/00000062.jpg\n",
            "/content/drive/My Drive/hand_posture_data/train/paper/rgb/00000063.jpg\n",
            "/content/drive/My Drive/hand_posture_data/train/paper/rgb/00000064.jpg\n",
            "/content/drive/My Drive/hand_posture_data/train/paper/rgb/00000065.jpg\n",
            "/content/drive/My Drive/hand_posture_data/train/paper/rgb/00000066.jpg\n",
            "/content/drive/My Drive/hand_posture_data/train/paper/rgb/00000067.jpg\n",
            "/content/drive/My Drive/hand_posture_data/train/paper/rgb/00000068.jpg\n",
            "/content/drive/My Drive/hand_posture_data/train/paper/rgb/00000069.jpg\n",
            "/content/drive/My Drive/hand_posture_data/train/paper/rgb/00000070.jpg\n",
            "/content/drive/My Drive/hand_posture_data/train/paper/rgb/00000071.jpg\n",
            "/content/drive/My Drive/hand_posture_data/train/paper/rgb/00000072.jpg\n",
            "/content/drive/My Drive/hand_posture_data/train/paper/rgb/00000073.jpg\n",
            "/content/drive/My Drive/hand_posture_data/train/paper/rgb/00000074.jpg\n",
            "/content/drive/My Drive/hand_posture_data/train/paper/rgb/00000075.jpg\n",
            "/content/drive/My Drive/hand_posture_data/train/paper/rgb/00000076.jpg\n",
            "/content/drive/My Drive/hand_posture_data/train/paper/rgb/00000077.jpg\n",
            "/content/drive/My Drive/hand_posture_data/train/paper/rgb/00000078.jpg\n",
            "/content/drive/My Drive/hand_posture_data/train/paper/rgb/00000079.jpg\n",
            "/content/drive/My Drive/hand_posture_data/train/paper/rgb/00000080.jpg\n",
            "/content/drive/My Drive/hand_posture_data/train/paper/rgb/00000081.jpg\n",
            "/content/drive/My Drive/hand_posture_data/train/paper/rgb/00000082.jpg\n",
            "/content/drive/My Drive/hand_posture_data/train/paper/rgb/00000083.jpg\n",
            "/content/drive/My Drive/hand_posture_data/train/paper/rgb/00000084.jpg\n",
            "/content/drive/My Drive/hand_posture_data/train/paper/rgb/00000085.jpg\n",
            "/content/drive/My Drive/hand_posture_data/train/paper/rgb/00000086.jpg\n",
            "/content/drive/My Drive/hand_posture_data/train/paper/rgb/00000087.jpg\n",
            "/content/drive/My Drive/hand_posture_data/train/paper/rgb/00000088.jpg\n",
            "/content/drive/My Drive/hand_posture_data/train/paper/rgb/00000089.jpg\n",
            "/content/drive/My Drive/hand_posture_data/train/paper/rgb/00000090.jpg\n"
          ],
          "name": "stdout"
        },
        {
          "output_type": "stream",
          "text": [
            "\r100%|██████████| 300/300 [00:01<00:00, 175.84it/s]\n"
          ],
          "name": "stderr"
        },
        {
          "output_type": "stream",
          "text": [
            "/content/drive/My Drive/hand_posture_data/train/paper/rgb/00000091.jpg\n",
            "/content/drive/My Drive/hand_posture_data/train/paper/rgb/00000092.jpg\n",
            "/content/drive/My Drive/hand_posture_data/train/paper/rgb/00000093.jpg\n",
            "/content/drive/My Drive/hand_posture_data/train/paper/rgb/00000094.jpg\n",
            "/content/drive/My Drive/hand_posture_data/train/paper/rgb/00000095.jpg\n",
            "/content/drive/My Drive/hand_posture_data/train/paper/rgb/00000096.jpg\n",
            "/content/drive/My Drive/hand_posture_data/train/paper/rgb/00000097.jpg\n",
            "/content/drive/My Drive/hand_posture_data/train/paper/rgb/00000098.jpg\n",
            "/content/drive/My Drive/hand_posture_data/train/paper/rgb/00000099.jpg\n"
          ],
          "name": "stdout"
        },
        {
          "output_type": "stream",
          "text": [
            "\r  0%|          | 0/21 [00:00<?, ?it/s]"
          ],
          "name": "stderr"
        },
        {
          "output_type": "stream",
          "text": [
            "Finish build model.\n",
            "Training...\n"
          ],
          "name": "stdout"
        },
        {
          "output_type": "stream",
          "text": [
            "\r  5%|▍         | 1/21 [00:10<03:21, 10.08s/it]"
          ],
          "name": "stderr"
        },
        {
          "output_type": "stream",
          "text": [
            "training loss:  tensor(0.0004, device='cuda:0', grad_fn=<AddBackward0>)\n"
          ],
          "name": "stdout"
        },
        {
          "output_type": "stream",
          "text": [
            "\r 10%|▉         | 2/21 [00:20<03:11, 10.09s/it]"
          ],
          "name": "stderr"
        },
        {
          "output_type": "stream",
          "text": [
            "training loss:  tensor(0.0004, device='cuda:0', grad_fn=<AddBackward0>)\n"
          ],
          "name": "stdout"
        },
        {
          "output_type": "stream",
          "text": [
            "\r 14%|█▍        | 3/21 [00:30<03:02, 10.13s/it]"
          ],
          "name": "stderr"
        },
        {
          "output_type": "stream",
          "text": [
            "training loss:  tensor(0.0002, device='cuda:0', grad_fn=<AddBackward0>)\n"
          ],
          "name": "stdout"
        },
        {
          "output_type": "stream",
          "text": [
            "\r 19%|█▉        | 4/21 [00:40<02:53, 10.20s/it]"
          ],
          "name": "stderr"
        },
        {
          "output_type": "stream",
          "text": [
            "training loss:  tensor(0.0002, device='cuda:0', grad_fn=<AddBackward0>)\n"
          ],
          "name": "stdout"
        },
        {
          "output_type": "stream",
          "text": [
            "\r 24%|██▍       | 5/21 [00:51<02:43, 10.23s/it]"
          ],
          "name": "stderr"
        },
        {
          "output_type": "stream",
          "text": [
            "training loss:  tensor(0.0002, device='cuda:0', grad_fn=<AddBackward0>)\n"
          ],
          "name": "stdout"
        },
        {
          "output_type": "stream",
          "text": [
            "\r 29%|██▊       | 6/21 [01:01<02:33, 10.21s/it]"
          ],
          "name": "stderr"
        },
        {
          "output_type": "stream",
          "text": [
            "training loss:  tensor(8.0577e-05, device='cuda:0', grad_fn=<AddBackward0>)\n"
          ],
          "name": "stdout"
        },
        {
          "output_type": "stream",
          "text": [
            "\r 33%|███▎      | 7/21 [01:11<02:22, 10.19s/it]"
          ],
          "name": "stderr"
        },
        {
          "output_type": "stream",
          "text": [
            "training loss:  tensor(0.0001, device='cuda:0', grad_fn=<AddBackward0>)\n"
          ],
          "name": "stdout"
        },
        {
          "output_type": "stream",
          "text": [
            "\r 38%|███▊      | 8/21 [01:21<02:12, 10.16s/it]"
          ],
          "name": "stderr"
        },
        {
          "output_type": "stream",
          "text": [
            "training loss:  tensor(0.0001, device='cuda:0', grad_fn=<AddBackward0>)\n"
          ],
          "name": "stdout"
        },
        {
          "output_type": "stream",
          "text": [
            "\r 43%|████▎     | 9/21 [01:31<02:01, 10.14s/it]"
          ],
          "name": "stderr"
        },
        {
          "output_type": "stream",
          "text": [
            "training loss:  tensor(0.0002, device='cuda:0', grad_fn=<AddBackward0>)\n"
          ],
          "name": "stdout"
        },
        {
          "output_type": "stream",
          "text": [
            "\r 48%|████▊     | 10/21 [01:41<01:51, 10.15s/it]"
          ],
          "name": "stderr"
        },
        {
          "output_type": "stream",
          "text": [
            "training loss:  tensor(3.0660e-05, device='cuda:0', grad_fn=<AddBackward0>)\n"
          ],
          "name": "stdout"
        },
        {
          "output_type": "stream",
          "text": [
            "\r 52%|█████▏    | 11/21 [01:51<01:41, 10.17s/it]"
          ],
          "name": "stderr"
        },
        {
          "output_type": "stream",
          "text": [
            "training loss:  tensor(4.3200e-05, device='cuda:0', grad_fn=<AddBackward0>)\n"
          ],
          "name": "stdout"
        },
        {
          "output_type": "stream",
          "text": [
            "\r 57%|█████▋    | 12/21 [02:02<01:31, 10.19s/it]"
          ],
          "name": "stderr"
        },
        {
          "output_type": "stream",
          "text": [
            "training loss:  tensor(0.0002, device='cuda:0', grad_fn=<AddBackward0>)\n"
          ],
          "name": "stdout"
        },
        {
          "output_type": "stream",
          "text": [
            "\r 62%|██████▏   | 13/21 [02:12<01:21, 10.20s/it]"
          ],
          "name": "stderr"
        },
        {
          "output_type": "stream",
          "text": [
            "training loss:  tensor(3.5953e-05, device='cuda:0', grad_fn=<AddBackward0>)\n"
          ],
          "name": "stdout"
        },
        {
          "output_type": "stream",
          "text": [
            "\r 67%|██████▋   | 14/21 [02:22<01:11, 10.19s/it]"
          ],
          "name": "stderr"
        },
        {
          "output_type": "stream",
          "text": [
            "training loss:  tensor(0.0001, device='cuda:0', grad_fn=<AddBackward0>)\n"
          ],
          "name": "stdout"
        },
        {
          "output_type": "stream",
          "text": [
            "\r 71%|███████▏  | 15/21 [02:32<01:01, 10.17s/it]"
          ],
          "name": "stderr"
        },
        {
          "output_type": "stream",
          "text": [
            "training loss:  tensor(0.0002, device='cuda:0', grad_fn=<AddBackward0>)\n"
          ],
          "name": "stdout"
        },
        {
          "output_type": "stream",
          "text": [
            "\r 76%|███████▌  | 16/21 [02:42<00:50, 10.17s/it]"
          ],
          "name": "stderr"
        },
        {
          "output_type": "stream",
          "text": [
            "training loss:  tensor(9.1042e-05, device='cuda:0', grad_fn=<AddBackward0>)\n"
          ],
          "name": "stdout"
        },
        {
          "output_type": "stream",
          "text": [
            "\r 81%|████████  | 17/21 [02:53<00:40, 10.16s/it]"
          ],
          "name": "stderr"
        },
        {
          "output_type": "stream",
          "text": [
            "training loss:  tensor(3.0039e-05, device='cuda:0', grad_fn=<AddBackward0>)\n"
          ],
          "name": "stdout"
        },
        {
          "output_type": "stream",
          "text": [
            "\r 86%|████████▌ | 18/21 [03:03<00:30, 10.16s/it]"
          ],
          "name": "stderr"
        },
        {
          "output_type": "stream",
          "text": [
            "training loss:  tensor(2.0050e-05, device='cuda:0', grad_fn=<AddBackward0>)\n"
          ],
          "name": "stdout"
        },
        {
          "output_type": "stream",
          "text": [
            "\r 90%|█████████ | 19/21 [03:13<00:20, 10.17s/it]"
          ],
          "name": "stderr"
        },
        {
          "output_type": "stream",
          "text": [
            "training loss:  tensor(5.4854e-05, device='cuda:0', grad_fn=<AddBackward0>)\n"
          ],
          "name": "stdout"
        },
        {
          "output_type": "stream",
          "text": [
            "\r 95%|█████████▌| 20/21 [03:23<00:10, 10.17s/it]"
          ],
          "name": "stderr"
        },
        {
          "output_type": "stream",
          "text": [
            "training loss:  tensor(9.4400e-05, device='cuda:0', grad_fn=<AddBackward0>)\n",
            "training loss:  tensor(1.1873e-05, device='cuda:0', grad_fn=<AddBackward0>)\n"
          ],
          "name": "stdout"
        },
        {
          "output_type": "stream",
          "text": [
            "100%|██████████| 21/21 [03:34<00:00, 10.20s/it]\n",
            "100%|██████████| 30/30 [00:00<00:00, 174.14it/s]\n"
          ],
          "name": "stderr"
        },
        {
          "output_type": "stream",
          "text": [
            "Finish training.\n",
            "/content/drive/My Drive/hand_posture_data/test/rock/rgb/00000000.jpg\n",
            "/content/drive/My Drive/hand_posture_data/test/rock/rgb/00000001.jpg\n",
            "/content/drive/My Drive/hand_posture_data/test/rock/rgb/00000002.jpg\n",
            "/content/drive/My Drive/hand_posture_data/test/rock/rgb/00000003.jpg\n",
            "/content/drive/My Drive/hand_posture_data/test/rock/rgb/00000004.jpg\n",
            "/content/drive/My Drive/hand_posture_data/test/rock/rgb/00000005.jpg\n",
            "/content/drive/My Drive/hand_posture_data/test/rock/rgb/00000006.jpg\n",
            "/content/drive/My Drive/hand_posture_data/test/rock/rgb/00000007.jpg\n",
            "/content/drive/My Drive/hand_posture_data/test/rock/rgb/00000008.jpg\n",
            "/content/drive/My Drive/hand_posture_data/test/rock/rgb/00000009.jpg\n",
            "/content/drive/My Drive/hand_posture_data/test/scissors/rgb/00000000.jpg\n",
            "/content/drive/My Drive/hand_posture_data/test/scissors/rgb/00000001.jpg\n",
            "/content/drive/My Drive/hand_posture_data/test/scissors/rgb/00000002.jpg\n",
            "/content/drive/My Drive/hand_posture_data/test/scissors/rgb/00000003.jpg\n",
            "/content/drive/My Drive/hand_posture_data/test/scissors/rgb/00000004.jpg\n",
            "/content/drive/My Drive/hand_posture_data/test/scissors/rgb/00000005.jpg\n",
            "/content/drive/My Drive/hand_posture_data/test/scissors/rgb/00000006.jpg\n",
            "/content/drive/My Drive/hand_posture_data/test/scissors/rgb/00000007.jpg\n",
            "/content/drive/My Drive/hand_posture_data/test/scissors/rgb/00000008.jpg\n",
            "/content/drive/My Drive/hand_posture_data/test/scissors/rgb/00000009.jpg\n",
            "/content/drive/My Drive/hand_posture_data/test/paper/rgb/00000000.jpg\n",
            "/content/drive/My Drive/hand_posture_data/test/paper/rgb/00000001.jpg\n",
            "/content/drive/My Drive/hand_posture_data/test/paper/rgb/00000002.jpg\n",
            "/content/drive/My Drive/hand_posture_data/test/paper/rgb/00000003.jpg\n",
            "/content/drive/My Drive/hand_posture_data/test/paper/rgb/00000004.jpg\n",
            "/content/drive/My Drive/hand_posture_data/test/paper/rgb/00000005.jpg\n",
            "/content/drive/My Drive/hand_posture_data/test/paper/rgb/00000006.jpg\n",
            "/content/drive/My Drive/hand_posture_data/test/paper/rgb/00000007.jpg\n",
            "/content/drive/My Drive/hand_posture_data/test/paper/rgb/00000008.jpg\n",
            "/content/drive/My Drive/hand_posture_data/test/paper/rgb/00000009.jpg\n",
            "Testing...\n",
            "[tensor(2), tensor(0), tensor(1), tensor(1), tensor(2), tensor(0), tensor(1), tensor(0), tensor(1), tensor(0), tensor(0), tensor(1), tensor(1), tensor(1), tensor(2), tensor(2), tensor(1), tensor(0), tensor(2), tensor(2), tensor(2), tensor(1), tensor(0), tensor(1), tensor(0), tensor(2), tensor(2), tensor(0), tensor(0), tensor(2)]\n",
            "[2, 0, 1, 1, 2, 0, 1, 2, 1, 0, 0, 1, 2, 1, 2, 2, 1, 0, 2, 2, 2, 1, 0, 1, 0, 2, 2, 0, 0, 2]\n"
          ],
          "name": "stdout"
        },
        {
          "output_type": "display_data",
          "data": {
            "image/png": "[encoded data removed]",
            "text/plain": [
              "<Figure size 432x288 with 1 Axes>"
            ]
          },
          "metadata": {
            "tags": [],
            "needs_background": "light"
          }
        },
        {
          "output_type": "display_data",
          "data": {
            "image/png": "[encoded data removed]",
            "text/plain": [
              "<Figure size 432x288 with 2 Axes>"
            ]
          },
          "metadata": {
            "tags": [],
            "needs_background": "light"
          }
        },
        {
          "output_type": "stream",
          "text": [
            "Overall Accuracy:  0.9333333333333333\n"
          ],
          "name": "stdout"
        }
      ]
    }
  ]
}