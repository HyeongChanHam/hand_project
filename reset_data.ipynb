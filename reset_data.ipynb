{
  "nbformat": 4,
  "nbformat_minor": 0,
  "metadata": {
    "colab": {
      "name": "reset_data.ipynb",
      "provenance": [],
      "mount_file_id": "1i21rb1aE7NIPWjYELDieOCk2Z7VBZsqx",
      "authorship_tag": "ABX9TyNIDv4V+M/30Fm3S4LR5wzU",
      "include_colab_link": true
    },
    "kernelspec": {
      "name": "python3",
      "display_name": "Python 3"
    }
  },
  "cells": [
    {
      "cell_type": "markdown",
      "metadata": {
        "id": "view-in-github",
        "colab_type": "text"
      },
      "source": [
        "<a href=\"https://colab.research.google.com/github/HyeongChanHam/hand_project/blob/master/reset_data.ipynb\" target=\"_parent\"><img src=\"https://colab.research.google.com/assets/colab-badge.svg\" alt=\"Open In Colab\"/></a>"
      ]
    },
    {
      "cell_type": "code",
      "metadata": {
        "id": "5DVqy4y_6_Ni"
      },
      "source": [
        "import os"
      ],
      "execution_count": 1,
      "outputs": []
    },
    {
      "cell_type": "code",
      "metadata": {
        "id": "3CNaoc2z7MIu"
      },
      "source": [
        "PATH = '/content/drive/MyDrive/computer vision/dataset/'\n",
        "TRAIN_PATH = PATH+'train/'\n",
        "TEST_PATH = PATH+'test/'\n",
        "categories = ['brontosaurus', 'car_side', 'cougar_face', 'dalmatian', 'dollar_bill',\n",
        "              'dragonfly', 'Faces', 'Faces_easy', 'flamingo', 'headphone',\n",
        "              'lotus', 'menorah', 'nautilus', 'pagoda', 'soccer_ball',\n",
        "              'stop_sign', 'sunflower', 'tick', 'windsor_chair', 'yin_yang']"
      ],
      "execution_count": 11,
      "outputs": []
    },
    {
      "cell_type": "code",
      "metadata": {
        "id": "w7gJjsJr7nNM"
      },
      "source": [
        "\"\"\"\n",
        "move test to training\n",
        "\"\"\"\n",
        "for cat in categories:\n",
        "    imgs = next(os.walk(TEST_PATH+cat))[2]\n",
        "    for img in imgs:\n",
        "        os.rename(os.path.join(TEST_PATH, cat, img), os.path.join(TRAIN_PATH, cat, img))"
      ],
      "execution_count": 20,
      "outputs": []
    },
    {
      "cell_type": "code",
      "metadata": {
        "id": "dnfYV2qt81Uc"
      },
      "source": [
        "\"\"\"\n",
        "select 5 imgs\n",
        "\"\"\"\n",
        "import numpy as np\n",
        "\n",
        "for cat in categories:\n",
        "    imgs = next(os.walk(TRAIN_PATH+cat))[2]\n",
        "    idxes = np.random.choice(35, 5, replace=False)\n",
        "    for i, img in enumerate(imgs):\n",
        "        if i in idxes:\n",
        "            os.rename(os.path.join(TRAIN_PATH, cat, img), os.path.join(TEST_PATH, cat, img))"
      ],
      "execution_count": 28,
      "outputs": []
    }
  ]
}