{
  "nbformat": 4,
  "nbformat_minor": 0,
  "metadata": {
    "accelerator": "GPU",
    "colab": {
      "name": "topic_1_cross_validation.ipynb",
      "provenance": [],
      "collapsed_sections": []
    },
    "kernelspec": {
      "display_name": "Python 3",
      "name": "python3"
    }
  },
  "cells": [
    {
      "cell_type": "code",
      "metadata": {
        "colab": {
          "base_uri": "https://localhost:8080/"
        },
        "id": "Euy8cp3CmD6g",
        "outputId": "8082a80b-5bc0-4135-e48d-30a84cb7ceea"
      },
      "source": [
        "from google.colab import drive\n",
        "drive.mount('/content/gdrive')\n",
        "\n",
        "import torch\n",
        "import numpy as np\n",
        "import torchvision\n",
        "import tqdm\n",
        "import torch.optim.lr_scheduler as lr_scheduler\n",
        "from torch.utils.data import Dataset\n",
        "from torch.utils.data import DataLoader\n",
        "import cv2\n",
        "from google.colab.patches import cv2_imshow\n",
        "from torchvision import transforms\n",
        "from PIL import Image\n",
        "from matplotlib import pyplot as plt\n",
        "from torchvision import models\n",
        "from sklearn.model_selection import train_test_split # for cross-validation\n",
        "from sklearn.model_selection import StratifiedKFold # for cross-validation\n",
        "\n",
        "\n",
        "from glob import glob\n",
        "\n",
        "categories = ['brontosaurus', 'car_side', 'cougar_face', 'dalmatian', 'dollar_bill',\n",
        "              'dragonfly', 'Faces', 'Faces_easy', 'flamingo', 'headphone',\n",
        "              'lotus', 'menorah', 'nautilus', 'pagoda', 'soccer_ball',\n",
        "              'stop_sign', 'sunflower', 'tick', 'windsor_chair', 'yin_yang']\n",
        "train_img_len = 30\n",
        "test_img_len = 5\n",
        "num_of_classes = 20\n",
        "\n",
        "class ImgDataset(Dataset):\n",
        "    def __init__(self, method=None):\n",
        "        self.root = '/content/gdrive/My Drive/'\n",
        "        self.x_data = []\n",
        "        self.y_data = []\n",
        "        self.img_path = []\n",
        "\n",
        "        if method == 'train':\n",
        "            self.root = self.root + 'dataset/train'\n",
        "            for idx, category in enumerate(categories):\n",
        "                dir_path = self.root + '/' + category + '/'\n",
        "                self.img_path.append(sorted(glob(dir_path + '*.jpg')))\n",
        "            \n",
        "\n",
        "        elif method == 'test':\n",
        "            self.root = self.root + 'dataset/test'\n",
        "            for idx, category in enumerate(categories):\n",
        "                dir_path = self.root + '/' + category + '/'\n",
        "                self.img_path.append(sorted(glob(dir_path + '*.jpg')))\n",
        "\n",
        "        if method == 'train':\n",
        "          length = train_img_len\n",
        "        elif method == 'test':\n",
        "          length = test_img_len\n",
        "\n",
        "        for i in tqdm.tqdm(range(len(self.img_path))):\n",
        "             for j in range(0,length):\n",
        "                img = cv2.imread(self.img_path[i][j])\n",
        "                img = cv2.cvtColor(img, cv2.COLOR_BGR2RGB)\n",
        "                self.x_data.append(img)\n",
        "                self.y_data.append(i)\n",
        "        \n",
        "\n",
        "    def __len__(self):\n",
        "        return len(self.x_data)\n",
        "\n",
        "    def __getitem__(self, idx):        \n",
        "        #transform1 = torchvision.transforms.ToTensor()\n",
        "        # Resnet input tensor로 쓰기 위해 resize\n",
        "        transform1 = transforms.Compose([\n",
        "            transforms.ToTensor(),\n",
        "            transforms.Resize((224, 224)),                 \n",
        "        ])\n",
        "        new_x_data = transform1(self.x_data[idx])\n",
        "        return new_x_data, self.y_data[idx]\n",
        "\n",
        "    def return_whole(self):\n",
        "        transform1 = transforms.Compose([\n",
        "            transforms.ToTensor(),\n",
        "            transforms.Resize((224, 224)),                 \n",
        "        ])\n",
        "        new_x_data = []\n",
        "        for i in range(train_img_len * num_of_classes):\n",
        "            new_x_data.append(transform1(self.x_data[i]))\n",
        "\n",
        "        return new_x_data, self.y_data"
      ],
      "execution_count": null,
      "outputs": [
        {
          "output_type": "stream",
          "text": [
            "Drive already mounted at /content/gdrive; to attempt to forcibly remount, call drive.mount(\"/content/gdrive\", force_remount=True).\n"
          ],
          "name": "stdout"
        }
      ]
    },
    {
      "cell_type": "markdown",
      "metadata": {
        "id": "bnO9eQkXp1Av"
      },
      "source": [
        ""
      ]
    },
    {
      "cell_type": "code",
      "metadata": {
        "id": "H646Ewy9mHWQ"
      },
      "source": [
        "net = models.resnet18(pretrained=True)\n",
        "for p in net.parameters():\n",
        "  p.requires_grad = False"
      ],
      "execution_count": null,
      "outputs": []
    },
    {
      "cell_type": "code",
      "metadata": {
        "colab": {
          "base_uri": "https://localhost:8080/"
        },
        "id": "yDv03AGYuG7b",
        "outputId": "a1538c26-5d0c-4ee4-d26e-6ad0a341389b"
      },
      "source": [
        "print(net)"
      ],
      "execution_count": null,
      "outputs": [
        {
          "output_type": "stream",
          "text": [
            "ResNet(\n",
            "  (conv1): Conv2d(3, 64, kernel_size=(7, 7), stride=(2, 2), padding=(3, 3), bias=False)\n",
            "  (bn1): BatchNorm2d(64, eps=1e-05, momentum=0.1, affine=True, track_running_stats=True)\n",
            "  (relu): ReLU(inplace=True)\n",
            "  (maxpool): MaxPool2d(kernel_size=3, stride=2, padding=1, dilation=1, ceil_mode=False)\n",
            "  (layer1): Sequential(\n",
            "    (0): BasicBlock(\n",
            "      (conv1): Conv2d(64, 64, kernel_size=(3, 3), stride=(1, 1), padding=(1, 1), bias=False)\n",
            "      (bn1): BatchNorm2d(64, eps=1e-05, momentum=0.1, affine=True, track_running_stats=True)\n",
            "      (relu): ReLU(inplace=True)\n",
            "      (conv2): Conv2d(64, 64, kernel_size=(3, 3), stride=(1, 1), padding=(1, 1), bias=False)\n",
            "      (bn2): BatchNorm2d(64, eps=1e-05, momentum=0.1, affine=True, track_running_stats=True)\n",
            "    )\n",
            "    (1): BasicBlock(\n",
            "      (conv1): Conv2d(64, 64, kernel_size=(3, 3), stride=(1, 1), padding=(1, 1), bias=False)\n",
            "      (bn1): BatchNorm2d(64, eps=1e-05, momentum=0.1, affine=True, track_running_stats=True)\n",
            "      (relu): ReLU(inplace=True)\n",
            "      (conv2): Conv2d(64, 64, kernel_size=(3, 3), stride=(1, 1), padding=(1, 1), bias=False)\n",
            "      (bn2): BatchNorm2d(64, eps=1e-05, momentum=0.1, affine=True, track_running_stats=True)\n",
            "    )\n",
            "  )\n",
            "  (layer2): Sequential(\n",
            "    (0): BasicBlock(\n",
            "      (conv1): Conv2d(64, 128, kernel_size=(3, 3), stride=(2, 2), padding=(1, 1), bias=False)\n",
            "      (bn1): BatchNorm2d(128, eps=1e-05, momentum=0.1, affine=True, track_running_stats=True)\n",
            "      (relu): ReLU(inplace=True)\n",
            "      (conv2): Conv2d(128, 128, kernel_size=(3, 3), stride=(1, 1), padding=(1, 1), bias=False)\n",
            "      (bn2): BatchNorm2d(128, eps=1e-05, momentum=0.1, affine=True, track_running_stats=True)\n",
            "      (downsample): Sequential(\n",
            "        (0): Conv2d(64, 128, kernel_size=(1, 1), stride=(2, 2), bias=False)\n",
            "        (1): BatchNorm2d(128, eps=1e-05, momentum=0.1, affine=True, track_running_stats=True)\n",
            "      )\n",
            "    )\n",
            "    (1): BasicBlock(\n",
            "      (conv1): Conv2d(128, 128, kernel_size=(3, 3), stride=(1, 1), padding=(1, 1), bias=False)\n",
            "      (bn1): BatchNorm2d(128, eps=1e-05, momentum=0.1, affine=True, track_running_stats=True)\n",
            "      (relu): ReLU(inplace=True)\n",
            "      (conv2): Conv2d(128, 128, kernel_size=(3, 3), stride=(1, 1), padding=(1, 1), bias=False)\n",
            "      (bn2): BatchNorm2d(128, eps=1e-05, momentum=0.1, affine=True, track_running_stats=True)\n",
            "    )\n",
            "  )\n",
            "  (layer3): Sequential(\n",
            "    (0): BasicBlock(\n",
            "      (conv1): Conv2d(128, 256, kernel_size=(3, 3), stride=(2, 2), padding=(1, 1), bias=False)\n",
            "      (bn1): BatchNorm2d(256, eps=1e-05, momentum=0.1, affine=True, track_running_stats=True)\n",
            "      (relu): ReLU(inplace=True)\n",
            "      (conv2): Conv2d(256, 256, kernel_size=(3, 3), stride=(1, 1), padding=(1, 1), bias=False)\n",
            "      (bn2): BatchNorm2d(256, eps=1e-05, momentum=0.1, affine=True, track_running_stats=True)\n",
            "      (downsample): Sequential(\n",
            "        (0): Conv2d(128, 256, kernel_size=(1, 1), stride=(2, 2), bias=False)\n",
            "        (1): BatchNorm2d(256, eps=1e-05, momentum=0.1, affine=True, track_running_stats=True)\n",
            "      )\n",
            "    )\n",
            "    (1): BasicBlock(\n",
            "      (conv1): Conv2d(256, 256, kernel_size=(3, 3), stride=(1, 1), padding=(1, 1), bias=False)\n",
            "      (bn1): BatchNorm2d(256, eps=1e-05, momentum=0.1, affine=True, track_running_stats=True)\n",
            "      (relu): ReLU(inplace=True)\n",
            "      (conv2): Conv2d(256, 256, kernel_size=(3, 3), stride=(1, 1), padding=(1, 1), bias=False)\n",
            "      (bn2): BatchNorm2d(256, eps=1e-05, momentum=0.1, affine=True, track_running_stats=True)\n",
            "    )\n",
            "  )\n",
            "  (layer4): Sequential(\n",
            "    (0): BasicBlock(\n",
            "      (conv1): Conv2d(256, 512, kernel_size=(3, 3), stride=(2, 2), padding=(1, 1), bias=False)\n",
            "      (bn1): BatchNorm2d(512, eps=1e-05, momentum=0.1, affine=True, track_running_stats=True)\n",
            "      (relu): ReLU(inplace=True)\n",
            "      (conv2): Conv2d(512, 512, kernel_size=(3, 3), stride=(1, 1), padding=(1, 1), bias=False)\n",
            "      (bn2): BatchNorm2d(512, eps=1e-05, momentum=0.1, affine=True, track_running_stats=True)\n",
            "      (downsample): Sequential(\n",
            "        (0): Conv2d(256, 512, kernel_size=(1, 1), stride=(2, 2), bias=False)\n",
            "        (1): BatchNorm2d(512, eps=1e-05, momentum=0.1, affine=True, track_running_stats=True)\n",
            "      )\n",
            "    )\n",
            "    (1): BasicBlock(\n",
            "      (conv1): Conv2d(512, 512, kernel_size=(3, 3), stride=(1, 1), padding=(1, 1), bias=False)\n",
            "      (bn1): BatchNorm2d(512, eps=1e-05, momentum=0.1, affine=True, track_running_stats=True)\n",
            "      (relu): ReLU(inplace=True)\n",
            "      (conv2): Conv2d(512, 512, kernel_size=(3, 3), stride=(1, 1), padding=(1, 1), bias=False)\n",
            "      (bn2): BatchNorm2d(512, eps=1e-05, momentum=0.1, affine=True, track_running_stats=True)\n",
            "    )\n",
            "  )\n",
            "  (avgpool): AdaptiveAvgPool2d(output_size=(1, 1))\n",
            "  (fc): Linear(in_features=512, out_features=1000, bias=True)\n",
            ")\n"
          ],
          "name": "stdout"
        }
      ]
    },
    {
      "cell_type": "code",
      "metadata": {
        "id": "Ce3_k6uwnMlR"
      },
      "source": [
        "net.fc = torch.nn.Linear(in_features = 512, out_features=20)"
      ],
      "execution_count": null,
      "outputs": []
    },
    {
      "cell_type": "code",
      "metadata": {
        "colab": {
          "base_uri": "https://localhost:8080/"
        },
        "id": "5_yy2rkTnh72",
        "outputId": "32640341-d273-4935-ac8d-037a2341818d"
      },
      "source": [
        "print(net)"
      ],
      "execution_count": null,
      "outputs": [
        {
          "output_type": "stream",
          "text": [
            "ResNet(\n",
            "  (conv1): Conv2d(3, 64, kernel_size=(7, 7), stride=(2, 2), padding=(3, 3), bias=False)\n",
            "  (bn1): BatchNorm2d(64, eps=1e-05, momentum=0.1, affine=True, track_running_stats=True)\n",
            "  (relu): ReLU(inplace=True)\n",
            "  (maxpool): MaxPool2d(kernel_size=3, stride=2, padding=1, dilation=1, ceil_mode=False)\n",
            "  (layer1): Sequential(\n",
            "    (0): BasicBlock(\n",
            "      (conv1): Conv2d(64, 64, kernel_size=(3, 3), stride=(1, 1), padding=(1, 1), bias=False)\n",
            "      (bn1): BatchNorm2d(64, eps=1e-05, momentum=0.1, affine=True, track_running_stats=True)\n",
            "      (relu): ReLU(inplace=True)\n",
            "      (conv2): Conv2d(64, 64, kernel_size=(3, 3), stride=(1, 1), padding=(1, 1), bias=False)\n",
            "      (bn2): BatchNorm2d(64, eps=1e-05, momentum=0.1, affine=True, track_running_stats=True)\n",
            "    )\n",
            "    (1): BasicBlock(\n",
            "      (conv1): Conv2d(64, 64, kernel_size=(3, 3), stride=(1, 1), padding=(1, 1), bias=False)\n",
            "      (bn1): BatchNorm2d(64, eps=1e-05, momentum=0.1, affine=True, track_running_stats=True)\n",
            "      (relu): ReLU(inplace=True)\n",
            "      (conv2): Conv2d(64, 64, kernel_size=(3, 3), stride=(1, 1), padding=(1, 1), bias=False)\n",
            "      (bn2): BatchNorm2d(64, eps=1e-05, momentum=0.1, affine=True, track_running_stats=True)\n",
            "    )\n",
            "  )\n",
            "  (layer2): Sequential(\n",
            "    (0): BasicBlock(\n",
            "      (conv1): Conv2d(64, 128, kernel_size=(3, 3), stride=(2, 2), padding=(1, 1), bias=False)\n",
            "      (bn1): BatchNorm2d(128, eps=1e-05, momentum=0.1, affine=True, track_running_stats=True)\n",
            "      (relu): ReLU(inplace=True)\n",
            "      (conv2): Conv2d(128, 128, kernel_size=(3, 3), stride=(1, 1), padding=(1, 1), bias=False)\n",
            "      (bn2): BatchNorm2d(128, eps=1e-05, momentum=0.1, affine=True, track_running_stats=True)\n",
            "      (downsample): Sequential(\n",
            "        (0): Conv2d(64, 128, kernel_size=(1, 1), stride=(2, 2), bias=False)\n",
            "        (1): BatchNorm2d(128, eps=1e-05, momentum=0.1, affine=True, track_running_stats=True)\n",
            "      )\n",
            "    )\n",
            "    (1): BasicBlock(\n",
            "      (conv1): Conv2d(128, 128, kernel_size=(3, 3), stride=(1, 1), padding=(1, 1), bias=False)\n",
            "      (bn1): BatchNorm2d(128, eps=1e-05, momentum=0.1, affine=True, track_running_stats=True)\n",
            "      (relu): ReLU(inplace=True)\n",
            "      (conv2): Conv2d(128, 128, kernel_size=(3, 3), stride=(1, 1), padding=(1, 1), bias=False)\n",
            "      (bn2): BatchNorm2d(128, eps=1e-05, momentum=0.1, affine=True, track_running_stats=True)\n",
            "    )\n",
            "  )\n",
            "  (layer3): Sequential(\n",
            "    (0): BasicBlock(\n",
            "      (conv1): Conv2d(128, 256, kernel_size=(3, 3), stride=(2, 2), padding=(1, 1), bias=False)\n",
            "      (bn1): BatchNorm2d(256, eps=1e-05, momentum=0.1, affine=True, track_running_stats=True)\n",
            "      (relu): ReLU(inplace=True)\n",
            "      (conv2): Conv2d(256, 256, kernel_size=(3, 3), stride=(1, 1), padding=(1, 1), bias=False)\n",
            "      (bn2): BatchNorm2d(256, eps=1e-05, momentum=0.1, affine=True, track_running_stats=True)\n",
            "      (downsample): Sequential(\n",
            "        (0): Conv2d(128, 256, kernel_size=(1, 1), stride=(2, 2), bias=False)\n",
            "        (1): BatchNorm2d(256, eps=1e-05, momentum=0.1, affine=True, track_running_stats=True)\n",
            "      )\n",
            "    )\n",
            "    (1): BasicBlock(\n",
            "      (conv1): Conv2d(256, 256, kernel_size=(3, 3), stride=(1, 1), padding=(1, 1), bias=False)\n",
            "      (bn1): BatchNorm2d(256, eps=1e-05, momentum=0.1, affine=True, track_running_stats=True)\n",
            "      (relu): ReLU(inplace=True)\n",
            "      (conv2): Conv2d(256, 256, kernel_size=(3, 3), stride=(1, 1), padding=(1, 1), bias=False)\n",
            "      (bn2): BatchNorm2d(256, eps=1e-05, momentum=0.1, affine=True, track_running_stats=True)\n",
            "    )\n",
            "  )\n",
            "  (layer4): Sequential(\n",
            "    (0): BasicBlock(\n",
            "      (conv1): Conv2d(256, 512, kernel_size=(3, 3), stride=(2, 2), padding=(1, 1), bias=False)\n",
            "      (bn1): BatchNorm2d(512, eps=1e-05, momentum=0.1, affine=True, track_running_stats=True)\n",
            "      (relu): ReLU(inplace=True)\n",
            "      (conv2): Conv2d(512, 512, kernel_size=(3, 3), stride=(1, 1), padding=(1, 1), bias=False)\n",
            "      (bn2): BatchNorm2d(512, eps=1e-05, momentum=0.1, affine=True, track_running_stats=True)\n",
            "      (downsample): Sequential(\n",
            "        (0): Conv2d(256, 512, kernel_size=(1, 1), stride=(2, 2), bias=False)\n",
            "        (1): BatchNorm2d(512, eps=1e-05, momentum=0.1, affine=True, track_running_stats=True)\n",
            "      )\n",
            "    )\n",
            "    (1): BasicBlock(\n",
            "      (conv1): Conv2d(512, 512, kernel_size=(3, 3), stride=(1, 1), padding=(1, 1), bias=False)\n",
            "      (bn1): BatchNorm2d(512, eps=1e-05, momentum=0.1, affine=True, track_running_stats=True)\n",
            "      (relu): ReLU(inplace=True)\n",
            "      (conv2): Conv2d(512, 512, kernel_size=(3, 3), stride=(1, 1), padding=(1, 1), bias=False)\n",
            "      (bn2): BatchNorm2d(512, eps=1e-05, momentum=0.1, affine=True, track_running_stats=True)\n",
            "    )\n",
            "  )\n",
            "  (avgpool): AdaptiveAvgPool2d(output_size=(1, 1))\n",
            "  (fc): Linear(in_features=512, out_features=20, bias=True)\n",
            ")\n"
          ],
          "name": "stdout"
        }
      ]
    },
    {
      "cell_type": "code",
      "metadata": {
        "id": "H0zcltp7qamA"
      },
      "source": [
        "device = 'cuda:0'\n",
        "\n",
        "class Trainer(object):\n",
        "    def __init__(self, epochs, batch_size, lr):\n",
        "        self.epochs = epochs\n",
        "        self.batch_size = batch_size\n",
        "        self.learning_rate = lr\n",
        "        self._build_model()\n",
        "\n",
        "        self.dataset = ImgDataset(method='train')\n",
        "        self.root = self.dataset.root\n",
        "        self.dataloader = DataLoader(self.dataset, batch_size=self.batch_size, shuffle=True)\n",
        "\n",
        "        weight_PATH = self.root.split('/')\n",
        "        del weight_PATH[-1]\n",
        "        del weight_PATH[-1]\n",
        "        \n",
        "        self.weight_PATH = \"/\".join(weight_PATH)\n",
        "        self.weight_PATH = self.weight_PATH + \"/\"\n",
        "\n",
        "        # Load of pretrained_weight file\n",
        "        # weight_PATH = '/content/gdrive/My Drive/\n",
        "        # self.poseNet.load_state_dict(torch.load(weight_PATH))\n",
        "\n",
        "        print(\"Training...\")\n",
        "\n",
        "    def _build_model(self):\n",
        "        resnet = net\n",
        "        self.resnet = resnet.to(device)\n",
        "\n",
        "        print('Finish build model.')\n",
        "\n",
        "    def return_whole_training_img(self):\n",
        "        return self.dataset.return_whole()\n",
        "\n",
        "    def train(self):\n",
        "        date = '201205'\n",
        "\n",
        "        loss_func = torch.nn.CrossEntropyLoss()\n",
        "        #optimizer = torch.optim.Adam(self.resnet.parameters(), lr=self.learning_rate, betas=(0.9, 0.999), eps=1e-08)\n",
        "        optimizer = torch.optim.SGD(self.resnet.parameters(), lr=self.learning_rate)\n",
        "        #scheduler = lr_scheduler.ExponentialLR(optimizer, gamma = 0.99)\n",
        "\n",
        "        self.losses = []\n",
        "        for epoch in tqdm.tqdm(range(self.epochs + 1)):\n",
        "            train_loss = 0\n",
        "            if epoch == self.epochs:\n",
        "                 torch.save(self.resnet.state_dict(), \"\".join([self.weight_PATH,'modelweight.pth']))\n",
        "\n",
        "            for batch_idx, samples in enumerate(self.dataloader):\n",
        "                optimizer.zero_grad()\n",
        "                x_train, y_train = samples\n",
        "                result_resnet = self.resnet(x_train.cuda()).cpu()\n",
        "\n",
        "                loss = loss_func(result_resnet, y_train)\n",
        "                train_loss += loss\n",
        "                loss.backward()\n",
        "                optimizer.step()\n",
        "\n",
        "                # Write train result\n",
        "                if batch_idx % self.batch_size == 0:\n",
        "                    with open('train_result_' + date + '.txt', 'a') as f:\n",
        "                        f.write('Epoch {:4d}/{} Batch {}/{}\\n'.format(\n",
        "                            epoch, self.epochs, batch_idx, len(self.dataloader)\n",
        "                        ))\n",
        "                    print('Epoch {:4d}/{} Batch {}/{}'.format(\n",
        "                        epoch, self.epochs, batch_idx, len(self.dataloader)\n",
        "                    ))\n",
        "            #scheduler.step()\n",
        "            self.losses.append(train_loss.item())\n",
        "\n",
        "\n",
        "        print('Finish training.\\n')\n",
        "    \n",
        "class Tester(object):\n",
        "    def __init__(self, batch_size):\n",
        "        self.batch_size = batch_size\n",
        "        self._build_model()\n",
        "\n",
        "        dataset = ImgDataset(method='test')\n",
        "        self.root = dataset.root\n",
        "        self.dataloader = DataLoader(dataset, batch_size=self.batch_size, shuffle=False)\n",
        "        self.datalen = dataset.__len__()\n",
        "        self.correct = 0\n",
        "\n",
        "        # load the weight\n",
        "        weight_PATH = '/content/gdrive/My Drive/modelweight.pth'\n",
        "        self.resnet.load_state_dict(torch.load(weight_PATH))\n",
        "\n",
        "        print(\"Testing...\")\n",
        "\n",
        "    def _build_model(self):\n",
        "        resnet = net\n",
        "        self.resnet = resnet.to(device)\n",
        "\n",
        "        print('Finish build model.')\n",
        "\n",
        "    def test(self):\n",
        "        for batch_idx, samples in enumerate(self.dataloader):\n",
        "            x_test, y_test = samples\n",
        "            result_resnet = self.resnet(x_test.cuda()).cpu().detach().numpy()\n",
        "        \n",
        "            # for each img, call calc_error()\n",
        "            total = self.datalen\n",
        "\n",
        "\n",
        "            #soft_func = nn.Softmax(dim=1)\n",
        "            #output = soft_func(torch.FloatTensor(result_resnet))\n",
        "            for i in range(self.batch_size):\n",
        "              res = np.argmax(result_resnet[i])\n",
        "              if res == y_test[i]:\n",
        "                self.correct+=1\n",
        "            \n",
        "        print('total : ', total)\n",
        "        print(\"Accuracy %f\" %(self.correct/total))\n",
        "                \n",
        "# torch.cuda.isavailable"
      ],
      "execution_count": null,
      "outputs": []
    },
    {
      "cell_type": "code",
      "metadata": {
        "id": "4dzfE5Yud9wc"
      },
      "source": [
        "class Cross_Validator(object):\n",
        "    def __init__(self, epochs, batch_size, learning_rate, x_data, y_data):\n",
        "        self.batch_size = batch_size\n",
        "        #self.epochs = epochs\n",
        "        self._build_model()\n",
        "        self.learning_rate = learning_rate\n",
        "        self.correct = 0\n",
        "        self.validation_loss = []\n",
        "        self.loss = 0\n",
        "        self.x_data = x_data\n",
        "        self.y_data = y_data\n",
        "\n",
        "        self.weight_PATH = '/content/gdrive/My Drive/'\n",
        "        print(\"Validating...\")\n",
        "\n",
        "    def _build_model(self):\n",
        "        resnet = net\n",
        "        self.resnet = resnet.to(device)\n",
        "        print('Finish build model.')\n",
        "\n",
        "    def train(self):\n",
        "        loss_func = torch.nn.CrossEntropyLoss()\n",
        "        optimizer = torch.optim.SGD(self.resnet.parameters(), lr=self.learning_rate)\n",
        "        self.losses = []\n",
        "\n",
        "        iteration = len(self.x_data) // self.batch_size              \n",
        "\n",
        "        idx = 0\n",
        "        train_loss = 0\n",
        "        for p in range(iteration):\n",
        "            optimizer.zero_grad()\n",
        "            x_mini_batch = np.full((self.batch_size, 3, 224, 224), 0, dtype=np.float32)\n",
        "            y_mini_batch = np.full((self.batch_size), 0, dtype=np.int_)\n",
        "\n",
        "            for q in range(self.batch_size):\n",
        "                x_mini_batch[q] = self.x_data[idx].detach().cpu().numpy()\n",
        "                y_mini_batch[q] = self.y_data[idx]\n",
        "                idx+=1\n",
        "\n",
        "            result_resnet = self.resnet(torch.from_numpy(x_mini_batch).cuda()).cpu()\n",
        "         \n",
        "            loss = loss_func(result_resnet, torch.from_numpy(y_mini_batch))\n",
        "\n",
        "            loss.backward()\n",
        "            optimizer.step()\n",
        "            train_loss += loss.item()\n",
        "            \n",
        "        self.losses.append(train_loss)\n",
        "\n",
        "        #plt.plot(self.losses)\n",
        "        #plt.xlabel('epoch')\n",
        "        #plt.ylabel('Validation Loss While training')\n",
        "        #plt.show()\n",
        "\n",
        "        torch.save(self.resnet.state_dict(), \"\".join([self.weight_PATH,'cross_validation_param.pth']))\n",
        "        \n",
        "\n",
        "    def validate(self):\n",
        "        self.resnet.load_state_dict(torch.load(self.weight_PATH + 'cross_validation_param.pth'))\n",
        "\n",
        "        loss_func = torch.nn.CrossEntropyLoss()\n",
        "        optimizer = torch.optim.SGD(self.resnet.parameters(), lr=self.learning_rate)\n",
        "       \n",
        "        validation_loss = 0\n",
        "        iteration = len(self.x_data) // self.batch_size\n",
        "        idx = 0\n",
        "\n",
        "        for p in range(iteration):\n",
        "            x_mini_batch = np.full((self.batch_size, 3, 224, 224), 0, dtype=np.float32)\n",
        "            y_mini_batch = np.full((self.batch_size), 0, dtype=np.int_)\n",
        "\n",
        "            for q in range(self.batch_size):\n",
        "                x_mini_batch[q] = self.x_data[idx].detach().cpu().numpy()\n",
        "                y_mini_batch[q] = self.y_data[idx]\n",
        "                idx+=1\n",
        "\n",
        "            result_resnet = self.resnet(torch.from_numpy(x_mini_batch).cuda()).cpu()\n",
        "            loss = loss_func(result_resnet, torch.from_numpy(y_mini_batch))\n",
        "            validation_loss += loss.item()\n",
        "        \n",
        "\n",
        "        print('validation loss in this fold: ', validation_loss)\n",
        "        self.loss = validation_loss\n",
        "        "
      ],
      "execution_count": null,
      "outputs": []
    },
    {
      "cell_type": "code",
      "metadata": {
        "colab": {
          "base_uri": "https://localhost:8080/"
        },
        "id": "zTZWhweNr2Kr",
        "outputId": "cabe01be-231b-4bf9-a191-e667aeb5d3f7"
      },
      "source": [
        "def main():\n",
        "\n",
        "    batchSize_candidate = [100,50,20,10] \n",
        "    learningRate_candidate = [1e-3,1e-2,1e-1]\n",
        "\n",
        "    epochs_ = 200\n",
        "    batchSize_ = 20\n",
        "    learningRate_ = 1e-2\n",
        "\n",
        "    trainer = Trainer(epochs_, batchSize_, learningRate_)\n",
        "    #trainer.train()\n",
        "\n",
        "    #tester = Tester(batchSize_)\n",
        "    #tester.test()\n",
        "\n",
        "'''\n",
        "    for batchSize in batchSize_candidate:\n",
        "      for learningRate in learningRate_candidate:\n",
        "          x_data, y_data = trainer.return_whole_training_img()\n",
        "\n",
        "          validation_loss = 0\n",
        "          skf = StratifiedKFold(n_splits=6)\n",
        "          for train_index, validate_index in skf.split(x_data, y_data): \n",
        "              cross_train_x = []\n",
        "              cross_train_y = []\n",
        "              cross_validate_x = []\n",
        "              cross_validate_y = []\n",
        " \n",
        "              for i in train_index:\n",
        "                  cross_train_x.append(x_data[i])\n",
        "                  cross_train_y.append(y_data[i])\n",
        "              for j in validate_index:\n",
        "                  cross_validate_x.append(x_data[j])\n",
        "                  cross_validate_y.append(y_data[j])\n",
        "\n",
        "              cross_trainer = Cross_Validator(1, batchSize, learningRate, cross_train_x, cross_train_y)\n",
        "              cross_trainer.train()\n",
        "              cross_validator = Cross_Validator(1, batchSize, learningRate, cross_validate_x, cross_validate_y)\n",
        "              cross_validator.validate()\n",
        "\n",
        "              validation_loss += cross_validator.loss\n",
        "\n",
        "          print('batchsize: %d, learning rate: %f' %(batchSize, learningRate))\n",
        "          print('Average loss in the 6-fold cross validation: ', validation_loss/ 5)\n",
        "'''\n",
        "\n",
        "if __name__ == '__main__':\n",
        "    main()"
      ],
      "execution_count": null,
      "outputs": [
        {
          "output_type": "stream",
          "text": [
            " 10%|█         | 2/20 [00:00<00:01, 12.27it/s]"
          ],
          "name": "stderr"
        },
        {
          "output_type": "stream",
          "text": [
            "Finish build model.\n"
          ],
          "name": "stdout"
        },
        {
          "output_type": "stream",
          "text": [
            "100%|██████████| 20/20 [00:01<00:00, 10.52it/s]\n",
            "  0%|          | 0/201 [00:00<?, ?it/s]"
          ],
          "name": "stderr"
        },
        {
          "output_type": "stream",
          "text": [
            "Training...\n",
            "Epoch    0/200 Batch 0/30\n",
            "Epoch    0/200 Batch 20/30\n"
          ],
          "name": "stdout"
        },
        {
          "output_type": "stream",
          "text": [
            "\r  0%|          | 1/201 [00:01<06:39,  2.00s/it]"
          ],
          "name": "stderr"
        },
        {
          "output_type": "stream",
          "text": [
            "Epoch    1/200 Batch 0/30\n",
            "Epoch    1/200 Batch 20/30\n"
          ],
          "name": "stdout"
        },
        {
          "output_type": "stream",
          "text": [
            "\r  1%|          | 2/201 [00:03<06:35,  1.99s/it]"
          ],
          "name": "stderr"
        },
        {
          "output_type": "stream",
          "text": [
            "Epoch    2/200 Batch 0/30\n",
            "Epoch    2/200 Batch 20/30\n"
          ],
          "name": "stdout"
        },
        {
          "output_type": "stream",
          "text": [
            "\r  1%|▏         | 3/201 [00:05<06:29,  1.97s/it]"
          ],
          "name": "stderr"
        },
        {
          "output_type": "stream",
          "text": [
            "Epoch    3/200 Batch 0/30\n",
            "Epoch    3/200 Batch 20/30\n"
          ],
          "name": "stdout"
        },
        {
          "output_type": "stream",
          "text": [
            "\r  2%|▏         | 4/201 [00:07<06:26,  1.96s/it]"
          ],
          "name": "stderr"
        },
        {
          "output_type": "stream",
          "text": [
            "Epoch    4/200 Batch 0/30\n",
            "Epoch    4/200 Batch 20/30\n"
          ],
          "name": "stdout"
        },
        {
          "output_type": "stream",
          "text": [
            "\r  2%|▏         | 5/201 [00:09<06:24,  1.96s/it]"
          ],
          "name": "stderr"
        },
        {
          "output_type": "stream",
          "text": [
            "Epoch    5/200 Batch 0/30\n",
            "Epoch    5/200 Batch 20/30\n"
          ],
          "name": "stdout"
        },
        {
          "output_type": "stream",
          "text": [
            "\r  3%|▎         | 6/201 [00:11<06:20,  1.95s/it]"
          ],
          "name": "stderr"
        },
        {
          "output_type": "stream",
          "text": [
            "Epoch    6/200 Batch 0/30\n",
            "Epoch    6/200 Batch 20/30\n"
          ],
          "name": "stdout"
        },
        {
          "output_type": "stream",
          "text": [
            "\r  3%|▎         | 7/201 [00:13<06:18,  1.95s/it]"
          ],
          "name": "stderr"
        },
        {
          "output_type": "stream",
          "text": [
            "Epoch    7/200 Batch 0/30\n",
            "Epoch    7/200 Batch 20/30\n"
          ],
          "name": "stdout"
        },
        {
          "output_type": "stream",
          "text": [
            "\r  4%|▍         | 8/201 [00:15<06:16,  1.95s/it]"
          ],
          "name": "stderr"
        },
        {
          "output_type": "stream",
          "text": [
            "Epoch    8/200 Batch 0/30\n",
            "Epoch    8/200 Batch 20/30\n"
          ],
          "name": "stdout"
        },
        {
          "output_type": "stream",
          "text": [
            "\r  4%|▍         | 9/201 [00:17<06:14,  1.95s/it]"
          ],
          "name": "stderr"
        },
        {
          "output_type": "stream",
          "text": [
            "Epoch    9/200 Batch 0/30\n",
            "Epoch    9/200 Batch 20/30\n"
          ],
          "name": "stdout"
        },
        {
          "output_type": "stream",
          "text": [
            "\r  5%|▍         | 10/201 [00:19<06:12,  1.95s/it]"
          ],
          "name": "stderr"
        },
        {
          "output_type": "stream",
          "text": [
            "Epoch   10/200 Batch 0/30\n",
            "Epoch   10/200 Batch 20/30\n"
          ],
          "name": "stdout"
        },
        {
          "output_type": "stream",
          "text": [
            "\r  5%|▌         | 11/201 [00:21<06:10,  1.95s/it]"
          ],
          "name": "stderr"
        },
        {
          "output_type": "stream",
          "text": [
            "Epoch   11/200 Batch 0/30\n",
            "Epoch   11/200 Batch 20/30\n"
          ],
          "name": "stdout"
        },
        {
          "output_type": "stream",
          "text": [
            "\r  6%|▌         | 12/201 [00:23<06:07,  1.95s/it]"
          ],
          "name": "stderr"
        },
        {
          "output_type": "stream",
          "text": [
            "Epoch   12/200 Batch 0/30\n",
            "Epoch   12/200 Batch 20/30\n"
          ],
          "name": "stdout"
        },
        {
          "output_type": "stream",
          "text": [
            "\r  6%|▋         | 13/201 [00:25<06:05,  1.94s/it]"
          ],
          "name": "stderr"
        },
        {
          "output_type": "stream",
          "text": [
            "Epoch   13/200 Batch 0/30\n",
            "Epoch   13/200 Batch 20/30\n"
          ],
          "name": "stdout"
        },
        {
          "output_type": "stream",
          "text": [
            "\r  7%|▋         | 14/201 [00:27<06:03,  1.95s/it]"
          ],
          "name": "stderr"
        },
        {
          "output_type": "stream",
          "text": [
            "Epoch   14/200 Batch 0/30\n",
            "Epoch   14/200 Batch 20/30\n"
          ],
          "name": "stdout"
        },
        {
          "output_type": "stream",
          "text": [
            "\r  7%|▋         | 15/201 [00:29<06:02,  1.95s/it]"
          ],
          "name": "stderr"
        },
        {
          "output_type": "stream",
          "text": [
            "Epoch   15/200 Batch 0/30\n",
            "Epoch   15/200 Batch 20/30\n"
          ],
          "name": "stdout"
        },
        {
          "output_type": "stream",
          "text": [
            "\r  8%|▊         | 16/201 [00:31<06:00,  1.95s/it]"
          ],
          "name": "stderr"
        },
        {
          "output_type": "stream",
          "text": [
            "Epoch   16/200 Batch 0/30\n",
            "Epoch   16/200 Batch 20/30\n"
          ],
          "name": "stdout"
        },
        {
          "output_type": "stream",
          "text": [
            "\r  8%|▊         | 17/201 [00:33<05:58,  1.95s/it]"
          ],
          "name": "stderr"
        },
        {
          "output_type": "stream",
          "text": [
            "Epoch   17/200 Batch 0/30\n",
            "Epoch   17/200 Batch 20/30\n"
          ],
          "name": "stdout"
        },
        {
          "output_type": "stream",
          "text": [
            "\r  9%|▉         | 18/201 [00:35<05:56,  1.95s/it]"
          ],
          "name": "stderr"
        },
        {
          "output_type": "stream",
          "text": [
            "Epoch   18/200 Batch 0/30\n",
            "Epoch   18/200 Batch 20/30\n"
          ],
          "name": "stdout"
        },
        {
          "output_type": "stream",
          "text": [
            "\r  9%|▉         | 19/201 [00:37<05:53,  1.94s/it]"
          ],
          "name": "stderr"
        },
        {
          "output_type": "stream",
          "text": [
            "Epoch   19/200 Batch 0/30\n",
            "Epoch   19/200 Batch 20/30\n"
          ],
          "name": "stdout"
        },
        {
          "output_type": "stream",
          "text": [
            "\r 10%|▉         | 20/201 [00:38<05:51,  1.94s/it]"
          ],
          "name": "stderr"
        },
        {
          "output_type": "stream",
          "text": [
            "Epoch   20/200 Batch 0/30\n",
            "Epoch   20/200 Batch 20/30\n"
          ],
          "name": "stdout"
        },
        {
          "output_type": "stream",
          "text": [
            "\r 10%|█         | 21/201 [00:40<05:48,  1.94s/it]"
          ],
          "name": "stderr"
        },
        {
          "output_type": "stream",
          "text": [
            "Epoch   21/200 Batch 0/30\n",
            "Epoch   21/200 Batch 20/30\n"
          ],
          "name": "stdout"
        },
        {
          "output_type": "stream",
          "text": [
            "\r 11%|█         | 22/201 [00:42<05:47,  1.94s/it]"
          ],
          "name": "stderr"
        },
        {
          "output_type": "stream",
          "text": [
            "Epoch   22/200 Batch 0/30\n",
            "Epoch   22/200 Batch 20/30\n"
          ],
          "name": "stdout"
        },
        {
          "output_type": "stream",
          "text": [
            "\r 11%|█▏        | 23/201 [00:44<05:44,  1.94s/it]"
          ],
          "name": "stderr"
        },
        {
          "output_type": "stream",
          "text": [
            "Epoch   23/200 Batch 0/30\n",
            "Epoch   23/200 Batch 20/30\n"
          ],
          "name": "stdout"
        },
        {
          "output_type": "stream",
          "text": [
            "\r 12%|█▏        | 24/201 [00:46<05:42,  1.94s/it]"
          ],
          "name": "stderr"
        },
        {
          "output_type": "stream",
          "text": [
            "Epoch   24/200 Batch 0/30\n",
            "Epoch   24/200 Batch 20/30\n"
          ],
          "name": "stdout"
        },
        {
          "output_type": "stream",
          "text": [
            "\r 12%|█▏        | 25/201 [00:48<05:40,  1.94s/it]"
          ],
          "name": "stderr"
        },
        {
          "output_type": "stream",
          "text": [
            "Epoch   25/200 Batch 0/30\n",
            "Epoch   25/200 Batch 20/30\n"
          ],
          "name": "stdout"
        },
        {
          "output_type": "stream",
          "text": [
            "\r 13%|█▎        | 26/201 [00:50<05:38,  1.93s/it]"
          ],
          "name": "stderr"
        },
        {
          "output_type": "stream",
          "text": [
            "Epoch   26/200 Batch 0/30\n",
            "Epoch   26/200 Batch 20/30\n"
          ],
          "name": "stdout"
        },
        {
          "output_type": "stream",
          "text": [
            "\r 13%|█▎        | 27/201 [00:52<05:37,  1.94s/it]"
          ],
          "name": "stderr"
        },
        {
          "output_type": "stream",
          "text": [
            "Epoch   27/200 Batch 0/30\n",
            "Epoch   27/200 Batch 20/30\n"
          ],
          "name": "stdout"
        },
        {
          "output_type": "stream",
          "text": [
            "\r 14%|█▍        | 28/201 [00:54<05:35,  1.94s/it]"
          ],
          "name": "stderr"
        },
        {
          "output_type": "stream",
          "text": [
            "Epoch   28/200 Batch 0/30\n",
            "Epoch   28/200 Batch 20/30\n"
          ],
          "name": "stdout"
        },
        {
          "output_type": "stream",
          "text": [
            "\r 14%|█▍        | 29/201 [00:56<05:33,  1.94s/it]"
          ],
          "name": "stderr"
        },
        {
          "output_type": "stream",
          "text": [
            "Epoch   29/200 Batch 0/30\n",
            "Epoch   29/200 Batch 20/30\n"
          ],
          "name": "stdout"
        },
        {
          "output_type": "stream",
          "text": [
            "\r 15%|█▍        | 30/201 [00:58<05:32,  1.94s/it]"
          ],
          "name": "stderr"
        },
        {
          "output_type": "stream",
          "text": [
            "Epoch   30/200 Batch 0/30\n",
            "Epoch   30/200 Batch 20/30\n"
          ],
          "name": "stdout"
        },
        {
          "output_type": "stream",
          "text": [
            "\r 15%|█▌        | 31/201 [01:00<05:32,  1.95s/it]"
          ],
          "name": "stderr"
        },
        {
          "output_type": "stream",
          "text": [
            "Epoch   31/200 Batch 0/30\n",
            "Epoch   31/200 Batch 20/30\n"
          ],
          "name": "stdout"
        },
        {
          "output_type": "stream",
          "text": [
            "\r 16%|█▌        | 32/201 [01:02<05:30,  1.95s/it]"
          ],
          "name": "stderr"
        },
        {
          "output_type": "stream",
          "text": [
            "Epoch   32/200 Batch 0/30\n",
            "Epoch   32/200 Batch 20/30\n"
          ],
          "name": "stdout"
        },
        {
          "output_type": "stream",
          "text": [
            "\r 16%|█▋        | 33/201 [01:04<05:29,  1.96s/it]"
          ],
          "name": "stderr"
        },
        {
          "output_type": "stream",
          "text": [
            "Epoch   33/200 Batch 0/30\n",
            "Epoch   33/200 Batch 20/30\n"
          ],
          "name": "stdout"
        },
        {
          "output_type": "stream",
          "text": [
            "\r 17%|█▋        | 34/201 [01:06<05:26,  1.96s/it]"
          ],
          "name": "stderr"
        },
        {
          "output_type": "stream",
          "text": [
            "Epoch   34/200 Batch 0/30\n",
            "Epoch   34/200 Batch 20/30\n"
          ],
          "name": "stdout"
        },
        {
          "output_type": "stream",
          "text": [
            "\r 17%|█▋        | 35/201 [01:08<05:23,  1.95s/it]"
          ],
          "name": "stderr"
        },
        {
          "output_type": "stream",
          "text": [
            "Epoch   35/200 Batch 0/30\n",
            "Epoch   35/200 Batch 20/30\n"
          ],
          "name": "stdout"
        },
        {
          "output_type": "stream",
          "text": [
            "\r 18%|█▊        | 36/201 [01:10<05:20,  1.94s/it]"
          ],
          "name": "stderr"
        },
        {
          "output_type": "stream",
          "text": [
            "Epoch   36/200 Batch 0/30\n",
            "Epoch   36/200 Batch 20/30\n"
          ],
          "name": "stdout"
        },
        {
          "output_type": "stream",
          "text": [
            "\r 18%|█▊        | 37/201 [01:11<05:17,  1.94s/it]"
          ],
          "name": "stderr"
        },
        {
          "output_type": "stream",
          "text": [
            "Epoch   37/200 Batch 0/30\n",
            "Epoch   37/200 Batch 20/30\n"
          ],
          "name": "stdout"
        },
        {
          "output_type": "stream",
          "text": [
            "\r 19%|█▉        | 38/201 [01:13<05:15,  1.94s/it]"
          ],
          "name": "stderr"
        },
        {
          "output_type": "stream",
          "text": [
            "Epoch   38/200 Batch 0/30\n",
            "Epoch   38/200 Batch 20/30\n"
          ],
          "name": "stdout"
        },
        {
          "output_type": "stream",
          "text": [
            "\r 19%|█▉        | 39/201 [01:15<05:14,  1.94s/it]"
          ],
          "name": "stderr"
        },
        {
          "output_type": "stream",
          "text": [
            "Epoch   39/200 Batch 0/30\n",
            "Epoch   39/200 Batch 20/30\n"
          ],
          "name": "stdout"
        },
        {
          "output_type": "stream",
          "text": [
            "\r 20%|█▉        | 40/201 [01:17<05:11,  1.94s/it]"
          ],
          "name": "stderr"
        },
        {
          "output_type": "stream",
          "text": [
            "Epoch   40/200 Batch 0/30\n",
            "Epoch   40/200 Batch 20/30\n"
          ],
          "name": "stdout"
        },
        {
          "output_type": "stream",
          "text": [
            "\r 20%|██        | 41/201 [01:19<05:10,  1.94s/it]"
          ],
          "name": "stderr"
        },
        {
          "output_type": "stream",
          "text": [
            "Epoch   41/200 Batch 0/30\n",
            "Epoch   41/200 Batch 20/30\n"
          ],
          "name": "stdout"
        },
        {
          "output_type": "stream",
          "text": [
            "\r 21%|██        | 42/201 [01:21<05:07,  1.93s/it]"
          ],
          "name": "stderr"
        },
        {
          "output_type": "stream",
          "text": [
            "Epoch   42/200 Batch 0/30\n",
            "Epoch   42/200 Batch 20/30\n"
          ],
          "name": "stdout"
        },
        {
          "output_type": "stream",
          "text": [
            "\r 21%|██▏       | 43/201 [01:23<05:05,  1.93s/it]"
          ],
          "name": "stderr"
        },
        {
          "output_type": "stream",
          "text": [
            "Epoch   43/200 Batch 0/30\n",
            "Epoch   43/200 Batch 20/30\n"
          ],
          "name": "stdout"
        },
        {
          "output_type": "stream",
          "text": [
            "\r 22%|██▏       | 44/201 [01:25<05:03,  1.93s/it]"
          ],
          "name": "stderr"
        },
        {
          "output_type": "stream",
          "text": [
            "Epoch   44/200 Batch 0/30\n",
            "Epoch   44/200 Batch 20/30\n"
          ],
          "name": "stdout"
        },
        {
          "output_type": "stream",
          "text": [
            "\r 22%|██▏       | 45/201 [01:27<05:00,  1.93s/it]"
          ],
          "name": "stderr"
        },
        {
          "output_type": "stream",
          "text": [
            "Epoch   45/200 Batch 0/30\n",
            "Epoch   45/200 Batch 20/30\n"
          ],
          "name": "stdout"
        },
        {
          "output_type": "stream",
          "text": [
            "\r 23%|██▎       | 46/201 [01:29<04:59,  1.93s/it]"
          ],
          "name": "stderr"
        },
        {
          "output_type": "stream",
          "text": [
            "Epoch   46/200 Batch 0/30\n",
            "Epoch   46/200 Batch 20/30\n"
          ],
          "name": "stdout"
        },
        {
          "output_type": "stream",
          "text": [
            "\r 23%|██▎       | 47/201 [01:31<04:58,  1.94s/it]"
          ],
          "name": "stderr"
        },
        {
          "output_type": "stream",
          "text": [
            "Epoch   47/200 Batch 0/30\n",
            "Epoch   47/200 Batch 20/30\n"
          ],
          "name": "stdout"
        },
        {
          "output_type": "stream",
          "text": [
            "\r 24%|██▍       | 48/201 [01:33<04:57,  1.94s/it]"
          ],
          "name": "stderr"
        },
        {
          "output_type": "stream",
          "text": [
            "Epoch   48/200 Batch 0/30\n",
            "Epoch   48/200 Batch 20/30\n"
          ],
          "name": "stdout"
        },
        {
          "output_type": "stream",
          "text": [
            "\r 24%|██▍       | 49/201 [01:35<04:54,  1.94s/it]"
          ],
          "name": "stderr"
        },
        {
          "output_type": "stream",
          "text": [
            "Epoch   49/200 Batch 0/30\n",
            "Epoch   49/200 Batch 20/30\n"
          ],
          "name": "stdout"
        },
        {
          "output_type": "stream",
          "text": [
            "\r 25%|██▍       | 50/201 [01:37<04:52,  1.94s/it]"
          ],
          "name": "stderr"
        },
        {
          "output_type": "stream",
          "text": [
            "Epoch   50/200 Batch 0/30\n",
            "Epoch   50/200 Batch 20/30\n"
          ],
          "name": "stdout"
        },
        {
          "output_type": "stream",
          "text": [
            "\r 25%|██▌       | 51/201 [01:39<04:50,  1.94s/it]"
          ],
          "name": "stderr"
        },
        {
          "output_type": "stream",
          "text": [
            "Epoch   51/200 Batch 0/30\n",
            "Epoch   51/200 Batch 20/30\n"
          ],
          "name": "stdout"
        },
        {
          "output_type": "stream",
          "text": [
            "\r 26%|██▌       | 52/201 [01:41<04:48,  1.94s/it]"
          ],
          "name": "stderr"
        },
        {
          "output_type": "stream",
          "text": [
            "Epoch   52/200 Batch 0/30\n",
            "Epoch   52/200 Batch 20/30\n"
          ],
          "name": "stdout"
        },
        {
          "output_type": "stream",
          "text": [
            "\r 26%|██▋       | 53/201 [01:42<04:46,  1.94s/it]"
          ],
          "name": "stderr"
        },
        {
          "output_type": "stream",
          "text": [
            "Epoch   53/200 Batch 0/30\n",
            "Epoch   53/200 Batch 20/30\n"
          ],
          "name": "stdout"
        },
        {
          "output_type": "stream",
          "text": [
            "\r 27%|██▋       | 54/201 [01:44<04:44,  1.94s/it]"
          ],
          "name": "stderr"
        },
        {
          "output_type": "stream",
          "text": [
            "Epoch   54/200 Batch 0/30\n",
            "Epoch   54/200 Batch 20/30\n"
          ],
          "name": "stdout"
        },
        {
          "output_type": "stream",
          "text": [
            "\r 27%|██▋       | 55/201 [01:46<04:43,  1.94s/it]"
          ],
          "name": "stderr"
        },
        {
          "output_type": "stream",
          "text": [
            "Epoch   55/200 Batch 0/30\n",
            "Epoch   55/200 Batch 20/30\n"
          ],
          "name": "stdout"
        },
        {
          "output_type": "stream",
          "text": [
            "\r 28%|██▊       | 56/201 [01:48<04:42,  1.95s/it]"
          ],
          "name": "stderr"
        },
        {
          "output_type": "stream",
          "text": [
            "Epoch   56/200 Batch 0/30\n",
            "Epoch   56/200 Batch 20/30\n"
          ],
          "name": "stdout"
        },
        {
          "output_type": "stream",
          "text": [
            "\r 28%|██▊       | 57/201 [01:50<04:40,  1.94s/it]"
          ],
          "name": "stderr"
        },
        {
          "output_type": "stream",
          "text": [
            "Epoch   57/200 Batch 0/30\n",
            "Epoch   57/200 Batch 20/30\n"
          ],
          "name": "stdout"
        },
        {
          "output_type": "stream",
          "text": [
            "\r 29%|██▉       | 58/201 [01:52<04:37,  1.94s/it]"
          ],
          "name": "stderr"
        },
        {
          "output_type": "stream",
          "text": [
            "Epoch   58/200 Batch 0/30\n",
            "Epoch   58/200 Batch 20/30\n"
          ],
          "name": "stdout"
        },
        {
          "output_type": "stream",
          "text": [
            "\r 29%|██▉       | 59/201 [01:54<04:35,  1.94s/it]"
          ],
          "name": "stderr"
        },
        {
          "output_type": "stream",
          "text": [
            "Epoch   59/200 Batch 0/30\n",
            "Epoch   59/200 Batch 20/30\n"
          ],
          "name": "stdout"
        },
        {
          "output_type": "stream",
          "text": [
            "\r 30%|██▉       | 60/201 [01:56<04:33,  1.94s/it]"
          ],
          "name": "stderr"
        },
        {
          "output_type": "stream",
          "text": [
            "Epoch   60/200 Batch 0/30\n",
            "Epoch   60/200 Batch 20/30\n"
          ],
          "name": "stdout"
        },
        {
          "output_type": "stream",
          "text": [
            "\r 30%|███       | 61/201 [01:58<04:31,  1.94s/it]"
          ],
          "name": "stderr"
        },
        {
          "output_type": "stream",
          "text": [
            "Epoch   61/200 Batch 0/30\n",
            "Epoch   61/200 Batch 20/30\n"
          ],
          "name": "stdout"
        },
        {
          "output_type": "stream",
          "text": [
            "\r 31%|███       | 62/201 [02:00<04:29,  1.94s/it]"
          ],
          "name": "stderr"
        },
        {
          "output_type": "stream",
          "text": [
            "Epoch   62/200 Batch 0/30\n",
            "Epoch   62/200 Batch 20/30\n"
          ],
          "name": "stdout"
        },
        {
          "output_type": "stream",
          "text": [
            "\r 31%|███▏      | 63/201 [02:02<04:27,  1.94s/it]"
          ],
          "name": "stderr"
        },
        {
          "output_type": "stream",
          "text": [
            "Epoch   63/200 Batch 0/30\n",
            "Epoch   63/200 Batch 20/30\n"
          ],
          "name": "stdout"
        },
        {
          "output_type": "stream",
          "text": [
            "\r 32%|███▏      | 64/201 [02:04<04:25,  1.94s/it]"
          ],
          "name": "stderr"
        },
        {
          "output_type": "stream",
          "text": [
            "Epoch   64/200 Batch 0/30\n",
            "Epoch   64/200 Batch 20/30\n"
          ],
          "name": "stdout"
        },
        {
          "output_type": "stream",
          "text": [
            "\r 32%|███▏      | 65/201 [02:06<04:24,  1.94s/it]"
          ],
          "name": "stderr"
        },
        {
          "output_type": "stream",
          "text": [
            "Epoch   65/200 Batch 0/30\n",
            "Epoch   65/200 Batch 20/30\n"
          ],
          "name": "stdout"
        },
        {
          "output_type": "stream",
          "text": [
            "\r 33%|███▎      | 66/201 [02:08<04:22,  1.95s/it]"
          ],
          "name": "stderr"
        },
        {
          "output_type": "stream",
          "text": [
            "Epoch   66/200 Batch 0/30\n",
            "Epoch   66/200 Batch 20/30\n"
          ],
          "name": "stdout"
        },
        {
          "output_type": "stream",
          "text": [
            "\r 33%|███▎      | 67/201 [02:10<04:19,  1.94s/it]"
          ],
          "name": "stderr"
        },
        {
          "output_type": "stream",
          "text": [
            "Epoch   67/200 Batch 0/30\n",
            "Epoch   67/200 Batch 20/30\n"
          ],
          "name": "stdout"
        },
        {
          "output_type": "stream",
          "text": [
            "\r 34%|███▍      | 68/201 [02:12<04:17,  1.94s/it]"
          ],
          "name": "stderr"
        },
        {
          "output_type": "stream",
          "text": [
            "Epoch   68/200 Batch 0/30\n",
            "Epoch   68/200 Batch 20/30\n"
          ],
          "name": "stdout"
        },
        {
          "output_type": "stream",
          "text": [
            "\r 34%|███▍      | 69/201 [02:14<04:15,  1.94s/it]"
          ],
          "name": "stderr"
        },
        {
          "output_type": "stream",
          "text": [
            "Epoch   69/200 Batch 0/30\n",
            "Epoch   69/200 Batch 20/30\n"
          ],
          "name": "stdout"
        },
        {
          "output_type": "stream",
          "text": [
            "\r 35%|███▍      | 70/201 [02:15<04:13,  1.93s/it]"
          ],
          "name": "stderr"
        },
        {
          "output_type": "stream",
          "text": [
            "Epoch   70/200 Batch 0/30\n",
            "Epoch   70/200 Batch 20/30\n"
          ],
          "name": "stdout"
        },
        {
          "output_type": "stream",
          "text": [
            "\r 35%|███▌      | 71/201 [02:17<04:11,  1.94s/it]"
          ],
          "name": "stderr"
        },
        {
          "output_type": "stream",
          "text": [
            "Epoch   71/200 Batch 0/30\n",
            "Epoch   71/200 Batch 20/30\n"
          ],
          "name": "stdout"
        },
        {
          "output_type": "stream",
          "text": [
            "\r 36%|███▌      | 72/201 [02:19<04:10,  1.94s/it]"
          ],
          "name": "stderr"
        },
        {
          "output_type": "stream",
          "text": [
            "Epoch   72/200 Batch 0/30\n",
            "Epoch   72/200 Batch 20/30\n"
          ],
          "name": "stdout"
        },
        {
          "output_type": "stream",
          "text": [
            "\r 36%|███▋      | 73/201 [02:21<04:09,  1.95s/it]"
          ],
          "name": "stderr"
        },
        {
          "output_type": "stream",
          "text": [
            "Epoch   73/200 Batch 0/30\n",
            "Epoch   73/200 Batch 20/30\n"
          ],
          "name": "stdout"
        },
        {
          "output_type": "stream",
          "text": [
            "\r 37%|███▋      | 74/201 [02:23<04:07,  1.95s/it]"
          ],
          "name": "stderr"
        },
        {
          "output_type": "stream",
          "text": [
            "Epoch   74/200 Batch 0/30\n",
            "Epoch   74/200 Batch 20/30\n"
          ],
          "name": "stdout"
        },
        {
          "output_type": "stream",
          "text": [
            "\r 37%|███▋      | 75/201 [02:25<04:05,  1.95s/it]"
          ],
          "name": "stderr"
        },
        {
          "output_type": "stream",
          "text": [
            "Epoch   75/200 Batch 0/30\n",
            "Epoch   75/200 Batch 20/30\n"
          ],
          "name": "stdout"
        },
        {
          "output_type": "stream",
          "text": [
            "\r 38%|███▊      | 76/201 [02:27<04:03,  1.95s/it]"
          ],
          "name": "stderr"
        },
        {
          "output_type": "stream",
          "text": [
            "Epoch   76/200 Batch 0/30\n",
            "Epoch   76/200 Batch 20/30\n"
          ],
          "name": "stdout"
        },
        {
          "output_type": "stream",
          "text": [
            "\r 38%|███▊      | 77/201 [02:29<04:01,  1.95s/it]"
          ],
          "name": "stderr"
        },
        {
          "output_type": "stream",
          "text": [
            "Epoch   77/200 Batch 0/30\n",
            "Epoch   77/200 Batch 20/30\n"
          ],
          "name": "stdout"
        },
        {
          "output_type": "stream",
          "text": [
            "\r 39%|███▉      | 78/201 [02:31<03:59,  1.95s/it]"
          ],
          "name": "stderr"
        },
        {
          "output_type": "stream",
          "text": [
            "Epoch   78/200 Batch 0/30\n",
            "Epoch   78/200 Batch 20/30\n"
          ],
          "name": "stdout"
        },
        {
          "output_type": "stream",
          "text": [
            "\r 39%|███▉      | 79/201 [02:33<03:57,  1.95s/it]"
          ],
          "name": "stderr"
        },
        {
          "output_type": "stream",
          "text": [
            "Epoch   79/200 Batch 0/30\n",
            "Epoch   79/200 Batch 20/30\n"
          ],
          "name": "stdout"
        },
        {
          "output_type": "stream",
          "text": [
            "\r 40%|███▉      | 80/201 [02:35<03:55,  1.95s/it]"
          ],
          "name": "stderr"
        },
        {
          "output_type": "stream",
          "text": [
            "Epoch   80/200 Batch 0/30\n",
            "Epoch   80/200 Batch 20/30\n"
          ],
          "name": "stdout"
        },
        {
          "output_type": "stream",
          "text": [
            "\r 40%|████      | 81/201 [02:37<03:53,  1.95s/it]"
          ],
          "name": "stderr"
        },
        {
          "output_type": "stream",
          "text": [
            "Epoch   81/200 Batch 0/30\n",
            "Epoch   81/200 Batch 20/30\n"
          ],
          "name": "stdout"
        },
        {
          "output_type": "stream",
          "text": [
            "\r 41%|████      | 82/201 [02:39<03:51,  1.94s/it]"
          ],
          "name": "stderr"
        },
        {
          "output_type": "stream",
          "text": [
            "Epoch   82/200 Batch 0/30\n",
            "Epoch   82/200 Batch 20/30\n"
          ],
          "name": "stdout"
        },
        {
          "output_type": "stream",
          "text": [
            "\r 41%|████▏     | 83/201 [02:41<03:48,  1.94s/it]"
          ],
          "name": "stderr"
        },
        {
          "output_type": "stream",
          "text": [
            "Epoch   83/200 Batch 0/30\n",
            "Epoch   83/200 Batch 20/30\n"
          ],
          "name": "stdout"
        },
        {
          "output_type": "stream",
          "text": [
            "\r 42%|████▏     | 84/201 [02:43<03:45,  1.93s/it]"
          ],
          "name": "stderr"
        },
        {
          "output_type": "stream",
          "text": [
            "Epoch   84/200 Batch 0/30\n",
            "Epoch   84/200 Batch 20/30\n"
          ],
          "name": "stdout"
        },
        {
          "output_type": "stream",
          "text": [
            "\r 42%|████▏     | 85/201 [02:45<03:44,  1.94s/it]"
          ],
          "name": "stderr"
        },
        {
          "output_type": "stream",
          "text": [
            "Epoch   85/200 Batch 0/30\n",
            "Epoch   85/200 Batch 20/30\n"
          ],
          "name": "stdout"
        },
        {
          "output_type": "stream",
          "text": [
            "\r 43%|████▎     | 86/201 [02:47<03:43,  1.94s/it]"
          ],
          "name": "stderr"
        },
        {
          "output_type": "stream",
          "text": [
            "Epoch   86/200 Batch 0/30\n",
            "Epoch   86/200 Batch 20/30\n"
          ],
          "name": "stdout"
        },
        {
          "output_type": "stream",
          "text": [
            "\r 43%|████▎     | 87/201 [02:49<03:41,  1.95s/it]"
          ],
          "name": "stderr"
        },
        {
          "output_type": "stream",
          "text": [
            "Epoch   87/200 Batch 0/30\n",
            "Epoch   87/200 Batch 20/30\n"
          ],
          "name": "stdout"
        },
        {
          "output_type": "stream",
          "text": [
            "\r 44%|████▍     | 88/201 [02:50<03:39,  1.94s/it]"
          ],
          "name": "stderr"
        },
        {
          "output_type": "stream",
          "text": [
            "Epoch   88/200 Batch 0/30\n",
            "Epoch   88/200 Batch 20/30\n"
          ],
          "name": "stdout"
        },
        {
          "output_type": "stream",
          "text": [
            "\r 44%|████▍     | 89/201 [02:52<03:37,  1.94s/it]"
          ],
          "name": "stderr"
        },
        {
          "output_type": "stream",
          "text": [
            "Epoch   89/200 Batch 0/30\n",
            "Epoch   89/200 Batch 20/30\n"
          ],
          "name": "stdout"
        },
        {
          "output_type": "stream",
          "text": [
            "\r 45%|████▍     | 90/201 [02:54<03:35,  1.94s/it]"
          ],
          "name": "stderr"
        },
        {
          "output_type": "stream",
          "text": [
            "Epoch   90/200 Batch 0/30\n",
            "Epoch   90/200 Batch 20/30\n"
          ],
          "name": "stdout"
        },
        {
          "output_type": "stream",
          "text": [
            "\r 45%|████▌     | 91/201 [02:56<03:32,  1.93s/it]"
          ],
          "name": "stderr"
        },
        {
          "output_type": "stream",
          "text": [
            "Epoch   91/200 Batch 0/30\n",
            "Epoch   91/200 Batch 20/30\n"
          ],
          "name": "stdout"
        },
        {
          "output_type": "stream",
          "text": [
            "\r 46%|████▌     | 92/201 [02:58<03:29,  1.93s/it]"
          ],
          "name": "stderr"
        },
        {
          "output_type": "stream",
          "text": [
            "Epoch   92/200 Batch 0/30\n",
            "Epoch   92/200 Batch 20/30\n"
          ],
          "name": "stdout"
        },
        {
          "output_type": "stream",
          "text": [
            "\r 46%|████▋     | 93/201 [03:00<03:29,  1.94s/it]"
          ],
          "name": "stderr"
        },
        {
          "output_type": "stream",
          "text": [
            "Epoch   93/200 Batch 0/30\n",
            "Epoch   93/200 Batch 20/30\n"
          ],
          "name": "stdout"
        },
        {
          "output_type": "stream",
          "text": [
            "\r 47%|████▋     | 94/201 [03:02<03:27,  1.94s/it]"
          ],
          "name": "stderr"
        },
        {
          "output_type": "stream",
          "text": [
            "Epoch   94/200 Batch 0/30\n",
            "Epoch   94/200 Batch 20/30\n"
          ],
          "name": "stdout"
        },
        {
          "output_type": "stream",
          "text": [
            "\r 47%|████▋     | 95/201 [03:04<03:25,  1.94s/it]"
          ],
          "name": "stderr"
        },
        {
          "output_type": "stream",
          "text": [
            "Epoch   95/200 Batch 0/30\n",
            "Epoch   95/200 Batch 20/30\n"
          ],
          "name": "stdout"
        },
        {
          "output_type": "stream",
          "text": [
            "\r 48%|████▊     | 96/201 [03:06<03:22,  1.93s/it]"
          ],
          "name": "stderr"
        },
        {
          "output_type": "stream",
          "text": [
            "Epoch   96/200 Batch 0/30\n",
            "Epoch   96/200 Batch 20/30\n"
          ],
          "name": "stdout"
        },
        {
          "output_type": "stream",
          "text": [
            "\r 48%|████▊     | 97/201 [03:08<03:19,  1.92s/it]"
          ],
          "name": "stderr"
        },
        {
          "output_type": "stream",
          "text": [
            "Epoch   97/200 Batch 0/30\n",
            "Epoch   97/200 Batch 20/30\n"
          ],
          "name": "stdout"
        },
        {
          "output_type": "stream",
          "text": [
            "\r 49%|████▉     | 98/201 [03:10<03:16,  1.91s/it]"
          ],
          "name": "stderr"
        },
        {
          "output_type": "stream",
          "text": [
            "Epoch   98/200 Batch 0/30\n",
            "Epoch   98/200 Batch 20/30\n"
          ],
          "name": "stdout"
        },
        {
          "output_type": "stream",
          "text": [
            "\r 49%|████▉     | 99/201 [03:12<03:13,  1.90s/it]"
          ],
          "name": "stderr"
        },
        {
          "output_type": "stream",
          "text": [
            "Epoch   99/200 Batch 0/30\n",
            "Epoch   99/200 Batch 20/30\n"
          ],
          "name": "stdout"
        },
        {
          "output_type": "stream",
          "text": [
            "\r 50%|████▉     | 100/201 [03:13<03:11,  1.90s/it]"
          ],
          "name": "stderr"
        },
        {
          "output_type": "stream",
          "text": [
            "Epoch  100/200 Batch 0/30\n",
            "Epoch  100/200 Batch 20/30\n"
          ],
          "name": "stdout"
        },
        {
          "output_type": "stream",
          "text": [
            "\r 50%|█████     | 101/201 [03:15<03:09,  1.90s/it]"
          ],
          "name": "stderr"
        },
        {
          "output_type": "stream",
          "text": [
            "Epoch  101/200 Batch 0/30\n",
            "Epoch  101/200 Batch 20/30\n"
          ],
          "name": "stdout"
        },
        {
          "output_type": "stream",
          "text": [
            "\r 51%|█████     | 102/201 [03:17<03:07,  1.90s/it]"
          ],
          "name": "stderr"
        },
        {
          "output_type": "stream",
          "text": [
            "Epoch  102/200 Batch 0/30\n",
            "Epoch  102/200 Batch 20/30\n"
          ],
          "name": "stdout"
        },
        {
          "output_type": "stream",
          "text": [
            "\r 51%|█████     | 103/201 [03:19<03:05,  1.90s/it]"
          ],
          "name": "stderr"
        },
        {
          "output_type": "stream",
          "text": [
            "Epoch  103/200 Batch 0/30\n",
            "Epoch  103/200 Batch 20/30\n"
          ],
          "name": "stdout"
        },
        {
          "output_type": "stream",
          "text": [
            "\r 52%|█████▏    | 104/201 [03:21<03:05,  1.91s/it]"
          ],
          "name": "stderr"
        },
        {
          "output_type": "stream",
          "text": [
            "Epoch  104/200 Batch 0/30\n",
            "Epoch  104/200 Batch 20/30\n"
          ],
          "name": "stdout"
        },
        {
          "output_type": "stream",
          "text": [
            "\r 52%|█████▏    | 105/201 [03:23<03:02,  1.90s/it]"
          ],
          "name": "stderr"
        },
        {
          "output_type": "stream",
          "text": [
            "Epoch  105/200 Batch 0/30\n",
            "Epoch  105/200 Batch 20/30\n"
          ],
          "name": "stdout"
        },
        {
          "output_type": "stream",
          "text": [
            "\r 53%|█████▎    | 106/201 [03:25<03:01,  1.91s/it]"
          ],
          "name": "stderr"
        },
        {
          "output_type": "stream",
          "text": [
            "Epoch  106/200 Batch 0/30\n",
            "Epoch  106/200 Batch 20/30\n"
          ],
          "name": "stdout"
        },
        {
          "output_type": "stream",
          "text": [
            "\r 53%|█████▎    | 107/201 [03:27<02:59,  1.91s/it]"
          ],
          "name": "stderr"
        },
        {
          "output_type": "stream",
          "text": [
            "Epoch  107/200 Batch 0/30\n",
            "Epoch  107/200 Batch 20/30\n"
          ],
          "name": "stdout"
        },
        {
          "output_type": "stream",
          "text": [
            "\r 54%|█████▎    | 108/201 [03:29<02:58,  1.92s/it]"
          ],
          "name": "stderr"
        },
        {
          "output_type": "stream",
          "text": [
            "Epoch  108/200 Batch 0/30\n",
            "Epoch  108/200 Batch 20/30\n"
          ],
          "name": "stdout"
        },
        {
          "output_type": "stream",
          "text": [
            "\r 54%|█████▍    | 109/201 [03:31<02:56,  1.92s/it]"
          ],
          "name": "stderr"
        },
        {
          "output_type": "stream",
          "text": [
            "Epoch  109/200 Batch 0/30\n",
            "Epoch  109/200 Batch 20/30\n"
          ],
          "name": "stdout"
        },
        {
          "output_type": "stream",
          "text": [
            "\r 55%|█████▍    | 110/201 [03:33<02:54,  1.92s/it]"
          ],
          "name": "stderr"
        },
        {
          "output_type": "stream",
          "text": [
            "Epoch  110/200 Batch 0/30\n",
            "Epoch  110/200 Batch 20/30\n"
          ],
          "name": "stdout"
        },
        {
          "output_type": "stream",
          "text": [
            "\r 55%|█████▌    | 111/201 [03:34<02:51,  1.91s/it]"
          ],
          "name": "stderr"
        },
        {
          "output_type": "stream",
          "text": [
            "Epoch  111/200 Batch 0/30\n",
            "Epoch  111/200 Batch 20/30\n"
          ],
          "name": "stdout"
        },
        {
          "output_type": "stream",
          "text": [
            "\r 56%|█████▌    | 112/201 [03:36<02:49,  1.91s/it]"
          ],
          "name": "stderr"
        },
        {
          "output_type": "stream",
          "text": [
            "Epoch  112/200 Batch 0/30\n",
            "Epoch  112/200 Batch 20/30\n"
          ],
          "name": "stdout"
        },
        {
          "output_type": "stream",
          "text": [
            "\r 56%|█████▌    | 113/201 [03:38<02:47,  1.91s/it]"
          ],
          "name": "stderr"
        },
        {
          "output_type": "stream",
          "text": [
            "Epoch  113/200 Batch 0/30\n",
            "Epoch  113/200 Batch 20/30\n"
          ],
          "name": "stdout"
        },
        {
          "output_type": "stream",
          "text": [
            "\r 57%|█████▋    | 114/201 [03:40<02:47,  1.92s/it]"
          ],
          "name": "stderr"
        },
        {
          "output_type": "stream",
          "text": [
            "Epoch  114/200 Batch 0/30\n",
            "Epoch  114/200 Batch 20/30\n"
          ],
          "name": "stdout"
        },
        {
          "output_type": "stream",
          "text": [
            "\r 57%|█████▋    | 115/201 [03:42<02:45,  1.92s/it]"
          ],
          "name": "stderr"
        },
        {
          "output_type": "stream",
          "text": [
            "Epoch  115/200 Batch 0/30\n",
            "Epoch  115/200 Batch 20/30\n"
          ],
          "name": "stdout"
        },
        {
          "output_type": "stream",
          "text": [
            "\r 58%|█████▊    | 116/201 [03:44<02:43,  1.92s/it]"
          ],
          "name": "stderr"
        },
        {
          "output_type": "stream",
          "text": [
            "Epoch  116/200 Batch 0/30\n",
            "Epoch  116/200 Batch 20/30\n"
          ],
          "name": "stdout"
        },
        {
          "output_type": "stream",
          "text": [
            "\r 58%|█████▊    | 117/201 [03:46<02:41,  1.92s/it]"
          ],
          "name": "stderr"
        },
        {
          "output_type": "stream",
          "text": [
            "Epoch  117/200 Batch 0/30\n",
            "Epoch  117/200 Batch 20/30\n"
          ],
          "name": "stdout"
        },
        {
          "output_type": "stream",
          "text": [
            "\r 59%|█████▊    | 118/201 [03:48<02:39,  1.92s/it]"
          ],
          "name": "stderr"
        },
        {
          "output_type": "stream",
          "text": [
            "Epoch  118/200 Batch 0/30\n",
            "Epoch  118/200 Batch 20/30\n"
          ],
          "name": "stdout"
        },
        {
          "output_type": "stream",
          "text": [
            "\r 59%|█████▉    | 119/201 [03:50<02:36,  1.91s/it]"
          ],
          "name": "stderr"
        },
        {
          "output_type": "stream",
          "text": [
            "Epoch  119/200 Batch 0/30\n",
            "Epoch  119/200 Batch 20/30\n"
          ],
          "name": "stdout"
        },
        {
          "output_type": "stream",
          "text": [
            "\r 60%|█████▉    | 120/201 [03:52<02:34,  1.91s/it]"
          ],
          "name": "stderr"
        },
        {
          "output_type": "stream",
          "text": [
            "Epoch  120/200 Batch 0/30\n",
            "Epoch  120/200 Batch 20/30\n"
          ],
          "name": "stdout"
        },
        {
          "output_type": "stream",
          "text": [
            "\r 60%|██████    | 121/201 [03:54<02:32,  1.91s/it]"
          ],
          "name": "stderr"
        },
        {
          "output_type": "stream",
          "text": [
            "Epoch  121/200 Batch 0/30\n",
            "Epoch  121/200 Batch 20/30\n"
          ],
          "name": "stdout"
        },
        {
          "output_type": "stream",
          "text": [
            "\r 61%|██████    | 122/201 [03:56<02:31,  1.92s/it]"
          ],
          "name": "stderr"
        },
        {
          "output_type": "stream",
          "text": [
            "Epoch  122/200 Batch 0/30\n",
            "Epoch  122/200 Batch 20/30\n"
          ],
          "name": "stdout"
        },
        {
          "output_type": "stream",
          "text": [
            "\r 61%|██████    | 123/201 [03:58<02:31,  1.94s/it]"
          ],
          "name": "stderr"
        },
        {
          "output_type": "stream",
          "text": [
            "Epoch  123/200 Batch 0/30\n",
            "Epoch  123/200 Batch 20/30\n"
          ],
          "name": "stdout"
        },
        {
          "output_type": "stream",
          "text": [
            "\r 62%|██████▏   | 124/201 [04:00<02:29,  1.94s/it]"
          ],
          "name": "stderr"
        },
        {
          "output_type": "stream",
          "text": [
            "Epoch  124/200 Batch 0/30\n",
            "Epoch  124/200 Batch 20/30\n"
          ],
          "name": "stdout"
        },
        {
          "output_type": "stream",
          "text": [
            "\r 62%|██████▏   | 125/201 [04:01<02:27,  1.94s/it]"
          ],
          "name": "stderr"
        },
        {
          "output_type": "stream",
          "text": [
            "Epoch  125/200 Batch 0/30\n",
            "Epoch  125/200 Batch 20/30\n"
          ],
          "name": "stdout"
        },
        {
          "output_type": "stream",
          "text": [
            "\r 63%|██████▎   | 126/201 [04:03<02:25,  1.94s/it]"
          ],
          "name": "stderr"
        },
        {
          "output_type": "stream",
          "text": [
            "Epoch  126/200 Batch 0/30\n",
            "Epoch  126/200 Batch 20/30\n"
          ],
          "name": "stdout"
        },
        {
          "output_type": "stream",
          "text": [
            "\r 63%|██████▎   | 127/201 [04:05<02:24,  1.95s/it]"
          ],
          "name": "stderr"
        },
        {
          "output_type": "stream",
          "text": [
            "Epoch  127/200 Batch 0/30\n",
            "Epoch  127/200 Batch 20/30\n"
          ],
          "name": "stdout"
        },
        {
          "output_type": "stream",
          "text": [
            "\r 64%|██████▎   | 128/201 [04:07<02:23,  1.97s/it]"
          ],
          "name": "stderr"
        },
        {
          "output_type": "stream",
          "text": [
            "Epoch  128/200 Batch 0/30\n",
            "Epoch  128/200 Batch 20/30\n"
          ],
          "name": "stdout"
        },
        {
          "output_type": "stream",
          "text": [
            "\r 64%|██████▍   | 129/201 [04:09<02:21,  1.96s/it]"
          ],
          "name": "stderr"
        },
        {
          "output_type": "stream",
          "text": [
            "Epoch  129/200 Batch 0/30\n",
            "Epoch  129/200 Batch 20/30\n"
          ],
          "name": "stdout"
        },
        {
          "output_type": "stream",
          "text": [
            "\r 65%|██████▍   | 130/201 [04:11<02:18,  1.95s/it]"
          ],
          "name": "stderr"
        },
        {
          "output_type": "stream",
          "text": [
            "Epoch  130/200 Batch 0/30\n",
            "Epoch  130/200 Batch 20/30\n"
          ],
          "name": "stdout"
        },
        {
          "output_type": "stream",
          "text": [
            "\r 65%|██████▌   | 131/201 [04:13<02:16,  1.95s/it]"
          ],
          "name": "stderr"
        },
        {
          "output_type": "stream",
          "text": [
            "Epoch  131/200 Batch 0/30\n",
            "Epoch  131/200 Batch 20/30\n"
          ],
          "name": "stdout"
        },
        {
          "output_type": "stream",
          "text": [
            "\r 66%|██████▌   | 132/201 [04:15<02:14,  1.95s/it]"
          ],
          "name": "stderr"
        },
        {
          "output_type": "stream",
          "text": [
            "Epoch  132/200 Batch 0/30\n",
            "Epoch  132/200 Batch 20/30\n"
          ],
          "name": "stdout"
        },
        {
          "output_type": "stream",
          "text": [
            "\r 66%|██████▌   | 133/201 [04:17<02:13,  1.97s/it]"
          ],
          "name": "stderr"
        },
        {
          "output_type": "stream",
          "text": [
            "Epoch  133/200 Batch 0/30\n",
            "Epoch  133/200 Batch 20/30\n"
          ],
          "name": "stdout"
        },
        {
          "output_type": "stream",
          "text": [
            "\r 67%|██████▋   | 134/201 [04:19<02:11,  1.96s/it]"
          ],
          "name": "stderr"
        },
        {
          "output_type": "stream",
          "text": [
            "Epoch  134/200 Batch 0/30\n",
            "Epoch  134/200 Batch 20/30\n"
          ],
          "name": "stdout"
        },
        {
          "output_type": "stream",
          "text": [
            "\r 67%|██████▋   | 135/201 [04:21<02:09,  1.96s/it]"
          ],
          "name": "stderr"
        },
        {
          "output_type": "stream",
          "text": [
            "Epoch  135/200 Batch 0/30\n",
            "Epoch  135/200 Batch 20/30\n"
          ],
          "name": "stdout"
        },
        {
          "output_type": "stream",
          "text": [
            "\r 68%|██████▊   | 136/201 [04:23<02:08,  1.97s/it]"
          ],
          "name": "stderr"
        },
        {
          "output_type": "stream",
          "text": [
            "Epoch  136/200 Batch 0/30\n",
            "Epoch  136/200 Batch 20/30\n"
          ],
          "name": "stdout"
        },
        {
          "output_type": "stream",
          "text": [
            "\r 68%|██████▊   | 137/201 [04:25<02:06,  1.98s/it]"
          ],
          "name": "stderr"
        },
        {
          "output_type": "stream",
          "text": [
            "Epoch  137/200 Batch 0/30\n",
            "Epoch  137/200 Batch 20/30\n"
          ],
          "name": "stdout"
        },
        {
          "output_type": "stream",
          "text": [
            "\r 69%|██████▊   | 138/201 [04:27<02:05,  1.99s/it]"
          ],
          "name": "stderr"
        },
        {
          "output_type": "stream",
          "text": [
            "Epoch  138/200 Batch 0/30\n",
            "Epoch  138/200 Batch 20/30\n"
          ],
          "name": "stdout"
        },
        {
          "output_type": "stream",
          "text": [
            "\r 69%|██████▉   | 139/201 [04:29<02:03,  2.00s/it]"
          ],
          "name": "stderr"
        },
        {
          "output_type": "stream",
          "text": [
            "Epoch  139/200 Batch 0/30\n",
            "Epoch  139/200 Batch 20/30\n"
          ],
          "name": "stdout"
        },
        {
          "output_type": "stream",
          "text": [
            "\r 70%|██████▉   | 140/201 [04:31<02:02,  2.00s/it]"
          ],
          "name": "stderr"
        },
        {
          "output_type": "stream",
          "text": [
            "Epoch  140/200 Batch 0/30\n",
            "Epoch  140/200 Batch 20/30\n"
          ],
          "name": "stdout"
        },
        {
          "output_type": "stream",
          "text": [
            "\r 70%|███████   | 141/201 [04:33<01:59,  2.00s/it]"
          ],
          "name": "stderr"
        },
        {
          "output_type": "stream",
          "text": [
            "Epoch  141/200 Batch 0/30\n",
            "Epoch  141/200 Batch 20/30\n"
          ],
          "name": "stdout"
        },
        {
          "output_type": "stream",
          "text": [
            "\r 71%|███████   | 142/201 [04:35<01:57,  1.99s/it]"
          ],
          "name": "stderr"
        },
        {
          "output_type": "stream",
          "text": [
            "Epoch  142/200 Batch 0/30\n",
            "Epoch  142/200 Batch 20/30\n"
          ],
          "name": "stdout"
        },
        {
          "output_type": "stream",
          "text": [
            "\r 71%|███████   | 143/201 [04:37<01:55,  1.99s/it]"
          ],
          "name": "stderr"
        },
        {
          "output_type": "stream",
          "text": [
            "Epoch  143/200 Batch 0/30\n",
            "Epoch  143/200 Batch 20/30\n"
          ],
          "name": "stdout"
        },
        {
          "output_type": "stream",
          "text": [
            "\r 72%|███████▏  | 144/201 [04:39<01:53,  1.99s/it]"
          ],
          "name": "stderr"
        },
        {
          "output_type": "stream",
          "text": [
            "Epoch  144/200 Batch 0/30\n",
            "Epoch  144/200 Batch 20/30\n"
          ],
          "name": "stdout"
        },
        {
          "output_type": "stream",
          "text": [
            "\r 72%|███████▏  | 145/201 [04:41<01:51,  1.98s/it]"
          ],
          "name": "stderr"
        },
        {
          "output_type": "stream",
          "text": [
            "Epoch  145/200 Batch 0/30\n",
            "Epoch  145/200 Batch 20/30\n"
          ],
          "name": "stdout"
        },
        {
          "output_type": "stream",
          "text": [
            "\r 73%|███████▎  | 146/201 [04:43<01:48,  1.98s/it]"
          ],
          "name": "stderr"
        },
        {
          "output_type": "stream",
          "text": [
            "Epoch  146/200 Batch 0/30\n",
            "Epoch  146/200 Batch 20/30\n"
          ],
          "name": "stdout"
        },
        {
          "output_type": "stream",
          "text": [
            "\r 73%|███████▎  | 147/201 [04:45<01:47,  1.98s/it]"
          ],
          "name": "stderr"
        },
        {
          "output_type": "stream",
          "text": [
            "Epoch  147/200 Batch 0/30\n",
            "Epoch  147/200 Batch 20/30\n"
          ],
          "name": "stdout"
        },
        {
          "output_type": "stream",
          "text": [
            "\r 74%|███████▎  | 148/201 [04:47<01:45,  1.98s/it]"
          ],
          "name": "stderr"
        },
        {
          "output_type": "stream",
          "text": [
            "Epoch  148/200 Batch 0/30\n",
            "Epoch  148/200 Batch 20/30\n"
          ],
          "name": "stdout"
        },
        {
          "output_type": "stream",
          "text": [
            "\r 74%|███████▍  | 149/201 [04:49<01:42,  1.97s/it]"
          ],
          "name": "stderr"
        },
        {
          "output_type": "stream",
          "text": [
            "Epoch  149/200 Batch 0/30\n",
            "Epoch  149/200 Batch 20/30\n"
          ],
          "name": "stdout"
        },
        {
          "output_type": "stream",
          "text": [
            "\r 75%|███████▍  | 150/201 [04:51<01:40,  1.96s/it]"
          ],
          "name": "stderr"
        },
        {
          "output_type": "stream",
          "text": [
            "Epoch  150/200 Batch 0/30\n",
            "Epoch  150/200 Batch 20/30\n"
          ],
          "name": "stdout"
        },
        {
          "output_type": "stream",
          "text": [
            "\r 75%|███████▌  | 151/201 [04:53<01:37,  1.96s/it]"
          ],
          "name": "stderr"
        },
        {
          "output_type": "stream",
          "text": [
            "Epoch  151/200 Batch 0/30\n",
            "Epoch  151/200 Batch 20/30\n"
          ],
          "name": "stdout"
        },
        {
          "output_type": "stream",
          "text": [
            "\r 76%|███████▌  | 152/201 [04:55<01:35,  1.94s/it]"
          ],
          "name": "stderr"
        },
        {
          "output_type": "stream",
          "text": [
            "Epoch  152/200 Batch 0/30\n",
            "Epoch  152/200 Batch 20/30\n"
          ],
          "name": "stdout"
        },
        {
          "output_type": "stream",
          "text": [
            "\r 76%|███████▌  | 153/201 [04:57<01:33,  1.94s/it]"
          ],
          "name": "stderr"
        },
        {
          "output_type": "stream",
          "text": [
            "Epoch  153/200 Batch 0/30\n",
            "Epoch  153/200 Batch 20/30\n"
          ],
          "name": "stdout"
        },
        {
          "output_type": "stream",
          "text": [
            "\r 77%|███████▋  | 154/201 [04:59<01:31,  1.94s/it]"
          ],
          "name": "stderr"
        },
        {
          "output_type": "stream",
          "text": [
            "Epoch  154/200 Batch 0/30\n",
            "Epoch  154/200 Batch 20/30\n"
          ],
          "name": "stdout"
        },
        {
          "output_type": "stream",
          "text": [
            "\r 77%|███████▋  | 155/201 [05:01<01:29,  1.94s/it]"
          ],
          "name": "stderr"
        },
        {
          "output_type": "stream",
          "text": [
            "Epoch  155/200 Batch 0/30\n",
            "Epoch  155/200 Batch 20/30\n"
          ],
          "name": "stdout"
        },
        {
          "output_type": "stream",
          "text": [
            "\r 78%|███████▊  | 156/201 [05:02<01:27,  1.94s/it]"
          ],
          "name": "stderr"
        },
        {
          "output_type": "stream",
          "text": [
            "Epoch  156/200 Batch 0/30\n",
            "Epoch  156/200 Batch 20/30\n"
          ],
          "name": "stdout"
        },
        {
          "output_type": "stream",
          "text": [
            "\r 78%|███████▊  | 157/201 [05:04<01:25,  1.94s/it]"
          ],
          "name": "stderr"
        },
        {
          "output_type": "stream",
          "text": [
            "Epoch  157/200 Batch 0/30\n",
            "Epoch  157/200 Batch 20/30\n"
          ],
          "name": "stdout"
        },
        {
          "output_type": "stream",
          "text": [
            "\r 79%|███████▊  | 158/201 [05:06<01:23,  1.94s/it]"
          ],
          "name": "stderr"
        },
        {
          "output_type": "stream",
          "text": [
            "Epoch  158/200 Batch 0/30\n",
            "Epoch  158/200 Batch 20/30\n"
          ],
          "name": "stdout"
        },
        {
          "output_type": "stream",
          "text": [
            "\r 79%|███████▉  | 159/201 [05:08<01:21,  1.94s/it]"
          ],
          "name": "stderr"
        },
        {
          "output_type": "stream",
          "text": [
            "Epoch  159/200 Batch 0/30\n",
            "Epoch  159/200 Batch 20/30\n"
          ],
          "name": "stdout"
        },
        {
          "output_type": "stream",
          "text": [
            "\r 80%|███████▉  | 160/201 [05:10<01:19,  1.94s/it]"
          ],
          "name": "stderr"
        },
        {
          "output_type": "stream",
          "text": [
            "Epoch  160/200 Batch 0/30\n",
            "Epoch  160/200 Batch 20/30\n"
          ],
          "name": "stdout"
        },
        {
          "output_type": "stream",
          "text": [
            "\r 80%|████████  | 161/201 [05:12<01:17,  1.93s/it]"
          ],
          "name": "stderr"
        },
        {
          "output_type": "stream",
          "text": [
            "Epoch  161/200 Batch 0/30\n",
            "Epoch  161/200 Batch 20/30\n"
          ],
          "name": "stdout"
        },
        {
          "output_type": "stream",
          "text": [
            "\r 81%|████████  | 162/201 [05:14<01:15,  1.93s/it]"
          ],
          "name": "stderr"
        },
        {
          "output_type": "stream",
          "text": [
            "Epoch  162/200 Batch 0/30\n",
            "Epoch  162/200 Batch 20/30\n"
          ],
          "name": "stdout"
        },
        {
          "output_type": "stream",
          "text": [
            "\r 81%|████████  | 163/201 [05:16<01:13,  1.93s/it]"
          ],
          "name": "stderr"
        },
        {
          "output_type": "stream",
          "text": [
            "Epoch  163/200 Batch 0/30\n",
            "Epoch  163/200 Batch 20/30\n"
          ],
          "name": "stdout"
        },
        {
          "output_type": "stream",
          "text": [
            "\r 82%|████████▏ | 164/201 [05:18<01:11,  1.93s/it]"
          ],
          "name": "stderr"
        },
        {
          "output_type": "stream",
          "text": [
            "Epoch  164/200 Batch 0/30\n",
            "Epoch  164/200 Batch 20/30\n"
          ],
          "name": "stdout"
        },
        {
          "output_type": "stream",
          "text": [
            "\r 82%|████████▏ | 165/201 [05:20<01:09,  1.94s/it]"
          ],
          "name": "stderr"
        },
        {
          "output_type": "stream",
          "text": [
            "Epoch  165/200 Batch 0/30\n",
            "Epoch  165/200 Batch 20/30\n"
          ],
          "name": "stdout"
        },
        {
          "output_type": "stream",
          "text": [
            "\r 83%|████████▎ | 166/201 [05:22<01:07,  1.93s/it]"
          ],
          "name": "stderr"
        },
        {
          "output_type": "stream",
          "text": [
            "Epoch  166/200 Batch 0/30\n",
            "Epoch  166/200 Batch 20/30\n"
          ],
          "name": "stdout"
        },
        {
          "output_type": "stream",
          "text": [
            "\r 83%|████████▎ | 167/201 [05:24<01:05,  1.93s/it]"
          ],
          "name": "stderr"
        },
        {
          "output_type": "stream",
          "text": [
            "Epoch  167/200 Batch 0/30\n",
            "Epoch  167/200 Batch 20/30\n"
          ],
          "name": "stdout"
        },
        {
          "output_type": "stream",
          "text": [
            "\r 84%|████████▎ | 168/201 [05:26<01:03,  1.93s/it]"
          ],
          "name": "stderr"
        },
        {
          "output_type": "stream",
          "text": [
            "Epoch  168/200 Batch 0/30\n",
            "Epoch  168/200 Batch 20/30\n"
          ],
          "name": "stdout"
        },
        {
          "output_type": "stream",
          "text": [
            "\r 84%|████████▍ | 169/201 [05:28<01:01,  1.93s/it]"
          ],
          "name": "stderr"
        },
        {
          "output_type": "stream",
          "text": [
            "Epoch  169/200 Batch 0/30\n",
            "Epoch  169/200 Batch 20/30\n"
          ],
          "name": "stdout"
        },
        {
          "output_type": "stream",
          "text": [
            "\r 85%|████████▍ | 170/201 [05:30<00:59,  1.93s/it]"
          ],
          "name": "stderr"
        },
        {
          "output_type": "stream",
          "text": [
            "Epoch  170/200 Batch 0/30\n",
            "Epoch  170/200 Batch 20/30\n"
          ],
          "name": "stdout"
        },
        {
          "output_type": "stream",
          "text": [
            "\r 85%|████████▌ | 171/201 [05:31<00:57,  1.93s/it]"
          ],
          "name": "stderr"
        },
        {
          "output_type": "stream",
          "text": [
            "Epoch  171/200 Batch 0/30\n",
            "Epoch  171/200 Batch 20/30\n"
          ],
          "name": "stdout"
        },
        {
          "output_type": "stream",
          "text": [
            "\r 86%|████████▌ | 172/201 [05:33<00:55,  1.93s/it]"
          ],
          "name": "stderr"
        },
        {
          "output_type": "stream",
          "text": [
            "Epoch  172/200 Batch 0/30\n",
            "Epoch  172/200 Batch 20/30\n"
          ],
          "name": "stdout"
        },
        {
          "output_type": "stream",
          "text": [
            "\r 86%|████████▌ | 173/201 [05:35<00:54,  1.93s/it]"
          ],
          "name": "stderr"
        },
        {
          "output_type": "stream",
          "text": [
            "Epoch  173/200 Batch 0/30\n",
            "Epoch  173/200 Batch 20/30\n"
          ],
          "name": "stdout"
        },
        {
          "output_type": "stream",
          "text": [
            "\r 87%|████████▋ | 174/201 [05:37<00:52,  1.93s/it]"
          ],
          "name": "stderr"
        },
        {
          "output_type": "stream",
          "text": [
            "Epoch  174/200 Batch 0/30\n",
            "Epoch  174/200 Batch 20/30\n"
          ],
          "name": "stdout"
        },
        {
          "output_type": "stream",
          "text": [
            "\r 87%|████████▋ | 175/201 [05:39<00:50,  1.93s/it]"
          ],
          "name": "stderr"
        },
        {
          "output_type": "stream",
          "text": [
            "Epoch  175/200 Batch 0/30\n",
            "Epoch  175/200 Batch 20/30\n"
          ],
          "name": "stdout"
        },
        {
          "output_type": "stream",
          "text": [
            "\r 88%|████████▊ | 176/201 [05:41<00:48,  1.93s/it]"
          ],
          "name": "stderr"
        },
        {
          "output_type": "stream",
          "text": [
            "Epoch  176/200 Batch 0/30\n",
            "Epoch  176/200 Batch 20/30\n"
          ],
          "name": "stdout"
        },
        {
          "output_type": "stream",
          "text": [
            "\r 88%|████████▊ | 177/201 [05:43<00:46,  1.93s/it]"
          ],
          "name": "stderr"
        },
        {
          "output_type": "stream",
          "text": [
            "Epoch  177/200 Batch 0/30\n",
            "Epoch  177/200 Batch 20/30\n"
          ],
          "name": "stdout"
        },
        {
          "output_type": "stream",
          "text": [
            "\r 89%|████████▊ | 178/201 [05:45<00:44,  1.93s/it]"
          ],
          "name": "stderr"
        },
        {
          "output_type": "stream",
          "text": [
            "Epoch  178/200 Batch 0/30\n",
            "Epoch  178/200 Batch 20/30\n"
          ],
          "name": "stdout"
        },
        {
          "output_type": "stream",
          "text": [
            "\r 89%|████████▉ | 179/201 [05:47<00:42,  1.93s/it]"
          ],
          "name": "stderr"
        },
        {
          "output_type": "stream",
          "text": [
            "Epoch  179/200 Batch 0/30\n",
            "Epoch  179/200 Batch 20/30\n"
          ],
          "name": "stdout"
        },
        {
          "output_type": "stream",
          "text": [
            "\r 90%|████████▉ | 180/201 [05:49<00:40,  1.94s/it]"
          ],
          "name": "stderr"
        },
        {
          "output_type": "stream",
          "text": [
            "Epoch  180/200 Batch 0/30\n",
            "Epoch  180/200 Batch 20/30\n"
          ],
          "name": "stdout"
        },
        {
          "output_type": "stream",
          "text": [
            "\r 90%|█████████ | 181/201 [05:51<00:38,  1.94s/it]"
          ],
          "name": "stderr"
        },
        {
          "output_type": "stream",
          "text": [
            "Epoch  181/200 Batch 0/30\n",
            "Epoch  181/200 Batch 20/30\n"
          ],
          "name": "stdout"
        },
        {
          "output_type": "stream",
          "text": [
            "\r 91%|█████████ | 182/201 [05:53<00:36,  1.93s/it]"
          ],
          "name": "stderr"
        },
        {
          "output_type": "stream",
          "text": [
            "Epoch  182/200 Batch 0/30\n",
            "Epoch  182/200 Batch 20/30\n"
          ],
          "name": "stdout"
        },
        {
          "output_type": "stream",
          "text": [
            "\r 91%|█████████ | 183/201 [05:55<00:34,  1.93s/it]"
          ],
          "name": "stderr"
        },
        {
          "output_type": "stream",
          "text": [
            "Epoch  183/200 Batch 0/30\n",
            "Epoch  183/200 Batch 20/30\n"
          ],
          "name": "stdout"
        },
        {
          "output_type": "stream",
          "text": [
            "\r 92%|█████████▏| 184/201 [05:57<00:32,  1.92s/it]"
          ],
          "name": "stderr"
        },
        {
          "output_type": "stream",
          "text": [
            "Epoch  184/200 Batch 0/30\n",
            "Epoch  184/200 Batch 20/30\n"
          ],
          "name": "stdout"
        },
        {
          "output_type": "stream",
          "text": [
            "\r 92%|█████████▏| 185/201 [05:58<00:30,  1.93s/it]"
          ],
          "name": "stderr"
        },
        {
          "output_type": "stream",
          "text": [
            "Epoch  185/200 Batch 0/30\n",
            "Epoch  185/200 Batch 20/30\n"
          ],
          "name": "stdout"
        },
        {
          "output_type": "stream",
          "text": [
            "\r 93%|█████████▎| 186/201 [06:00<00:28,  1.93s/it]"
          ],
          "name": "stderr"
        },
        {
          "output_type": "stream",
          "text": [
            "Epoch  186/200 Batch 0/30\n",
            "Epoch  186/200 Batch 20/30\n"
          ],
          "name": "stdout"
        },
        {
          "output_type": "stream",
          "text": [
            "\r 93%|█████████▎| 187/201 [06:02<00:26,  1.93s/it]"
          ],
          "name": "stderr"
        },
        {
          "output_type": "stream",
          "text": [
            "Epoch  187/200 Batch 0/30\n",
            "Epoch  187/200 Batch 20/30\n"
          ],
          "name": "stdout"
        },
        {
          "output_type": "stream",
          "text": [
            "\r 94%|█████████▎| 188/201 [06:04<00:25,  1.93s/it]"
          ],
          "name": "stderr"
        },
        {
          "output_type": "stream",
          "text": [
            "Epoch  188/200 Batch 0/30\n",
            "Epoch  188/200 Batch 20/30\n"
          ],
          "name": "stdout"
        },
        {
          "output_type": "stream",
          "text": [
            "\r 94%|█████████▍| 189/201 [06:06<00:23,  1.92s/it]"
          ],
          "name": "stderr"
        },
        {
          "output_type": "stream",
          "text": [
            "Epoch  189/200 Batch 0/30\n",
            "Epoch  189/200 Batch 20/30\n"
          ],
          "name": "stdout"
        },
        {
          "output_type": "stream",
          "text": [
            "\r 95%|█████████▍| 190/201 [06:08<00:21,  1.93s/it]"
          ],
          "name": "stderr"
        },
        {
          "output_type": "stream",
          "text": [
            "Epoch  190/200 Batch 0/30\n",
            "Epoch  190/200 Batch 20/30\n"
          ],
          "name": "stdout"
        },
        {
          "output_type": "stream",
          "text": [
            "\r 95%|█████████▌| 191/201 [06:10<00:19,  1.93s/it]"
          ],
          "name": "stderr"
        },
        {
          "output_type": "stream",
          "text": [
            "Epoch  191/200 Batch 0/30\n",
            "Epoch  191/200 Batch 20/30\n"
          ],
          "name": "stdout"
        },
        {
          "output_type": "stream",
          "text": [
            "\r 96%|█████████▌| 192/201 [06:12<00:17,  1.93s/it]"
          ],
          "name": "stderr"
        },
        {
          "output_type": "stream",
          "text": [
            "Epoch  192/200 Batch 0/30\n",
            "Epoch  192/200 Batch 20/30\n"
          ],
          "name": "stdout"
        },
        {
          "output_type": "stream",
          "text": [
            "\r 96%|█████████▌| 193/201 [06:14<00:15,  1.93s/it]"
          ],
          "name": "stderr"
        },
        {
          "output_type": "stream",
          "text": [
            "Epoch  193/200 Batch 0/30\n",
            "Epoch  193/200 Batch 20/30\n"
          ],
          "name": "stdout"
        },
        {
          "output_type": "stream",
          "text": [
            "\r 97%|█████████▋| 194/201 [06:16<00:13,  1.93s/it]"
          ],
          "name": "stderr"
        },
        {
          "output_type": "stream",
          "text": [
            "Epoch  194/200 Batch 0/30\n",
            "Epoch  194/200 Batch 20/30\n"
          ],
          "name": "stdout"
        },
        {
          "output_type": "stream",
          "text": [
            "\r 97%|█████████▋| 195/201 [06:18<00:11,  1.93s/it]"
          ],
          "name": "stderr"
        },
        {
          "output_type": "stream",
          "text": [
            "Epoch  195/200 Batch 0/30\n",
            "Epoch  195/200 Batch 20/30\n"
          ],
          "name": "stdout"
        },
        {
          "output_type": "stream",
          "text": [
            "\r 98%|█████████▊| 196/201 [06:20<00:09,  1.93s/it]"
          ],
          "name": "stderr"
        },
        {
          "output_type": "stream",
          "text": [
            "Epoch  196/200 Batch 0/30\n",
            "Epoch  196/200 Batch 20/30\n"
          ],
          "name": "stdout"
        },
        {
          "output_type": "stream",
          "text": [
            "\r 98%|█████████▊| 197/201 [06:22<00:07,  1.93s/it]"
          ],
          "name": "stderr"
        },
        {
          "output_type": "stream",
          "text": [
            "Epoch  197/200 Batch 0/30\n",
            "Epoch  197/200 Batch 20/30\n"
          ],
          "name": "stdout"
        },
        {
          "output_type": "stream",
          "text": [
            "\r 99%|█████████▊| 198/201 [06:24<00:05,  1.92s/it]"
          ],
          "name": "stderr"
        },
        {
          "output_type": "stream",
          "text": [
            "Epoch  198/200 Batch 0/30\n",
            "Epoch  198/200 Batch 20/30\n"
          ],
          "name": "stdout"
        },
        {
          "output_type": "stream",
          "text": [
            "\r 99%|█████████▉| 199/201 [06:25<00:03,  1.92s/it]"
          ],
          "name": "stderr"
        },
        {
          "output_type": "stream",
          "text": [
            "Epoch  199/200 Batch 0/30\n",
            "Epoch  199/200 Batch 20/30\n"
          ],
          "name": "stdout"
        },
        {
          "output_type": "stream",
          "text": [
            "\r100%|█████████▉| 200/201 [06:27<00:01,  1.92s/it]"
          ],
          "name": "stderr"
        },
        {
          "output_type": "stream",
          "text": [
            "Epoch  200/200 Batch 0/30\n",
            "Epoch  200/200 Batch 20/30\n"
          ],
          "name": "stdout"
        },
        {
          "output_type": "stream",
          "text": [
            "100%|██████████| 201/201 [06:29<00:00,  1.94s/it]\n",
            " 35%|███▌      | 7/20 [00:00<00:00, 59.86it/s]"
          ],
          "name": "stderr"
        },
        {
          "output_type": "stream",
          "text": [
            "Finish training.\n",
            "\n",
            "Finish build model.\n"
          ],
          "name": "stdout"
        },
        {
          "output_type": "stream",
          "text": [
            "100%|██████████| 20/20 [00:00<00:00, 58.68it/s]\n"
          ],
          "name": "stderr"
        },
        {
          "output_type": "stream",
          "text": [
            "Testing...\n",
            "total :  100\n",
            "Accuracy 0.850000\n"
          ],
          "name": "stdout"
        }
      ]
    }
  ]
}